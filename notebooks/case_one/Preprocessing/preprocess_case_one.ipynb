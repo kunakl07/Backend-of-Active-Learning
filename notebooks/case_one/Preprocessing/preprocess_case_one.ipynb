{
  "nbformat": 4,
  "nbformat_minor": 0,
  "metadata": {
    "colab": {
      "name": "preprocess_case_one.ipynb",
      "provenance": [],
      "collapsed_sections": [],
      "toc_visible": true,
      "include_colab_link": true
    },
    "kernelspec": {
      "name": "python3",
      "display_name": "Python 3"
    },
    "accelerator": "TPU"
  },
  "cells": [
    {
      "cell_type": "markdown",
      "metadata": {
        "id": "view-in-github",
        "colab_type": "text"
      },
      "source": [
        "<a href=\"https://colab.research.google.com/github/kunakl07/Backend-of-Active-Learning/blob/pre_spec_al/Case_one/Preprocessing/preprocess_case_one.ipynb\" target=\"_parent\"><img src=\"https://colab.research.google.com/assets/colab-badge.svg\" alt=\"Open In Colab\"/></a>"
      ]
    },
    {
      "cell_type": "markdown",
      "metadata": {
        "id": "BBRioToZ3PaM",
        "colab_type": "text"
      },
      "source": [
        "#![Flowchart](https://drive.google.com/file/d/1r0IVntROxR92vBDzbHn1aRgH0HFYLlu5/view?usp=sharing)\n",
        "\n",
        "\n",
        "\n",
        "![Here is the flowchart of the steps that I hve taken in my notebook](https://drive.google.com/uc?export=view&id=1DnCGt0QxE1W7JDyiS35ayDv3GQGCSM8Q)"
      ]
    },
    {
      "cell_type": "markdown",
      "metadata": {
        "id": "LxpJFIwfzLP_",
        "colab_type": "text"
      },
      "source": [
        "# Contents\n",
        "\n",
        "- [Preprocessing](#Preprocessing-Stage)  \n",
        "  - [Importing packages](#Importing-the-necessary-packages)  \n",
        "  - [Standardize](#Standardize-the-tsv-files)  \n",
        "  - [Extract positive and negative calls from audio using tsv's](#Extract)  \n",
        "  - [Plot Spectrograms](#Spec-generate)\n",
        "  - [Same steps for test data](#test-data)  \n",
        "- [Training Stage](#Training-Stage)  \n",
        "   - [Basic CNN model](#Basic-CNN-model)\n",
        "   - [VGG16-model](#VGG-16-model)"
      ]
    },
    {
      "cell_type": "markdown",
      "metadata": {
        "id": "fJV-F9Xuq7VD",
        "colab_type": "text"
      },
      "source": [
        "#**Preprocessing Stage**\n",
        "\n"
      ]
    },
    {
      "cell_type": "markdown",
      "metadata": {
        "id": "5j8ULRbMVahu",
        "colab_type": "text"
      },
      "source": [
        "###Downloading the PodcastR2,PodcastR3 and Podcast_Test files and extracting them.\n",
        "####Since these files contains the calls of SRKW, only podcastR2 and podcastR3 have been downloaded and used"
      ]
    },
    {
      "cell_type": "code",
      "metadata": {
        "id": "WtdC6aYL_7kv",
        "colab_type": "code",
        "colab": {
          "base_uri": "https://localhost:8080/",
          "height": 1000
        },
        "outputId": "58105308-5b61-4680-f28e-c807cda735d9"
      },
      "source": [
        "!apt-get -qq install awscli\n",
        "!aws --no-sign-request s3 cp s3://acoustic-sandbox/labeled-data/detection/train/OrcasoundLab07052019_PodCastRound2.tar.gz ./ \n",
        "!aws --no-sign-request s3 cp s3://acoustic-sandbox/labeled-data/detection/train/OrcasoundLab09272017_PodCastRound3.tar.gz ./\n",
        "!aws --no-sign-request s3 cp s3://acoustic-sandbox/labeled-data/detection/test/OrcasoundLab09272017_Test.tar.gz ./\n",
        "!tar -xzf OrcasoundLab09272017_PodCastRound3.tar.gz\n",
        "!tar -xzf OrcasoundLab07052019_PodCastRound2.tar.gz\n",
        "!tar -xzf OrcasoundLab09272017_Test.tar.gz\n",
        "!pip -q install ketos==2.0.0b4\n",
        "!pip -q install pysoundfile\n",
        "!pip install pydub\n"
      ],
      "execution_count": null,
      "outputs": [
        {
          "output_type": "stream",
          "text": [
            "Selecting previously unselected package sgml-base.\n",
            "(Reading database ... \r(Reading database ... 5%\r(Reading database ... 10%\r(Reading database ... 15%\r(Reading database ... 20%\r(Reading database ... 25%\r(Reading database ... 30%\r(Reading database ... 35%\r(Reading database ... 40%\r(Reading database ... 45%\r(Reading database ... 50%\r(Reading database ... 55%\r(Reading database ... 60%\r(Reading database ... 65%\r(Reading database ... 70%\r(Reading database ... 75%\r(Reading database ... 80%\r(Reading database ... 85%\r(Reading database ... 90%\r(Reading database ... 95%\r(Reading database ... 100%\r(Reading database ... 144328 files and directories currently installed.)\n",
            "Preparing to unpack .../00-sgml-base_1.29_all.deb ...\n",
            "Unpacking sgml-base (1.29) ...\n",
            "Selecting previously unselected package python3-yaml.\n",
            "Preparing to unpack .../01-python3-yaml_3.12-1build2_amd64.deb ...\n",
            "Unpacking python3-yaml (3.12-1build2) ...\n",
            "Selecting previously unselected package python3-six.\n",
            "Preparing to unpack .../02-python3-six_1.11.0-2_all.deb ...\n",
            "Unpacking python3-six (1.11.0-2) ...\n",
            "Selecting previously unselected package python3-dateutil.\n",
            "Preparing to unpack .../03-python3-dateutil_2.6.1-1_all.deb ...\n",
            "Unpacking python3-dateutil (2.6.1-1) ...\n",
            "Selecting previously unselected package xml-core.\n",
            "Preparing to unpack .../04-xml-core_0.18_all.deb ...\n",
            "Unpacking xml-core (0.18) ...\n",
            "Selecting previously unselected package docutils-common.\n",
            "Preparing to unpack .../05-docutils-common_0.14+dfsg-3_all.deb ...\n",
            "Unpacking docutils-common (0.14+dfsg-3) ...\n",
            "Selecting previously unselected package python3-roman.\n",
            "Preparing to unpack .../06-python3-roman_2.0.0-3_all.deb ...\n",
            "Unpacking python3-roman (2.0.0-3) ...\n",
            "Selecting previously unselected package python3-docutils.\n",
            "Preparing to unpack .../07-python3-docutils_0.14+dfsg-3_all.deb ...\n",
            "Unpacking python3-docutils (0.14+dfsg-3) ...\n",
            "Selecting previously unselected package python3-jmespath.\n",
            "Preparing to unpack .../08-python3-jmespath_0.9.3-1ubuntu1_all.deb ...\n",
            "Unpacking python3-jmespath (0.9.3-1ubuntu1) ...\n",
            "Selecting previously unselected package python3-certifi.\n",
            "Preparing to unpack .../09-python3-certifi_2018.1.18-2_all.deb ...\n",
            "Unpacking python3-certifi (2018.1.18-2) ...\n",
            "Selecting previously unselected package python3-pkg-resources.\n",
            "Preparing to unpack .../10-python3-pkg-resources_39.0.1-2_all.deb ...\n",
            "Unpacking python3-pkg-resources (39.0.1-2) ...\n",
            "Selecting previously unselected package python3-chardet.\n",
            "Preparing to unpack .../11-python3-chardet_3.0.4-1_all.deb ...\n",
            "Unpacking python3-chardet (3.0.4-1) ...\n",
            "Selecting previously unselected package python3-idna.\n",
            "Preparing to unpack .../12-python3-idna_2.6-1_all.deb ...\n",
            "Unpacking python3-idna (2.6-1) ...\n",
            "Selecting previously unselected package python3-urllib3.\n",
            "Preparing to unpack .../13-python3-urllib3_1.22-1ubuntu0.18.04.1_all.deb ...\n",
            "Unpacking python3-urllib3 (1.22-1ubuntu0.18.04.1) ...\n",
            "Selecting previously unselected package python3-requests.\n",
            "Preparing to unpack .../14-python3-requests_2.18.4-2ubuntu0.1_all.deb ...\n",
            "Unpacking python3-requests (2.18.4-2ubuntu0.1) ...\n",
            "Selecting previously unselected package python3-botocore.\n",
            "Preparing to unpack .../15-python3-botocore_1.8.48+repack-1_all.deb ...\n",
            "Unpacking python3-botocore (1.8.48+repack-1) ...\n",
            "Selecting previously unselected package python3-colorama.\n",
            "Preparing to unpack .../16-python3-colorama_0.3.7-1_all.deb ...\n",
            "Unpacking python3-colorama (0.3.7-1) ...\n",
            "Selecting previously unselected package python3-pyasn1.\n",
            "Preparing to unpack .../17-python3-pyasn1_0.4.2-3_all.deb ...\n",
            "Unpacking python3-pyasn1 (0.4.2-3) ...\n",
            "Selecting previously unselected package python3-rsa.\n",
            "Preparing to unpack .../18-python3-rsa_3.4.2-1_all.deb ...\n",
            "Unpacking python3-rsa (3.4.2-1) ...\n",
            "Selecting previously unselected package python3-s3transfer.\n",
            "Preparing to unpack .../19-python3-s3transfer_0.1.13-1_all.deb ...\n",
            "Unpacking python3-s3transfer (0.1.13-1) ...\n",
            "Selecting previously unselected package awscli.\n",
            "Preparing to unpack .../20-awscli_1.14.44-1ubuntu1_all.deb ...\n",
            "Unpacking awscli (1.14.44-1ubuntu1) ...\n",
            "Selecting previously unselected package python3-olefile.\n",
            "Preparing to unpack .../21-python3-olefile_0.45.1-1_all.deb ...\n",
            "Unpacking python3-olefile (0.45.1-1) ...\n",
            "Selecting previously unselected package python3-pil:amd64.\n",
            "Preparing to unpack .../22-python3-pil_5.1.0-1ubuntu0.2_amd64.deb ...\n",
            "Unpacking python3-pil:amd64 (5.1.0-1ubuntu0.2) ...\n",
            "Selecting previously unselected package python3-pygments.\n",
            "Preparing to unpack .../23-python3-pygments_2.2.0+dfsg-1_all.deb ...\n",
            "Unpacking python3-pygments (2.2.0+dfsg-1) ...\n",
            "Setting up python3-yaml (3.12-1build2) ...\n",
            "Setting up python3-roman (2.0.0-3) ...\n",
            "Setting up python3-pil:amd64 (5.1.0-1ubuntu0.2) ...\n",
            "Setting up python3-olefile (0.45.1-1) ...\n",
            "Setting up python3-idna (2.6-1) ...\n",
            "Setting up python3-six (1.11.0-2) ...\n",
            "Setting up python3-colorama (0.3.7-1) ...\n",
            "Setting up python3-certifi (2018.1.18-2) ...\n",
            "Setting up sgml-base (1.29) ...\n",
            "Setting up python3-pkg-resources (39.0.1-2) ...\n",
            "Setting up python3-pyasn1 (0.4.2-3) ...\n",
            "Setting up python3-chardet (3.0.4-1) ...\n",
            "Setting up python3-urllib3 (1.22-1ubuntu0.18.04.1) ...\n",
            "Setting up python3-jmespath (0.9.3-1ubuntu1) ...\n",
            "Setting up xml-core (0.18) ...\n",
            "Setting up python3-dateutil (2.6.1-1) ...\n",
            "Setting up python3-pygments (2.2.0+dfsg-1) ...\n",
            "Setting up python3-rsa (3.4.2-1) ...\n",
            "Setting up python3-requests (2.18.4-2ubuntu0.1) ...\n",
            "Processing triggers for man-db (2.8.3-2ubuntu0.1) ...\n",
            "Processing triggers for shared-mime-info (1.9-2) ...\n",
            "Processing triggers for sgml-base (1.29) ...\n",
            "Setting up docutils-common (0.14+dfsg-3) ...\n",
            "Processing triggers for sgml-base (1.29) ...\n",
            "Setting up python3-docutils (0.14+dfsg-3) ...\n",
            "update-alternatives: using /usr/share/docutils/scripts/python3/rst-buildhtml to provide /usr/bin/rst-buildhtml (rst-buildhtml) in auto mode\n",
            "update-alternatives: using /usr/share/docutils/scripts/python3/rst2html to provide /usr/bin/rst2html (rst2html) in auto mode\n",
            "update-alternatives: using /usr/share/docutils/scripts/python3/rst2html4 to provide /usr/bin/rst2html4 (rst2html4) in auto mode\n",
            "update-alternatives: using /usr/share/docutils/scripts/python3/rst2html5 to provide /usr/bin/rst2html5 (rst2html5) in auto mode\n",
            "update-alternatives: using /usr/share/docutils/scripts/python3/rst2latex to provide /usr/bin/rst2latex (rst2latex) in auto mode\n",
            "update-alternatives: using /usr/share/docutils/scripts/python3/rst2man to provide /usr/bin/rst2man (rst2man) in auto mode\n",
            "update-alternatives: using /usr/share/docutils/scripts/python3/rst2odt to provide /usr/bin/rst2odt (rst2odt) in auto mode\n",
            "update-alternatives: using /usr/share/docutils/scripts/python3/rst2odt_prepstyles to provide /usr/bin/rst2odt_prepstyles (rst2odt_prepstyles) in auto mode\n",
            "update-alternatives: using /usr/share/docutils/scripts/python3/rst2pseudoxml to provide /usr/bin/rst2pseudoxml (rst2pseudoxml) in auto mode\n",
            "update-alternatives: using /usr/share/docutils/scripts/python3/rst2s5 to provide /usr/bin/rst2s5 (rst2s5) in auto mode\n",
            "update-alternatives: using /usr/share/docutils/scripts/python3/rst2xetex to provide /usr/bin/rst2xetex (rst2xetex) in auto mode\n",
            "update-alternatives: using /usr/share/docutils/scripts/python3/rst2xml to provide /usr/bin/rst2xml (rst2xml) in auto mode\n",
            "update-alternatives: using /usr/share/docutils/scripts/python3/rstpep2html to provide /usr/bin/rstpep2html (rstpep2html) in auto mode\n",
            "Setting up python3-botocore (1.8.48+repack-1) ...\n",
            "Setting up python3-s3transfer (0.1.13-1) ...\n",
            "Setting up awscli (1.14.44-1ubuntu1) ...\n",
            "download: s3://acoustic-sandbox/labeled-data/detection/train/OrcasoundLab07052019_PodCastRound2.tar.gz to ./OrcasoundLab07052019_PodCastRound2.tar.gz\n",
            "download: s3://acoustic-sandbox/labeled-data/detection/train/OrcasoundLab09272017_PodCastRound3.tar.gz to ./OrcasoundLab09272017_PodCastRound3.tar.gz\n",
            "download: s3://acoustic-sandbox/labeled-data/detection/test/OrcasoundLab09272017_Test.tar.gz to ./OrcasoundLab09272017_Test.tar.gz\n",
            "\u001b[K     |████████████████████████████████| 122kB 3.4MB/s \n",
            "\u001b[K     |████████████████████████████████| 421.8MB 35kB/s \n",
            "\u001b[33mWARNING: Retrying (Retry(total=4, connect=None, read=None, redirect=None, status=None)) after connection broken by 'ProtocolError('Connection aborted.', ConnectionResetError(104, 'Connection reset by peer'))': /simple/datetime-glob/\u001b[0m\n",
            "\u001b[K     |████████████████████████████████| 204kB 44.6MB/s \n",
            "\u001b[K     |████████████████████████████████| 450kB 45.3MB/s \n",
            "\u001b[K     |████████████████████████████████| 3.9MB 46.7MB/s \n",
            "\u001b[?25h  Building wheel for ketos (setup.py) ... \u001b[?25l\u001b[?25hdone\n",
            "  Building wheel for datetime-glob (setup.py) ... \u001b[?25l\u001b[?25hdone\n",
            "  Building wheel for gast (setup.py) ... \u001b[?25l\u001b[?25hdone\n",
            "  Building wheel for lexery (setup.py) ... \u001b[?25l\u001b[?25hdone\n",
            "\u001b[31mERROR: tensorflow-probability 0.10.0 has requirement gast>=0.3.2, but you'll have gast 0.2.2 which is incompatible.\u001b[0m\n",
            "Collecting pydub\n",
            "  Downloading https://files.pythonhosted.org/packages/7b/d1/fbfa79371a8cd9bb15c2e3c480d7e6e340ed5cc55005174e16f48418333a/pydub-0.24.1-py2.py3-none-any.whl\n",
            "Installing collected packages: pydub\n",
            "Successfully installed pydub-0.24.1\n"
          ],
          "name": "stdout"
        }
      ]
    },
    {
      "cell_type": "markdown",
      "metadata": {
        "id": "5nJLKCTixL_G",
        "colab_type": "text"
      },
      "source": [
        "##Preprocessing on positive train dataset"
      ]
    },
    {
      "cell_type": "markdown",
      "metadata": {
        "id": "wfqfWBAMXk3e",
        "colab_type": "text"
      },
      "source": [
        "###Importing the necessary packages "
      ]
    },
    {
      "cell_type": "code",
      "metadata": {
        "id": "_ZFDNXf9AcUY",
        "colab_type": "code",
        "colab": {
          "base_uri": "https://localhost:8080/",
          "height": 72
        },
        "outputId": "4d7ddb86-c99a-4da4-b9d9-3f425380f712"
      },
      "source": [
        "import pandas as pd\n",
        "from ketos.data_handling import selection_table as sl\n",
        "import ketos.data_handling.database_interface as dbi\n",
        "from ketos.data_handling.parsing import load_audio_representation\n",
        "from ketos.audio.spectrogram import MagSpectrogram\n",
        "from ketos.data_handling.parsing import load_audio_representation\n",
        "import numpy as np\n",
        "from os import listdir\n",
        "from os.path import isfile, join\n",
        "from scipy import signal\n",
        "import soundfile as sf\n",
        "import matplotlib.pyplot as plt\n",
        "import matplotlib.ticker as ticker\n",
        "from pydub import AudioSegment\n"
      ],
      "execution_count": null,
      "outputs": [
        {
          "output_type": "stream",
          "text": [
            "/usr/local/lib/python3.6/dist-packages/numba/errors.py:137: UserWarning: Insufficiently recent colorama version found. Numba requires colorama >= 0.3.9\n",
            "  warnings.warn(msg)\n"
          ],
          "name": "stderr"
        }
      ]
    },
    {
      "cell_type": "code",
      "metadata": {
        "id": "-H7ctXvEHUHG",
        "colab_type": "code",
        "colab": {}
      },
      "source": [
        "#Generate mean and annot-train\n",
        "def duration_mean(filename):\n",
        "    annot_train = pd.read_csv(filename, sep='\\t')\n",
        "    mean=annot_train['duration_s'].mean()\n",
        "    return annot_train,mean\n",
        "  "
      ],
      "execution_count": null,
      "outputs": []
    },
    {
      "cell_type": "code",
      "metadata": {
        "id": "aMwaZ5WOlfJ7",
        "colab_type": "code",
        "colab": {}
      },
      "source": [
        "#Function to add the end time\n",
        "def add_end(filename):\n",
        "    filename[\"end\"]=filename[\"start\"]+filename[\"duration_s\"]\n"
      ],
      "execution_count": null,
      "outputs": []
    },
    {
      "cell_type": "code",
      "metadata": {
        "id": "hovkH-CTEbzb",
        "colab_type": "code",
        "colab": {}
      },
      "source": [
        "#Function to find extract filename and start time\n",
        "def fname_stime(filename):\n",
        "    file_name=filename.iloc[:,0].values\n",
        "    start_time=filename.iloc[:,1].values\n",
        "    return file_name,start_time\n"
      ],
      "execution_count": null,
      "outputs": []
    },
    {
      "cell_type": "code",
      "metadata": {
        "id": "4IftL8nTEuzh",
        "colab_type": "code",
        "colab": {}
      },
      "source": [
        "#Function to extract audio from the .wav files to generate complete positive and negative calls\n",
        "def extract_audio(label,filename,path,position):\n",
        "    file_name=filename.iloc[:,0].values\n",
        "    start_time=filename.iloc[:,position].values\n",
        "    i=0\n",
        "    o=0\n",
        "    for x in file_name:\n",
        "  \n",
        "        AUDIO_FILE=x\n",
        "        sound = AudioSegment.from_file(AUDIO_FILE)\n",
        "        p=start_time[i]\n",
        "        p=p*1000\n",
        "        print(p)\n",
        "        i=i+1\n",
        "        o=p+2000\n",
        "        call=sound[p:o]\n",
        "        call.export(path+label+ \"calls{0}.wav\".format(i),format=\"wav\")\n"
      ],
      "execution_count": null,
      "outputs": []
    },
    {
      "cell_type": "code",
      "metadata": {
        "id": "UIHey7HVGJYu",
        "colab_type": "code",
        "colab": {}
      },
      "source": [
        "#Plotting the spectrogram\n",
        "def plot_spectrogram(base,plot,calls):\n",
        "    basePath = base\n",
        "    plotPath = join(basePath,plot)\n",
        "    folderpath = join(basePath, calls)\n",
        "    onlyfiles = [f for f in listdir(folderpath) if isfile(join(join(folderpath, f)))]\n",
        "    \n",
        "    for idx, file in enumerate(onlyfiles):\n",
        "        data, samplerate = sf.read(join(folderpath, file))\n",
        "        f, t, spec = signal.spectrogram(data, samplerate)\n",
        "        filename = file.split(sep=\".\")[0]\n",
        "    \n",
        "        fig, ax = plt.subplots(1, 1)\n",
        "        ax.specgram(data, Fs=samplerate, NFFT=1024)\n",
        "        ax.get_xaxis().set_visible(False)\n",
        "        ax.get_yaxis().set_visible(False)\n",
        "\n",
        "        scale_y = 1000\n",
        "        ticks_y = ticker.FuncFormatter(lambda x, pos: '{0:g}'.format(x/scale_y))\n",
        "    \n",
        "        plt.savefig(join(plotPath, \n",
        "                 filename + \".png\"))\n",
        "        plt.close(fig)"
      ],
      "execution_count": null,
      "outputs": []
    },
    {
      "cell_type": "markdown",
      "metadata": {
        "id": "lDaRxgkkMvYv",
        "colab_type": "text"
      },
      "source": [
        "####The tsv files contains the parameters like start_time,duration_s,etc, but since these are not in the format Ketos accepts,we need to perform some changes in labels and therefore these files have been uploaded from the local machine\n"
      ]
    },
    {
      "cell_type": "code",
      "metadata": {
        "id": "2p6GGec-IbVP",
        "colab_type": "code",
        "colab": {
          "base_uri": "https://localhost:8080/",
          "height": 244
        },
        "outputId": "6222b4af-1b5b-4fdb-f059-e27e3a4443b7"
      },
      "source": [
        "annot_train2,mean2=duration_mean('/content/podcast2.tsv')\n",
        "annot_train3,mean3 = duration_mean('/content/podcast3.tsv')\n",
        "annot_test,mean_test = duration_mean('/content/v10_test.tsv')\n",
        "\n",
        "print(mean2)\n",
        "annot_train2.head()\n"
      ],
      "execution_count": null,
      "outputs": [
        {
          "output_type": "stream",
          "text": [
            "2.1110548004254963\n"
          ],
          "name": "stdout"
        },
        {
          "output_type": "execute_result",
          "data": {
            "text/html": [
              "<div>\n",
              "<style scoped>\n",
              "    .dataframe tbody tr th:only-of-type {\n",
              "        vertical-align: middle;\n",
              "    }\n",
              "\n",
              "    .dataframe tbody tr th {\n",
              "        vertical-align: top;\n",
              "    }\n",
              "\n",
              "    .dataframe thead th {\n",
              "        text-align: right;\n",
              "    }\n",
              "</style>\n",
              "<table border=\"1\" class=\"dataframe\">\n",
              "  <thead>\n",
              "    <tr style=\"text-align: right;\">\n",
              "      <th></th>\n",
              "      <th>wav_filename</th>\n",
              "      <th>start</th>\n",
              "      <th>duration_s</th>\n",
              "      <th>location</th>\n",
              "      <th>date</th>\n",
              "      <th>data_source</th>\n",
              "      <th>data_source_id</th>\n",
              "      <th>label</th>\n",
              "    </tr>\n",
              "  </thead>\n",
              "  <tbody>\n",
              "    <tr>\n",
              "      <th>0</th>\n",
              "      <td>1562337136_0004.wav</td>\n",
              "      <td>49.765625</td>\n",
              "      <td>2.450000</td>\n",
              "      <td>orcasound_lab</td>\n",
              "      <td>2019-07-05</td>\n",
              "      <td>Orcasound_PodCast_Round2</td>\n",
              "      <td>1562337136</td>\n",
              "      <td>SRKWs</td>\n",
              "    </tr>\n",
              "    <tr>\n",
              "      <th>1</th>\n",
              "      <td>1562337136_0004.wav</td>\n",
              "      <td>41.046007</td>\n",
              "      <td>1.658854</td>\n",
              "      <td>orcasound_lab</td>\n",
              "      <td>2019-07-05</td>\n",
              "      <td>Orcasound_PodCast_Round2</td>\n",
              "      <td>1562337136</td>\n",
              "      <td>SRKWs</td>\n",
              "    </tr>\n",
              "    <tr>\n",
              "      <th>2</th>\n",
              "      <td>1562337136_0004.wav</td>\n",
              "      <td>37.345486</td>\n",
              "      <td>1.743924</td>\n",
              "      <td>orcasound_lab</td>\n",
              "      <td>2019-07-05</td>\n",
              "      <td>Orcasound_PodCast_Round2</td>\n",
              "      <td>1562337136</td>\n",
              "      <td>SRKWs</td>\n",
              "    </tr>\n",
              "    <tr>\n",
              "      <th>3</th>\n",
              "      <td>1562337136_0004.wav</td>\n",
              "      <td>42.917535</td>\n",
              "      <td>2.594618</td>\n",
              "      <td>orcasound_lab</td>\n",
              "      <td>2019-07-05</td>\n",
              "      <td>Orcasound_PodCast_Round2</td>\n",
              "      <td>1562337136</td>\n",
              "      <td>SRKWs</td>\n",
              "    </tr>\n",
              "    <tr>\n",
              "      <th>4</th>\n",
              "      <td>1562337136_0004.wav</td>\n",
              "      <td>45.980035</td>\n",
              "      <td>2.041667</td>\n",
              "      <td>orcasound_lab</td>\n",
              "      <td>2019-07-05</td>\n",
              "      <td>Orcasound_PodCast_Round2</td>\n",
              "      <td>1562337136</td>\n",
              "      <td>SRKWs</td>\n",
              "    </tr>\n",
              "  </tbody>\n",
              "</table>\n",
              "</div>"
            ],
            "text/plain": [
              "          wav_filename      start  ...  data_source_id  label\n",
              "0  1562337136_0004.wav  49.765625  ...      1562337136  SRKWs\n",
              "1  1562337136_0004.wav  41.046007  ...      1562337136  SRKWs\n",
              "2  1562337136_0004.wav  37.345486  ...      1562337136  SRKWs\n",
              "3  1562337136_0004.wav  42.917535  ...      1562337136  SRKWs\n",
              "4  1562337136_0004.wav  45.980035  ...      1562337136  SRKWs\n",
              "\n",
              "[5 rows x 8 columns]"
            ]
          },
          "metadata": {
            "tags": []
          },
          "execution_count": 9
        }
      ]
    },
    {
      "cell_type": "markdown",
      "metadata": {
        "id": "Fu3JS-qaNMBw",
        "colab_type": "text"
      },
      "source": [
        "####Here is how the .tsv files and their labels look like when they are in format that could be accepted by ketos"
      ]
    },
    {
      "cell_type": "code",
      "metadata": {
        "id": "Pb3bX6T7BY-Q",
        "colab_type": "code",
        "colab": {
          "base_uri": "https://localhost:8080/",
          "height": 226
        },
        "outputId": "19fd7cc1-ad58-4d42-bf59-8b314ed13756"
      },
      "source": [
        "add_end(annot_train2)\n",
        "add_end(annot_train3)\n",
        "add_end(annot_test)\n",
        "annot_train2.head()"
      ],
      "execution_count": null,
      "outputs": [
        {
          "output_type": "execute_result",
          "data": {
            "text/html": [
              "<div>\n",
              "<style scoped>\n",
              "    .dataframe tbody tr th:only-of-type {\n",
              "        vertical-align: middle;\n",
              "    }\n",
              "\n",
              "    .dataframe tbody tr th {\n",
              "        vertical-align: top;\n",
              "    }\n",
              "\n",
              "    .dataframe thead th {\n",
              "        text-align: right;\n",
              "    }\n",
              "</style>\n",
              "<table border=\"1\" class=\"dataframe\">\n",
              "  <thead>\n",
              "    <tr style=\"text-align: right;\">\n",
              "      <th></th>\n",
              "      <th>wav_filename</th>\n",
              "      <th>start</th>\n",
              "      <th>duration_s</th>\n",
              "      <th>location</th>\n",
              "      <th>date</th>\n",
              "      <th>data_source</th>\n",
              "      <th>data_source_id</th>\n",
              "      <th>label</th>\n",
              "      <th>end</th>\n",
              "    </tr>\n",
              "  </thead>\n",
              "  <tbody>\n",
              "    <tr>\n",
              "      <th>0</th>\n",
              "      <td>1562337136_0004.wav</td>\n",
              "      <td>49.765625</td>\n",
              "      <td>2.450000</td>\n",
              "      <td>orcasound_lab</td>\n",
              "      <td>2019-07-05</td>\n",
              "      <td>Orcasound_PodCast_Round2</td>\n",
              "      <td>1562337136</td>\n",
              "      <td>SRKWs</td>\n",
              "      <td>52.215625</td>\n",
              "    </tr>\n",
              "    <tr>\n",
              "      <th>1</th>\n",
              "      <td>1562337136_0004.wav</td>\n",
              "      <td>41.046007</td>\n",
              "      <td>1.658854</td>\n",
              "      <td>orcasound_lab</td>\n",
              "      <td>2019-07-05</td>\n",
              "      <td>Orcasound_PodCast_Round2</td>\n",
              "      <td>1562337136</td>\n",
              "      <td>SRKWs</td>\n",
              "      <td>42.704861</td>\n",
              "    </tr>\n",
              "    <tr>\n",
              "      <th>2</th>\n",
              "      <td>1562337136_0004.wav</td>\n",
              "      <td>37.345486</td>\n",
              "      <td>1.743924</td>\n",
              "      <td>orcasound_lab</td>\n",
              "      <td>2019-07-05</td>\n",
              "      <td>Orcasound_PodCast_Round2</td>\n",
              "      <td>1562337136</td>\n",
              "      <td>SRKWs</td>\n",
              "      <td>39.089410</td>\n",
              "    </tr>\n",
              "    <tr>\n",
              "      <th>3</th>\n",
              "      <td>1562337136_0004.wav</td>\n",
              "      <td>42.917535</td>\n",
              "      <td>2.594618</td>\n",
              "      <td>orcasound_lab</td>\n",
              "      <td>2019-07-05</td>\n",
              "      <td>Orcasound_PodCast_Round2</td>\n",
              "      <td>1562337136</td>\n",
              "      <td>SRKWs</td>\n",
              "      <td>45.512153</td>\n",
              "    </tr>\n",
              "    <tr>\n",
              "      <th>4</th>\n",
              "      <td>1562337136_0004.wav</td>\n",
              "      <td>45.980035</td>\n",
              "      <td>2.041667</td>\n",
              "      <td>orcasound_lab</td>\n",
              "      <td>2019-07-05</td>\n",
              "      <td>Orcasound_PodCast_Round2</td>\n",
              "      <td>1562337136</td>\n",
              "      <td>SRKWs</td>\n",
              "      <td>48.021701</td>\n",
              "    </tr>\n",
              "  </tbody>\n",
              "</table>\n",
              "</div>"
            ],
            "text/plain": [
              "          wav_filename      start  duration_s  ... data_source_id  label        end\n",
              "0  1562337136_0004.wav  49.765625    2.450000  ...     1562337136  SRKWs  52.215625\n",
              "1  1562337136_0004.wav  41.046007    1.658854  ...     1562337136  SRKWs  42.704861\n",
              "2  1562337136_0004.wav  37.345486    1.743924  ...     1562337136  SRKWs  39.089410\n",
              "3  1562337136_0004.wav  42.917535    2.594618  ...     1562337136  SRKWs  45.512153\n",
              "4  1562337136_0004.wav  45.980035    2.041667  ...     1562337136  SRKWs  48.021701\n",
              "\n",
              "[5 rows x 9 columns]"
            ]
          },
          "metadata": {
            "tags": []
          },
          "execution_count": 10
        }
      ]
    },
    {
      "cell_type": "markdown",
      "metadata": {
        "id": "Rp28_7n0f1IR",
        "colab_type": "text"
      },
      "source": [
        "###Standardizing the tsv files"
      ]
    },
    {
      "cell_type": "code",
      "metadata": {
        "id": "y1tuIUJnCb5I",
        "colab_type": "code",
        "colab": {}
      },
      "source": [
        "map_to_ketos_annot_std ={'wav_filename': 'filename'} \n",
        "std_annot_train2 = sl.standardize(table=annot_train2, signal_labels=[\"SRKWs\"], mapper=map_to_ketos_annot_std, trim_table=True)\n",
        "std_annot_train3 = sl.standardize(table=annot_train3, signal_labels=[\"SRKWs\"], mapper=map_to_ketos_annot_std, trim_table=True)\n",
        "\n",
        "std_annot_test = sl.standardize(table=annot_test, signal_labels=[\"SRKWs\"], mapper=map_to_ketos_annot_std, trim_table=True)\n"
      ],
      "execution_count": null,
      "outputs": []
    },
    {
      "cell_type": "markdown",
      "metadata": {
        "id": "O8QMOEDXf_KD",
        "colab_type": "text"
      },
      "source": [
        "###Here we could see how each these tsv files look like after standardizing"
      ]
    },
    {
      "cell_type": "code",
      "metadata": {
        "id": "5qjnG33lCgOK",
        "colab_type": "code",
        "colab": {
          "base_uri": "https://localhost:8080/",
          "height": 238
        },
        "outputId": "624db944-20ef-4a3f-bad0-e0010f93636e"
      },
      "source": [
        "std_annot_train2.head()\n"
      ],
      "execution_count": null,
      "outputs": [
        {
          "output_type": "execute_result",
          "data": {
            "text/html": [
              "<div>\n",
              "<style scoped>\n",
              "    .dataframe tbody tr th:only-of-type {\n",
              "        vertical-align: middle;\n",
              "    }\n",
              "\n",
              "    .dataframe tbody tr th {\n",
              "        vertical-align: top;\n",
              "    }\n",
              "\n",
              "    .dataframe thead th {\n",
              "        text-align: right;\n",
              "    }\n",
              "</style>\n",
              "<table border=\"1\" class=\"dataframe\">\n",
              "  <thead>\n",
              "    <tr style=\"text-align: right;\">\n",
              "      <th></th>\n",
              "      <th></th>\n",
              "      <th>start</th>\n",
              "      <th>label</th>\n",
              "      <th>end</th>\n",
              "    </tr>\n",
              "    <tr>\n",
              "      <th>filename</th>\n",
              "      <th>annot_id</th>\n",
              "      <th></th>\n",
              "      <th></th>\n",
              "      <th></th>\n",
              "    </tr>\n",
              "  </thead>\n",
              "  <tbody>\n",
              "    <tr>\n",
              "      <th rowspan=\"5\" valign=\"top\">1562337136_0004.wav</th>\n",
              "      <th>0</th>\n",
              "      <td>49.765625</td>\n",
              "      <td>1</td>\n",
              "      <td>52.215625</td>\n",
              "    </tr>\n",
              "    <tr>\n",
              "      <th>1</th>\n",
              "      <td>41.046007</td>\n",
              "      <td>1</td>\n",
              "      <td>42.704861</td>\n",
              "    </tr>\n",
              "    <tr>\n",
              "      <th>2</th>\n",
              "      <td>37.345486</td>\n",
              "      <td>1</td>\n",
              "      <td>39.089410</td>\n",
              "    </tr>\n",
              "    <tr>\n",
              "      <th>3</th>\n",
              "      <td>42.917535</td>\n",
              "      <td>1</td>\n",
              "      <td>45.512153</td>\n",
              "    </tr>\n",
              "    <tr>\n",
              "      <th>4</th>\n",
              "      <td>45.980035</td>\n",
              "      <td>1</td>\n",
              "      <td>48.021701</td>\n",
              "    </tr>\n",
              "  </tbody>\n",
              "</table>\n",
              "</div>"
            ],
            "text/plain": [
              "                                  start  label        end\n",
              "filename            annot_id                             \n",
              "1562337136_0004.wav 0         49.765625      1  52.215625\n",
              "                    1         41.046007      1  42.704861\n",
              "                    2         37.345486      1  39.089410\n",
              "                    3         42.917535      1  45.512153\n",
              "                    4         45.980035      1  48.021701"
            ]
          },
          "metadata": {
            "tags": []
          },
          "execution_count": 12
        }
      ]
    },
    {
      "cell_type": "code",
      "metadata": {
        "id": "Sp4W-b-4x3Un",
        "colab_type": "code",
        "colab": {
          "base_uri": "https://localhost:8080/",
          "height": 238
        },
        "outputId": "e8aa34bf-81a8-4f52-ce7b-116a6b373f34"
      },
      "source": [
        "std_annot_train3.head()"
      ],
      "execution_count": null,
      "outputs": [
        {
          "output_type": "execute_result",
          "data": {
            "text/html": [
              "<div>\n",
              "<style scoped>\n",
              "    .dataframe tbody tr th:only-of-type {\n",
              "        vertical-align: middle;\n",
              "    }\n",
              "\n",
              "    .dataframe tbody tr th {\n",
              "        vertical-align: top;\n",
              "    }\n",
              "\n",
              "    .dataframe thead th {\n",
              "        text-align: right;\n",
              "    }\n",
              "</style>\n",
              "<table border=\"1\" class=\"dataframe\">\n",
              "  <thead>\n",
              "    <tr style=\"text-align: right;\">\n",
              "      <th></th>\n",
              "      <th></th>\n",
              "      <th>start</th>\n",
              "      <th>label</th>\n",
              "      <th>end</th>\n",
              "    </tr>\n",
              "    <tr>\n",
              "      <th>filename</th>\n",
              "      <th>annot_id</th>\n",
              "      <th></th>\n",
              "      <th></th>\n",
              "      <th></th>\n",
              "    </tr>\n",
              "  </thead>\n",
              "  <tbody>\n",
              "    <tr>\n",
              "      <th>OS_9_27_2017_08_14_00__0002.wav</th>\n",
              "      <th>0</th>\n",
              "      <td>6.110451</td>\n",
              "      <td>1</td>\n",
              "      <td>7.856295</td>\n",
              "    </tr>\n",
              "    <tr>\n",
              "      <th rowspan=\"4\" valign=\"top\">OS_9_27_2017_08_14_00__0004.wav</th>\n",
              "      <th>0</th>\n",
              "      <td>12.717882</td>\n",
              "      <td>1</td>\n",
              "      <td>15.167882</td>\n",
              "    </tr>\n",
              "    <tr>\n",
              "      <th>1</th>\n",
              "      <td>29.825347</td>\n",
              "      <td>1</td>\n",
              "      <td>31.637326</td>\n",
              "    </tr>\n",
              "    <tr>\n",
              "      <th>2</th>\n",
              "      <td>43.504514</td>\n",
              "      <td>1</td>\n",
              "      <td>45.103819</td>\n",
              "    </tr>\n",
              "    <tr>\n",
              "      <th>3</th>\n",
              "      <td>48.404514</td>\n",
              "      <td>1</td>\n",
              "      <td>50.344097</td>\n",
              "    </tr>\n",
              "  </tbody>\n",
              "</table>\n",
              "</div>"
            ],
            "text/plain": [
              "                                              start  label        end\n",
              "filename                        annot_id                             \n",
              "OS_9_27_2017_08_14_00__0002.wav 0          6.110451      1   7.856295\n",
              "OS_9_27_2017_08_14_00__0004.wav 0         12.717882      1  15.167882\n",
              "                                1         29.825347      1  31.637326\n",
              "                                2         43.504514      1  45.103819\n",
              "                                3         48.404514      1  50.344097"
            ]
          },
          "metadata": {
            "tags": []
          },
          "execution_count": 13
        }
      ]
    },
    {
      "cell_type": "code",
      "metadata": {
        "id": "jPF8z3MGyDNJ",
        "colab_type": "code",
        "colab": {
          "base_uri": "https://localhost:8080/",
          "height": 238
        },
        "outputId": "8b220ad2-84fe-4322-88b2-26686fd054b1"
      },
      "source": [
        "std_annot_test.head()"
      ],
      "execution_count": null,
      "outputs": [
        {
          "output_type": "execute_result",
          "data": {
            "text/html": [
              "<div>\n",
              "<style scoped>\n",
              "    .dataframe tbody tr th:only-of-type {\n",
              "        vertical-align: middle;\n",
              "    }\n",
              "\n",
              "    .dataframe tbody tr th {\n",
              "        vertical-align: top;\n",
              "    }\n",
              "\n",
              "    .dataframe thead th {\n",
              "        text-align: right;\n",
              "    }\n",
              "</style>\n",
              "<table border=\"1\" class=\"dataframe\">\n",
              "  <thead>\n",
              "    <tr style=\"text-align: right;\">\n",
              "      <th></th>\n",
              "      <th></th>\n",
              "      <th>start</th>\n",
              "      <th>label</th>\n",
              "      <th>end</th>\n",
              "    </tr>\n",
              "    <tr>\n",
              "      <th>filename</th>\n",
              "      <th>annot_id</th>\n",
              "      <th></th>\n",
              "      <th></th>\n",
              "      <th></th>\n",
              "    </tr>\n",
              "  </thead>\n",
              "  <tbody>\n",
              "    <tr>\n",
              "      <th rowspan=\"4\" valign=\"top\">OS_9_27_2017_08_14_00__0001.wav</th>\n",
              "      <th>0</th>\n",
              "      <td>11.643564</td>\n",
              "      <td>1</td>\n",
              "      <td>14.093564</td>\n",
              "    </tr>\n",
              "    <tr>\n",
              "      <th>1</th>\n",
              "      <td>15.594059</td>\n",
              "      <td>1</td>\n",
              "      <td>17.759901</td>\n",
              "    </tr>\n",
              "    <tr>\n",
              "      <th>2</th>\n",
              "      <td>53.900000</td>\n",
              "      <td>1</td>\n",
              "      <td>56.350000</td>\n",
              "    </tr>\n",
              "    <tr>\n",
              "      <th>3</th>\n",
              "      <td>59.781486</td>\n",
              "      <td>1</td>\n",
              "      <td>61.250000</td>\n",
              "    </tr>\n",
              "    <tr>\n",
              "      <th>OS_9_27_2017_08_19_00__0002.wav</th>\n",
              "      <th>0</th>\n",
              "      <td>6.592882</td>\n",
              "      <td>1</td>\n",
              "      <td>7.826389</td>\n",
              "    </tr>\n",
              "  </tbody>\n",
              "</table>\n",
              "</div>"
            ],
            "text/plain": [
              "                                              start  label        end\n",
              "filename                        annot_id                             \n",
              "OS_9_27_2017_08_14_00__0001.wav 0         11.643564      1  14.093564\n",
              "                                1         15.594059      1  17.759901\n",
              "                                2         53.900000      1  56.350000\n",
              "                                3         59.781486      1  61.250000\n",
              "OS_9_27_2017_08_19_00__0002.wav 0          6.592882      1   7.826389"
            ]
          },
          "metadata": {
            "tags": []
          },
          "execution_count": 15
        }
      ]
    },
    {
      "cell_type": "markdown",
      "metadata": {
        "id": "XMxurQE0gII9",
        "colab_type": "text"
      },
      "source": [
        "###Saving these standardized tsv files"
      ]
    },
    {
      "cell_type": "code",
      "metadata": {
        "id": "syOXgSelDU77",
        "colab_type": "code",
        "colab": {}
      },
      "source": [
        "std_annot_train2.to_csv('standardized_train2.tsv', mode='a', sep='\\t',header=False)\n",
        "std_annot_train3.to_csv('standardized_train3.tsv', mode='a', sep='\\t',header=False)\n",
        "std_annot_test.to_csv('standardized_test.tsv', mode='a', sep='\\t',header=False)"
      ],
      "execution_count": null,
      "outputs": []
    },
    {
      "cell_type": "code",
      "metadata": {
        "id": "6edgIxLwECOs",
        "colab_type": "code",
        "colab": {}
      },
      "source": [
        "annot_id2 = pd.read_csv('/content/standardized_train2.tsv', sep='\\t')\n",
        "annot_id3 = pd.read_csv('/content/standardized_train3.tsv', sep='\\t')\n",
        "annot_idtest = pd.read_csv('/content/standardized_test.tsv', sep='\\t')\n"
      ],
      "execution_count": null,
      "outputs": []
    },
    {
      "cell_type": "markdown",
      "metadata": {
        "id": "NvcGGApPiHGD",
        "colab_type": "text"
      },
      "source": [
        "####Extracting the .wav file names and start time from these .tsv files which would be used by Pydub to extract small segemets of sounds(one containing the calls and the other not)"
      ]
    },
    {
      "cell_type": "code",
      "metadata": {
        "id": "6NvfjyLHK2xZ",
        "colab_type": "code",
        "colab": {}
      },
      "source": [
        "#Function to find extract filename and start time\n",
        "def fname_stime(filename):\n",
        "    file_name=filename.iloc[:,0].values\n",
        "    start_time=filename.iloc[:,1].values\n",
        "    return file_name,start_time\n"
      ],
      "execution_count": null,
      "outputs": []
    },
    {
      "cell_type": "code",
      "metadata": {
        "id": "42HPmFrYLs7E",
        "colab_type": "code",
        "colab": {
          "base_uri": "https://localhost:8080/",
          "height": 238
        },
        "outputId": "81c9e5ce-049c-4729-90e6-3faec67b34b7"
      },
      "source": [
        "std_annot_train2.head()"
      ],
      "execution_count": null,
      "outputs": [
        {
          "output_type": "execute_result",
          "data": {
            "text/html": [
              "<div>\n",
              "<style scoped>\n",
              "    .dataframe tbody tr th:only-of-type {\n",
              "        vertical-align: middle;\n",
              "    }\n",
              "\n",
              "    .dataframe tbody tr th {\n",
              "        vertical-align: top;\n",
              "    }\n",
              "\n",
              "    .dataframe thead th {\n",
              "        text-align: right;\n",
              "    }\n",
              "</style>\n",
              "<table border=\"1\" class=\"dataframe\">\n",
              "  <thead>\n",
              "    <tr style=\"text-align: right;\">\n",
              "      <th></th>\n",
              "      <th></th>\n",
              "      <th>start</th>\n",
              "      <th>label</th>\n",
              "      <th>end</th>\n",
              "    </tr>\n",
              "    <tr>\n",
              "      <th>filename</th>\n",
              "      <th>annot_id</th>\n",
              "      <th></th>\n",
              "      <th></th>\n",
              "      <th></th>\n",
              "    </tr>\n",
              "  </thead>\n",
              "  <tbody>\n",
              "    <tr>\n",
              "      <th rowspan=\"5\" valign=\"top\">1562337136_0004.wav</th>\n",
              "      <th>0</th>\n",
              "      <td>49.765625</td>\n",
              "      <td>1</td>\n",
              "      <td>52.215625</td>\n",
              "    </tr>\n",
              "    <tr>\n",
              "      <th>1</th>\n",
              "      <td>41.046007</td>\n",
              "      <td>1</td>\n",
              "      <td>42.704861</td>\n",
              "    </tr>\n",
              "    <tr>\n",
              "      <th>2</th>\n",
              "      <td>37.345486</td>\n",
              "      <td>1</td>\n",
              "      <td>39.089410</td>\n",
              "    </tr>\n",
              "    <tr>\n",
              "      <th>3</th>\n",
              "      <td>42.917535</td>\n",
              "      <td>1</td>\n",
              "      <td>45.512153</td>\n",
              "    </tr>\n",
              "    <tr>\n",
              "      <th>4</th>\n",
              "      <td>45.980035</td>\n",
              "      <td>1</td>\n",
              "      <td>48.021701</td>\n",
              "    </tr>\n",
              "  </tbody>\n",
              "</table>\n",
              "</div>"
            ],
            "text/plain": [
              "                                  start  label        end\n",
              "filename            annot_id                             \n",
              "1562337136_0004.wav 0         49.765625      1  52.215625\n",
              "                    1         41.046007      1  42.704861\n",
              "                    2         37.345486      1  39.089410\n",
              "                    3         42.917535      1  45.512153\n",
              "                    4         45.980035      1  48.021701"
            ]
          },
          "metadata": {
            "tags": []
          },
          "execution_count": 31
        }
      ]
    },
    {
      "cell_type": "code",
      "metadata": {
        "id": "13-NuODS9BKW",
        "colab_type": "code",
        "colab": {
          "base_uri": "https://localhost:8080/",
          "height": 261
        },
        "outputId": "be9a1b1b-a2ae-4d8d-bfd5-778ecddfe0e5"
      },
      "source": [
        "filename,start_time=fname_stime(std_annot_train2)\n",
        "print(filename[0])\n",
        "print(start_time[0])\n",
        "annot_train2.head()"
      ],
      "execution_count": null,
      "outputs": [
        {
          "output_type": "stream",
          "text": [
            "49.765625\n",
            "1\n"
          ],
          "name": "stdout"
        },
        {
          "output_type": "execute_result",
          "data": {
            "text/html": [
              "<div>\n",
              "<style scoped>\n",
              "    .dataframe tbody tr th:only-of-type {\n",
              "        vertical-align: middle;\n",
              "    }\n",
              "\n",
              "    .dataframe tbody tr th {\n",
              "        vertical-align: top;\n",
              "    }\n",
              "\n",
              "    .dataframe thead th {\n",
              "        text-align: right;\n",
              "    }\n",
              "</style>\n",
              "<table border=\"1\" class=\"dataframe\">\n",
              "  <thead>\n",
              "    <tr style=\"text-align: right;\">\n",
              "      <th></th>\n",
              "      <th>wav_filename</th>\n",
              "      <th>start</th>\n",
              "      <th>duration_s</th>\n",
              "      <th>location</th>\n",
              "      <th>date</th>\n",
              "      <th>data_source</th>\n",
              "      <th>data_source_id</th>\n",
              "      <th>label</th>\n",
              "      <th>end</th>\n",
              "    </tr>\n",
              "  </thead>\n",
              "  <tbody>\n",
              "    <tr>\n",
              "      <th>0</th>\n",
              "      <td>1562337136_0004.wav</td>\n",
              "      <td>49.765625</td>\n",
              "      <td>2.450000</td>\n",
              "      <td>orcasound_lab</td>\n",
              "      <td>2019-07-05</td>\n",
              "      <td>Orcasound_PodCast_Round2</td>\n",
              "      <td>1562337136</td>\n",
              "      <td>SRKWs</td>\n",
              "      <td>52.215625</td>\n",
              "    </tr>\n",
              "    <tr>\n",
              "      <th>1</th>\n",
              "      <td>1562337136_0004.wav</td>\n",
              "      <td>41.046007</td>\n",
              "      <td>1.658854</td>\n",
              "      <td>orcasound_lab</td>\n",
              "      <td>2019-07-05</td>\n",
              "      <td>Orcasound_PodCast_Round2</td>\n",
              "      <td>1562337136</td>\n",
              "      <td>SRKWs</td>\n",
              "      <td>42.704861</td>\n",
              "    </tr>\n",
              "    <tr>\n",
              "      <th>2</th>\n",
              "      <td>1562337136_0004.wav</td>\n",
              "      <td>37.345486</td>\n",
              "      <td>1.743924</td>\n",
              "      <td>orcasound_lab</td>\n",
              "      <td>2019-07-05</td>\n",
              "      <td>Orcasound_PodCast_Round2</td>\n",
              "      <td>1562337136</td>\n",
              "      <td>SRKWs</td>\n",
              "      <td>39.089410</td>\n",
              "    </tr>\n",
              "    <tr>\n",
              "      <th>3</th>\n",
              "      <td>1562337136_0004.wav</td>\n",
              "      <td>42.917535</td>\n",
              "      <td>2.594618</td>\n",
              "      <td>orcasound_lab</td>\n",
              "      <td>2019-07-05</td>\n",
              "      <td>Orcasound_PodCast_Round2</td>\n",
              "      <td>1562337136</td>\n",
              "      <td>SRKWs</td>\n",
              "      <td>45.512153</td>\n",
              "    </tr>\n",
              "    <tr>\n",
              "      <th>4</th>\n",
              "      <td>1562337136_0004.wav</td>\n",
              "      <td>45.980035</td>\n",
              "      <td>2.041667</td>\n",
              "      <td>orcasound_lab</td>\n",
              "      <td>2019-07-05</td>\n",
              "      <td>Orcasound_PodCast_Round2</td>\n",
              "      <td>1562337136</td>\n",
              "      <td>SRKWs</td>\n",
              "      <td>48.021701</td>\n",
              "    </tr>\n",
              "  </tbody>\n",
              "</table>\n",
              "</div>"
            ],
            "text/plain": [
              "          wav_filename      start  duration_s  ... data_source_id  label        end\n",
              "0  1562337136_0004.wav  49.765625    2.450000  ...     1562337136  SRKWs  52.215625\n",
              "1  1562337136_0004.wav  41.046007    1.658854  ...     1562337136  SRKWs  42.704861\n",
              "2  1562337136_0004.wav  37.345486    1.743924  ...     1562337136  SRKWs  39.089410\n",
              "3  1562337136_0004.wav  42.917535    2.594618  ...     1562337136  SRKWs  45.512153\n",
              "4  1562337136_0004.wav  45.980035    2.041667  ...     1562337136  SRKWs  48.021701\n",
              "\n",
              "[5 rows x 9 columns]"
            ]
          },
          "metadata": {
            "tags": []
          },
          "execution_count": 32
        }
      ]
    },
    {
      "cell_type": "markdown",
      "metadata": {
        "id": "he4pS6FxPP_N",
        "colab_type": "text"
      },
      "source": [
        "####We could verify the start time and the file duration matches to the same column as above"
      ]
    },
    {
      "cell_type": "markdown",
      "metadata": {
        "id": "BTUmZT9Ki9j6",
        "colab_type": "text"
      },
      "source": [
        "####We would change to the directory from where we want to extract calls using pydub"
      ]
    },
    {
      "cell_type": "code",
      "metadata": {
        "id": "LiJyCaZAE9CA",
        "colab_type": "code",
        "colab": {
          "base_uri": "https://localhost:8080/",
          "height": 34
        },
        "outputId": "26edc1e2-3ff3-4531-9275-a79f69ac537b"
      },
      "source": [
        "!pwd"
      ],
      "execution_count": null,
      "outputs": [
        {
          "output_type": "stream",
          "text": [
            "/content\n"
          ],
          "name": "stdout"
        }
      ]
    },
    {
      "cell_type": "code",
      "metadata": {
        "id": "zZB6RmgLE9AB",
        "colab_type": "code",
        "colab": {
          "base_uri": "https://localhost:8080/",
          "height": 34
        },
        "outputId": "20e428e3-6ee0-4de6-f5c5-3b456301be0f"
      },
      "source": [
        "%cd /content/Round2_OS_07_05/wav"
      ],
      "execution_count": null,
      "outputs": [
        {
          "output_type": "stream",
          "text": [
            "/content/Round2_OS_07_05/wav\n"
          ],
          "name": "stdout"
        }
      ]
    },
    {
      "cell_type": "code",
      "metadata": {
        "id": "0q0Ni96qE87c",
        "colab_type": "code",
        "colab": {}
      },
      "source": [
        "!mkdir pod_calls"
      ],
      "execution_count": null,
      "outputs": []
    },
    {
      "cell_type": "code",
      "metadata": {
        "id": "rqDI9qvnzwpj",
        "colab_type": "code",
        "colab": {}
      },
      "source": [
        "extract_audio('round2_calls',annot_train2,\"/content/Round2_OS_07_05/wav/pod_calls/\",1)"
      ],
      "execution_count": null,
      "outputs": []
    },
    {
      "cell_type": "markdown",
      "metadata": {
        "id": "cJLD1Toqj_8y",
        "colab_type": "text"
      },
      "source": [
        "####Extracting the start time plus two second sound which we know by taking the mean of the duration"
      ]
    },
    {
      "cell_type": "code",
      "metadata": {
        "id": "wqSomk2mxW2q",
        "colab_type": "code",
        "colab": {
          "base_uri": "https://localhost:8080/",
          "height": 34
        },
        "outputId": "8bfae94c-b55a-4cc2-fd3f-6986c079303a"
      },
      "source": [
        "%cd /content/Round3_OS_09_27_2017/wav"
      ],
      "execution_count": null,
      "outputs": [
        {
          "output_type": "stream",
          "text": [
            "/content/Round3_OS_09_27_2017/wav\n"
          ],
          "name": "stdout"
        }
      ]
    },
    {
      "cell_type": "markdown",
      "metadata": {
        "id": "5JZ6GvMuPqfs",
        "colab_type": "text"
      },
      "source": [
        "####Similarly we would extract the calls for podcast3"
      ]
    },
    {
      "cell_type": "code",
      "metadata": {
        "id": "uHHVRkqMszWC",
        "colab_type": "code",
        "colab": {}
      },
      "source": [
        "extract_audio('round3_calls',annot_train3,\"/content/Round2_OS_07_05/wav/pod_calls/\",1)"
      ],
      "execution_count": null,
      "outputs": []
    },
    {
      "cell_type": "markdown",
      "metadata": {
        "id": "fq7DAHNqPdKI",
        "colab_type": "text"
      },
      "source": [
        "####Verify the calls that we extracted are of annotated three itself"
      ]
    },
    {
      "cell_type": "code",
      "metadata": {
        "id": "I2YwCQVTPX54",
        "colab_type": "code",
        "colab": {
          "base_uri": "https://localhost:8080/",
          "height": 226
        },
        "outputId": "72ba0a29-c596-4c77-8e8e-69f9ec3f232e"
      },
      "source": [
        "annot_train3.head()"
      ],
      "execution_count": null,
      "outputs": [
        {
          "output_type": "execute_result",
          "data": {
            "text/html": [
              "<div>\n",
              "<style scoped>\n",
              "    .dataframe tbody tr th:only-of-type {\n",
              "        vertical-align: middle;\n",
              "    }\n",
              "\n",
              "    .dataframe tbody tr th {\n",
              "        vertical-align: top;\n",
              "    }\n",
              "\n",
              "    .dataframe thead th {\n",
              "        text-align: right;\n",
              "    }\n",
              "</style>\n",
              "<table border=\"1\" class=\"dataframe\">\n",
              "  <thead>\n",
              "    <tr style=\"text-align: right;\">\n",
              "      <th></th>\n",
              "      <th>wav_filename</th>\n",
              "      <th>start</th>\n",
              "      <th>duration_s</th>\n",
              "      <th>location</th>\n",
              "      <th>date</th>\n",
              "      <th>data_source</th>\n",
              "      <th>data_source_id</th>\n",
              "      <th>label</th>\n",
              "      <th>end</th>\n",
              "    </tr>\n",
              "  </thead>\n",
              "  <tbody>\n",
              "    <tr>\n",
              "      <th>0</th>\n",
              "      <td>OS_9_27_2017_08_14_00__0002.wav</td>\n",
              "      <td>6.110451</td>\n",
              "      <td>1.745843</td>\n",
              "      <td>orcasound_lab</td>\n",
              "      <td>2017-09-27</td>\n",
              "      <td>Orcasound_PodCast_Round3</td>\n",
              "      <td>OS_9_27_2017_08_14</td>\n",
              "      <td>SRKWs</td>\n",
              "      <td>7.856295</td>\n",
              "    </tr>\n",
              "    <tr>\n",
              "      <th>1</th>\n",
              "      <td>OS_9_27_2017_08_14_00__0004.wav</td>\n",
              "      <td>12.717882</td>\n",
              "      <td>2.450000</td>\n",
              "      <td>orcasound_lab</td>\n",
              "      <td>2017-09-27</td>\n",
              "      <td>Orcasound_PodCast_Round3</td>\n",
              "      <td>OS_9_27_2017_08_14</td>\n",
              "      <td>SRKWs</td>\n",
              "      <td>15.167882</td>\n",
              "    </tr>\n",
              "    <tr>\n",
              "      <th>2</th>\n",
              "      <td>OS_9_27_2017_08_14_00__0004.wav</td>\n",
              "      <td>29.825347</td>\n",
              "      <td>1.811979</td>\n",
              "      <td>orcasound_lab</td>\n",
              "      <td>2017-09-27</td>\n",
              "      <td>Orcasound_PodCast_Round3</td>\n",
              "      <td>OS_9_27_2017_08_14</td>\n",
              "      <td>SRKWs</td>\n",
              "      <td>31.637326</td>\n",
              "    </tr>\n",
              "    <tr>\n",
              "      <th>3</th>\n",
              "      <td>OS_9_27_2017_08_14_00__0004.wav</td>\n",
              "      <td>43.504514</td>\n",
              "      <td>1.599306</td>\n",
              "      <td>orcasound_lab</td>\n",
              "      <td>2017-09-27</td>\n",
              "      <td>Orcasound_PodCast_Round3</td>\n",
              "      <td>OS_9_27_2017_08_14</td>\n",
              "      <td>SRKWs</td>\n",
              "      <td>45.103819</td>\n",
              "    </tr>\n",
              "    <tr>\n",
              "      <th>4</th>\n",
              "      <td>OS_9_27_2017_08_14_00__0004.wav</td>\n",
              "      <td>48.404514</td>\n",
              "      <td>1.939583</td>\n",
              "      <td>orcasound_lab</td>\n",
              "      <td>2017-09-27</td>\n",
              "      <td>Orcasound_PodCast_Round3</td>\n",
              "      <td>OS_9_27_2017_08_14</td>\n",
              "      <td>SRKWs</td>\n",
              "      <td>50.344097</td>\n",
              "    </tr>\n",
              "  </tbody>\n",
              "</table>\n",
              "</div>"
            ],
            "text/plain": [
              "                      wav_filename      start  ...  label        end\n",
              "0  OS_9_27_2017_08_14_00__0002.wav   6.110451  ...  SRKWs   7.856295\n",
              "1  OS_9_27_2017_08_14_00__0004.wav  12.717882  ...  SRKWs  15.167882\n",
              "2  OS_9_27_2017_08_14_00__0004.wav  29.825347  ...  SRKWs  31.637326\n",
              "3  OS_9_27_2017_08_14_00__0004.wav  43.504514  ...  SRKWs  45.103819\n",
              "4  OS_9_27_2017_08_14_00__0004.wav  48.404514  ...  SRKWs  50.344097\n",
              "\n",
              "[5 rows x 9 columns]"
            ]
          },
          "metadata": {
            "tags": []
          },
          "execution_count": 32
        }
      ]
    },
    {
      "cell_type": "code",
      "metadata": {
        "id": "DcZGSnS5KXrg",
        "colab_type": "code",
        "colab": {
          "base_uri": "https://localhost:8080/",
          "height": 34
        },
        "outputId": "69ecc385-0122-41df-9b00-0a52e4c013a1"
      },
      "source": [
        "%cd /content/Round2_OS_07_05"
      ],
      "execution_count": null,
      "outputs": [
        {
          "output_type": "stream",
          "text": [
            "/content/Round2_OS_07_05\n"
          ],
          "name": "stdout"
        }
      ]
    },
    {
      "cell_type": "markdown",
      "metadata": {
        "id": "-zbfKHhDRvr5",
        "colab_type": "text"
      },
      "source": [
        "###In the Round2 folder we are going to create two folders train and test respectively and in each of the folders we are going to create calls and nocalls folders respectively "
      ]
    },
    {
      "cell_type": "code",
      "metadata": {
        "id": "LoUYdmI6KXnf",
        "colab_type": "code",
        "colab": {
          "base_uri": "https://localhost:8080/",
          "height": 52
        },
        "outputId": "2d98b76a-d75c-4b64-c65b-4a0c655c2fc2"
      },
      "source": [
        "!mkdir train\n",
        "!mkdir test\n",
        "%cd train\n",
        "!mkdir calls\n",
        "!mkdir nocalls\n",
        "%cd /content/Round2_OS_07_05/test"
      ],
      "execution_count": null,
      "outputs": [
        {
          "output_type": "stream",
          "text": [
            "/content/Round2_OS_07_05/train\n",
            "/content/Round2_OS_07_05/test\n"
          ],
          "name": "stdout"
        }
      ]
    },
    {
      "cell_type": "code",
      "metadata": {
        "id": "YNXMcSUxX9EA",
        "colab_type": "code",
        "colab": {
          "base_uri": "https://localhost:8080/",
          "height": 54
        },
        "outputId": "71c3a430-f2f3-4098-8d3e-8c4ead9515a0"
      },
      "source": [
        "'''filename='/content/Round2_OS_07_05/wav/pod_calls/MMMcalls102.wav'\n",
        "siz = wavread(filename,'size') \n",
        "siz = [samples channels]\n",
        "siz(1)/Fs #%should give you the length in second\n",
        "'''"
      ],
      "execution_count": null,
      "outputs": [
        {
          "output_type": "execute_result",
          "data": {
            "text/plain": [
              "\"filename='/content/Round2_OS_07_05/wav/pod_calls/MMMcalls102.wav'\\nsiz = wavread(filename,'size') \\nsiz = [samples channels]\\nsiz(1)/Fs #%should give you the length in second\\n\""
            ]
          },
          "metadata": {
            "tags": []
          },
          "execution_count": 35
        }
      ]
    },
    {
      "cell_type": "code",
      "metadata": {
        "id": "ATdtszBjLloQ",
        "colab_type": "code",
        "colab": {
          "base_uri": "https://localhost:8080/",
          "height": 34
        },
        "outputId": "ab9aba2f-ae92-4497-93b3-e584788cc99e"
      },
      "source": [
        "!pwd\n",
        "!mkdir calls\n",
        "!mkdir nocalls"
      ],
      "execution_count": null,
      "outputs": [
        {
          "output_type": "stream",
          "text": [
            "/content/Round2_OS_07_05/test\n"
          ],
          "name": "stdout"
        }
      ]
    },
    {
      "cell_type": "markdown",
      "metadata": {
        "id": "tAkwS2cZS6jt",
        "colab_type": "text"
      },
      "source": [
        "###Now we would plot the graphs i.e the spectrograms without x and y labels into calls folder"
      ]
    },
    {
      "cell_type": "code",
      "metadata": {
        "id": "DE-DgNh5zIWC",
        "colab_type": "code",
        "colab": {}
      },
      "source": [
        "plot_spectrogram('/content/Round2_OS_07_05/','train/calls','wav/pod_calls')"
      ],
      "execution_count": null,
      "outputs": []
    },
    {
      "cell_type": "markdown",
      "metadata": {
        "id": "DPbQr1PHfYIg",
        "colab_type": "text"
      },
      "source": [
        "##Generation of spectrograms from the background sounds "
      ]
    },
    {
      "cell_type": "markdown",
      "metadata": {
        "id": "-Boral9gfyCT",
        "colab_type": "text"
      },
      "source": [
        "####Since we have generated the positive calls, its time to generate the negative ones."
      ]
    },
    {
      "cell_type": "markdown",
      "metadata": {
        "id": "YdkgUc4HTPeU",
        "colab_type": "text"
      },
      "source": [
        "###The above table shows the time area for the podcast-2 and podcast-3 which does not contain the calls timeframe\n",
        "###The table displays the start time and the end time that does not contain the calls"
      ]
    },
    {
      "cell_type": "code",
      "metadata": {
        "id": "0vh9pO2q2TjQ",
        "colab_type": "code",
        "colab": {
          "base_uri": "https://localhost:8080/",
          "height": 238
        },
        "outputId": "3d335832-49a7-41c7-9f96-68ab996c358f"
      },
      "source": [
        "positives_train2 = sl.select(annotations=std_annot_train2, length=2.0)\n",
        "file_durations_train2 = sl.file_duration_table('/content/Round2_OS_07_05/wav')\n",
        "negatives_train2=sl.create_rndm_backgr_selections(annotations=std_annot_train2, files=file_durations_train2, length=2.0, num=len(positives_train2), trim_table=True)\n",
        "negatives_train2.head()"
      ],
      "execution_count": null,
      "outputs": [
        {
          "output_type": "execute_result",
          "data": {
            "text/html": [
              "<div>\n",
              "<style scoped>\n",
              "    .dataframe tbody tr th:only-of-type {\n",
              "        vertical-align: middle;\n",
              "    }\n",
              "\n",
              "    .dataframe tbody tr th {\n",
              "        vertical-align: top;\n",
              "    }\n",
              "\n",
              "    .dataframe thead th {\n",
              "        text-align: right;\n",
              "    }\n",
              "</style>\n",
              "<table border=\"1\" class=\"dataframe\">\n",
              "  <thead>\n",
              "    <tr style=\"text-align: right;\">\n",
              "      <th></th>\n",
              "      <th></th>\n",
              "      <th>start</th>\n",
              "      <th>end</th>\n",
              "      <th>label</th>\n",
              "    </tr>\n",
              "    <tr>\n",
              "      <th>filename</th>\n",
              "      <th>sel_id</th>\n",
              "      <th></th>\n",
              "      <th></th>\n",
              "      <th></th>\n",
              "    </tr>\n",
              "  </thead>\n",
              "  <tbody>\n",
              "    <tr>\n",
              "      <th rowspan=\"5\" valign=\"top\">1562337136_0004.wav</th>\n",
              "      <th>0</th>\n",
              "      <td>0.316021</td>\n",
              "      <td>2.316021</td>\n",
              "      <td>0</td>\n",
              "    </tr>\n",
              "    <tr>\n",
              "      <th>1</th>\n",
              "      <td>11.787732</td>\n",
              "      <td>13.787732</td>\n",
              "      <td>0</td>\n",
              "    </tr>\n",
              "    <tr>\n",
              "      <th>2</th>\n",
              "      <td>13.420318</td>\n",
              "      <td>15.420318</td>\n",
              "      <td>0</td>\n",
              "    </tr>\n",
              "    <tr>\n",
              "      <th>3</th>\n",
              "      <td>21.158559</td>\n",
              "      <td>23.158559</td>\n",
              "      <td>0</td>\n",
              "    </tr>\n",
              "    <tr>\n",
              "      <th>4</th>\n",
              "      <td>23.745995</td>\n",
              "      <td>25.745995</td>\n",
              "      <td>0</td>\n",
              "    </tr>\n",
              "  </tbody>\n",
              "</table>\n",
              "</div>"
            ],
            "text/plain": [
              "                                start        end  label\n",
              "filename            sel_id                             \n",
              "1562337136_0004.wav 0        0.316021   2.316021      0\n",
              "                    1       11.787732  13.787732      0\n",
              "                    2       13.420318  15.420318      0\n",
              "                    3       21.158559  23.158559      0\n",
              "                    4       23.745995  25.745995      0"
            ]
          },
          "metadata": {
            "tags": []
          },
          "execution_count": 40
        }
      ]
    },
    {
      "cell_type": "markdown",
      "metadata": {
        "id": "3ygGRW6DS-bp",
        "colab_type": "text"
      },
      "source": [
        "####Extracting the area by looking at time where there are no occurences of calls in tsv file "
      ]
    },
    {
      "cell_type": "code",
      "metadata": {
        "id": "WnRDtLYYR0SK",
        "colab_type": "code",
        "colab": {
          "base_uri": "https://localhost:8080/",
          "height": 238
        },
        "outputId": "00a91662-b7d8-4aff-fe93-42c35128cd61"
      },
      "source": [
        "positives_train3 = sl.select(annotations=std_annot_train3, length=2.0)\n",
        "file_durations_train33 = sl.file_duration_table('/content/Round3_OS_09_27_2017/wav')\n",
        "negatives_train33=sl.create_rndm_backgr_selections(annotations=std_annot_train3, files=file_durations_train33, length=2.0, num=len(positives_train3), trim_table=True)\n",
        "negatives_train33.head()"
      ],
      "execution_count": null,
      "outputs": [
        {
          "output_type": "execute_result",
          "data": {
            "text/html": [
              "<div>\n",
              "<style scoped>\n",
              "    .dataframe tbody tr th:only-of-type {\n",
              "        vertical-align: middle;\n",
              "    }\n",
              "\n",
              "    .dataframe tbody tr th {\n",
              "        vertical-align: top;\n",
              "    }\n",
              "\n",
              "    .dataframe thead th {\n",
              "        text-align: right;\n",
              "    }\n",
              "</style>\n",
              "<table border=\"1\" class=\"dataframe\">\n",
              "  <thead>\n",
              "    <tr style=\"text-align: right;\">\n",
              "      <th></th>\n",
              "      <th></th>\n",
              "      <th>start</th>\n",
              "      <th>end</th>\n",
              "      <th>label</th>\n",
              "    </tr>\n",
              "    <tr>\n",
              "      <th>filename</th>\n",
              "      <th>sel_id</th>\n",
              "      <th></th>\n",
              "      <th></th>\n",
              "      <th></th>\n",
              "    </tr>\n",
              "  </thead>\n",
              "  <tbody>\n",
              "    <tr>\n",
              "      <th>OS_9_27_2017_08_03_00__0002.wav</th>\n",
              "      <th>0</th>\n",
              "      <td>31.586918</td>\n",
              "      <td>33.586918</td>\n",
              "      <td>0</td>\n",
              "    </tr>\n",
              "    <tr>\n",
              "      <th rowspan=\"4\" valign=\"top\">OS_9_27_2017_08_03_00__0003.wav</th>\n",
              "      <th>0</th>\n",
              "      <td>9.968256</td>\n",
              "      <td>11.968256</td>\n",
              "      <td>0</td>\n",
              "    </tr>\n",
              "    <tr>\n",
              "      <th>1</th>\n",
              "      <td>15.586086</td>\n",
              "      <td>17.586086</td>\n",
              "      <td>0</td>\n",
              "    </tr>\n",
              "    <tr>\n",
              "      <th>2</th>\n",
              "      <td>17.013745</td>\n",
              "      <td>19.013745</td>\n",
              "      <td>0</td>\n",
              "    </tr>\n",
              "    <tr>\n",
              "      <th>3</th>\n",
              "      <td>50.955001</td>\n",
              "      <td>52.955001</td>\n",
              "      <td>0</td>\n",
              "    </tr>\n",
              "  </tbody>\n",
              "</table>\n",
              "</div>"
            ],
            "text/plain": [
              "                                            start        end  label\n",
              "filename                        sel_id                             \n",
              "OS_9_27_2017_08_03_00__0002.wav 0       31.586918  33.586918      0\n",
              "OS_9_27_2017_08_03_00__0003.wav 0        9.968256  11.968256      0\n",
              "                                1       15.586086  17.586086      0\n",
              "                                2       17.013745  19.013745      0\n",
              "                                3       50.955001  52.955001      0"
            ]
          },
          "metadata": {
            "tags": []
          },
          "execution_count": 43
        }
      ]
    },
    {
      "cell_type": "markdown",
      "metadata": {
        "id": "kiNo3Fj4g7D1",
        "colab_type": "text"
      },
      "source": [
        "###Then the steps for generating audio is same as we did above for the positive calls"
      ]
    },
    {
      "cell_type": "code",
      "metadata": {
        "id": "ON7YmtKdXxkZ",
        "colab_type": "code",
        "colab": {
          "base_uri": "https://localhost:8080/",
          "height": 34
        },
        "outputId": "bfba7a9d-2761-4795-881f-f3a34172f687"
      },
      "source": [
        "!pwd"
      ],
      "execution_count": null,
      "outputs": [
        {
          "output_type": "stream",
          "text": [
            "/content/Round2_OS_07_05/test\n"
          ],
          "name": "stdout"
        }
      ]
    },
    {
      "cell_type": "code",
      "metadata": {
        "id": "K-yWiGYhWU2b",
        "colab_type": "code",
        "colab": {}
      },
      "source": [
        ""
      ],
      "execution_count": null,
      "outputs": []
    },
    {
      "cell_type": "code",
      "metadata": {
        "id": "sNfTUpKFWKMc",
        "colab_type": "code",
        "colab": {
          "base_uri": "https://localhost:8080/",
          "height": 34
        },
        "outputId": "c3929248-ef5f-4ea7-8555-0e085598235c"
      },
      "source": [
        "%cd '/content/Round2_OS_07_05/wav'"
      ],
      "execution_count": null,
      "outputs": [
        {
          "output_type": "stream",
          "text": [
            "/content/Round2_OS_07_05/wav\n"
          ],
          "name": "stdout"
        }
      ]
    },
    {
      "cell_type": "code",
      "metadata": {
        "id": "PZwc5gj_WWIu",
        "colab_type": "code",
        "colab": {}
      },
      "source": [
        "!mkdir neg_pod_calls"
      ],
      "execution_count": null,
      "outputs": []
    },
    {
      "cell_type": "code",
      "metadata": {
        "id": "A9sHFUjmW9-O",
        "colab_type": "code",
        "colab": {}
      },
      "source": [
        "negatives_train2.to_csv('negative2.tsv', mode='a', sep='\\t',header=False)\n",
        "negatives_train33.to_csv('negative3.tsv', mode='a', sep='\\t',header=False)"
      ],
      "execution_count": null,
      "outputs": []
    },
    {
      "cell_type": "code",
      "metadata": {
        "id": "gs10Vi6sW90D",
        "colab_type": "code",
        "colab": {}
      },
      "source": [
        "negatives_train2save=pd.read_csv('/content/Round2_OS_07_05/test/negative2.tsv',sep='\\t')\n",
        "negatives_train33save=pd.read_csv('/content/Round2_OS_07_05/test/negative3.tsv',sep='\\t')"
      ],
      "execution_count": null,
      "outputs": []
    },
    {
      "cell_type": "code",
      "metadata": {
        "id": "DfPmqCLeYAQ9",
        "colab_type": "code",
        "colab": {
          "base_uri": "https://localhost:8080/",
          "height": 206
        },
        "outputId": "4cb61df6-40ec-42ee-b0b6-2ced21a60d0b"
      },
      "source": [
        "negatives_train2save.head()"
      ],
      "execution_count": null,
      "outputs": [
        {
          "output_type": "execute_result",
          "data": {
            "text/html": [
              "<div>\n",
              "<style scoped>\n",
              "    .dataframe tbody tr th:only-of-type {\n",
              "        vertical-align: middle;\n",
              "    }\n",
              "\n",
              "    .dataframe tbody tr th {\n",
              "        vertical-align: top;\n",
              "    }\n",
              "\n",
              "    .dataframe thead th {\n",
              "        text-align: right;\n",
              "    }\n",
              "</style>\n",
              "<table border=\"1\" class=\"dataframe\">\n",
              "  <thead>\n",
              "    <tr style=\"text-align: right;\">\n",
              "      <th></th>\n",
              "      <th>1562337136_0004.wav</th>\n",
              "      <th>0</th>\n",
              "      <th>4.965906564760641</th>\n",
              "      <th>6.965906564760641</th>\n",
              "      <th>0.1</th>\n",
              "    </tr>\n",
              "  </thead>\n",
              "  <tbody>\n",
              "    <tr>\n",
              "      <th>0</th>\n",
              "      <td>1562337136_0004.wav</td>\n",
              "      <td>1</td>\n",
              "      <td>8.060243</td>\n",
              "      <td>10.060243</td>\n",
              "      <td>0</td>\n",
              "    </tr>\n",
              "    <tr>\n",
              "      <th>1</th>\n",
              "      <td>1562337136_0004.wav</td>\n",
              "      <td>2</td>\n",
              "      <td>13.916050</td>\n",
              "      <td>15.916050</td>\n",
              "      <td>0</td>\n",
              "    </tr>\n",
              "    <tr>\n",
              "      <th>2</th>\n",
              "      <td>1562337136_0004.wav</td>\n",
              "      <td>3</td>\n",
              "      <td>19.756478</td>\n",
              "      <td>21.756478</td>\n",
              "      <td>0</td>\n",
              "    </tr>\n",
              "    <tr>\n",
              "      <th>3</th>\n",
              "      <td>1562337136_0004.wav</td>\n",
              "      <td>4</td>\n",
              "      <td>23.582382</td>\n",
              "      <td>25.582382</td>\n",
              "      <td>0</td>\n",
              "    </tr>\n",
              "    <tr>\n",
              "      <th>4</th>\n",
              "      <td>1562337136_0004.wav</td>\n",
              "      <td>5</td>\n",
              "      <td>28.850221</td>\n",
              "      <td>30.850221</td>\n",
              "      <td>0</td>\n",
              "    </tr>\n",
              "  </tbody>\n",
              "</table>\n",
              "</div>"
            ],
            "text/plain": [
              "   1562337136_0004.wav  0  4.965906564760641  6.965906564760641  0.1\n",
              "0  1562337136_0004.wav  1           8.060243          10.060243    0\n",
              "1  1562337136_0004.wav  2          13.916050          15.916050    0\n",
              "2  1562337136_0004.wav  3          19.756478          21.756478    0\n",
              "3  1562337136_0004.wav  4          23.582382          25.582382    0\n",
              "4  1562337136_0004.wav  5          28.850221          30.850221    0"
            ]
          },
          "metadata": {
            "tags": []
          },
          "execution_count": 55
        }
      ]
    },
    {
      "cell_type": "code",
      "metadata": {
        "id": "GLl1gMjAV40O",
        "colab_type": "code",
        "colab": {}
      },
      "source": [
        "extract_audio('r2negcalls_calls',negatives_train2save,\"/content/Round2_OS_07_05/wav/neg_pod_calls/\",2)"
      ],
      "execution_count": null,
      "outputs": []
    },
    {
      "cell_type": "code",
      "metadata": {
        "id": "k8BTU-XdYtbl",
        "colab_type": "code",
        "colab": {
          "base_uri": "https://localhost:8080/",
          "height": 34
        },
        "outputId": "41864cd8-8fe8-4909-e82c-ba3883304d76"
      },
      "source": [
        "%cd '/content/Round3_OS_09_27_2017/wav'"
      ],
      "execution_count": null,
      "outputs": [
        {
          "output_type": "stream",
          "text": [
            "/content/Round3_OS_09_27_2017/wav\n"
          ],
          "name": "stdout"
        }
      ]
    },
    {
      "cell_type": "code",
      "metadata": {
        "id": "CkEBIFgWVTPg",
        "colab_type": "code",
        "colab": {}
      },
      "source": [
        "extract_audio('r3neg_calls',negatives_train33save,\"/content/Round2_OS_07_05/wav/neg_pod_calls/\",2)"
      ],
      "execution_count": null,
      "outputs": []
    },
    {
      "cell_type": "code",
      "metadata": {
        "id": "JV8DaHW5VcNp",
        "colab_type": "code",
        "colab": {
          "base_uri": "https://localhost:8080/",
          "height": 206
        },
        "outputId": "2ef6d7f7-9960-44bc-a43b-d63f6fa45e05"
      },
      "source": [
        "negatives_train33save.head()"
      ],
      "execution_count": null,
      "outputs": [
        {
          "output_type": "execute_result",
          "data": {
            "text/html": [
              "<div>\n",
              "<style scoped>\n",
              "    .dataframe tbody tr th:only-of-type {\n",
              "        vertical-align: middle;\n",
              "    }\n",
              "\n",
              "    .dataframe tbody tr th {\n",
              "        vertical-align: top;\n",
              "    }\n",
              "\n",
              "    .dataframe thead th {\n",
              "        text-align: right;\n",
              "    }\n",
              "</style>\n",
              "<table border=\"1\" class=\"dataframe\">\n",
              "  <thead>\n",
              "    <tr style=\"text-align: right;\">\n",
              "      <th></th>\n",
              "      <th>OS_9_27_2017_08_03_00__0002.wav</th>\n",
              "      <th>0</th>\n",
              "      <th>31.586917768911015</th>\n",
              "      <th>33.586917768911015</th>\n",
              "      <th>0.1</th>\n",
              "    </tr>\n",
              "  </thead>\n",
              "  <tbody>\n",
              "    <tr>\n",
              "      <th>0</th>\n",
              "      <td>OS_9_27_2017_08_03_00__0003.wav</td>\n",
              "      <td>0</td>\n",
              "      <td>9.968256</td>\n",
              "      <td>11.968256</td>\n",
              "      <td>0</td>\n",
              "    </tr>\n",
              "    <tr>\n",
              "      <th>1</th>\n",
              "      <td>OS_9_27_2017_08_03_00__0003.wav</td>\n",
              "      <td>1</td>\n",
              "      <td>15.586086</td>\n",
              "      <td>17.586086</td>\n",
              "      <td>0</td>\n",
              "    </tr>\n",
              "    <tr>\n",
              "      <th>2</th>\n",
              "      <td>OS_9_27_2017_08_03_00__0003.wav</td>\n",
              "      <td>2</td>\n",
              "      <td>17.013745</td>\n",
              "      <td>19.013745</td>\n",
              "      <td>0</td>\n",
              "    </tr>\n",
              "    <tr>\n",
              "      <th>3</th>\n",
              "      <td>OS_9_27_2017_08_03_00__0003.wav</td>\n",
              "      <td>3</td>\n",
              "      <td>50.955001</td>\n",
              "      <td>52.955001</td>\n",
              "      <td>0</td>\n",
              "    </tr>\n",
              "    <tr>\n",
              "      <th>4</th>\n",
              "      <td>OS_9_27_2017_08_09_00__0000.wav</td>\n",
              "      <td>0</td>\n",
              "      <td>0.236795</td>\n",
              "      <td>2.236795</td>\n",
              "      <td>0</td>\n",
              "    </tr>\n",
              "  </tbody>\n",
              "</table>\n",
              "</div>"
            ],
            "text/plain": [
              "   OS_9_27_2017_08_03_00__0002.wav  0  ...  33.586917768911015  0.1\n",
              "0  OS_9_27_2017_08_03_00__0003.wav  0  ...           11.968256    0\n",
              "1  OS_9_27_2017_08_03_00__0003.wav  1  ...           17.586086    0\n",
              "2  OS_9_27_2017_08_03_00__0003.wav  2  ...           19.013745    0\n",
              "3  OS_9_27_2017_08_03_00__0003.wav  3  ...           52.955001    0\n",
              "4  OS_9_27_2017_08_09_00__0000.wav  0  ...            2.236795    0\n",
              "\n",
              "[5 rows x 5 columns]"
            ]
          },
          "metadata": {
            "tags": []
          },
          "execution_count": 59
        }
      ]
    },
    {
      "cell_type": "code",
      "metadata": {
        "id": "EVxGYpk-XXrb",
        "colab_type": "code",
        "colab": {}
      },
      "source": [
        ""
      ],
      "execution_count": null,
      "outputs": []
    },
    {
      "cell_type": "code",
      "metadata": {
        "id": "wYhZWRouXW-C",
        "colab_type": "code",
        "colab": {
          "base_uri": "https://localhost:8080/",
          "height": 34
        },
        "outputId": "725d2c54-c225-460f-be97-7554c54dce79"
      },
      "source": [
        "!pwd"
      ],
      "execution_count": null,
      "outputs": [
        {
          "output_type": "stream",
          "text": [
            "/content/Round3_OS_09_27_2017/wav\n"
          ],
          "name": "stdout"
        }
      ]
    },
    {
      "cell_type": "code",
      "metadata": {
        "id": "P2p1h3PyW4iT",
        "colab_type": "code",
        "colab": {}
      },
      "source": [
        "import os\n",
        "import matplotlib.pyplot as plt\n",
        "import soundfile as sf\n",
        "import pandas as pd\n",
        "from pydub import AudioSegment\n",
        "\n",
        "\n",
        "# Generate mean and annot-train\n",
        "def duration_mean(filename):\n",
        "    annot_train = pd.read_csv(filename, sep='\\t')\n",
        "    mean = annot_train['duration_s'].mean()\n",
        "    return annot_train, mean\n",
        "\n",
        "\n",
        "# Function to find extract filename and start time\n",
        "def fname_stime(filename):\n",
        "    file_name = filename.iloc[:, 0].values\n",
        "    start_time = filename.iloc[:, 1].values\n",
        "    return file_name, start_time\n",
        "\n",
        "\n",
        "# Function to extract audio from the .wav files to generate\n",
        "# complete positive and negative calls\n",
        "def extract_audio(label, filename, path, position, file_location):\n",
        "    file_name = filename.iloc[:, 0].values\n",
        "    start_time = filename.iloc[:, position].values\n",
        "    i = 0\n",
        "    o = 0\n",
        "    os.chdir(file_location)\n",
        "\n",
        "    for x in file_name:\n",
        "        AUDIO_FILE = x\n",
        "        sound = AudioSegment.from_file(AUDIO_FILE)\n",
        "        p = start_time[i]\n",
        "        p = p * 1000\n",
        "        print(p)\n",
        "        i = i + 1\n",
        "        o = p + 3000\n",
        "        call = sound[p:o]\n",
        "        call.export(path + label + \"MMMcalls{0}.wav\".format(i), format=\"wav\")\n",
        "\n",
        "\n",
        "#Plotting the spectrogram\n",
        "def plot_spectrogram(base,plot,calls):\n",
        "    basePath = base\n",
        "    plotPath = join(basePath,plot)\n",
        "    folderpath = join(basePath, calls)\n",
        "    onlyfiles = [f for f in listdir(folderpath) if isfile(join(join(folderpath, f)))]\n",
        "    for idx, file in enumerate(onlyfiles):\n",
        "        data, samplerate = sf.read(join(folderpath, file))\n",
        "        f, t, spec = signal.spectrogram(data, samplerate)\n",
        "        filename = file.split(sep=\".\")[0]\n",
        "    \n",
        "        fig, ax = plt.subplots(1, 1)\n",
        "        ax.specgram(data, Fs=samplerate, NFFT=1024)\n",
        "        ax.get_xaxis().set_visible(False)\n",
        "        ax.get_yaxis().set_visible(False)\n",
        "\n",
        "\n",
        "        scale_y = 1000\n",
        "        ticks_y = ticker.FuncFormatter(lambda x, pos: '{0:g}'.format(x/scale_y))\n",
        "        os.chdir(plotPath)\n",
        "\n",
        "        plt.savefig(join(plotPath, \n",
        "                 filename + \".png\"))\n",
        "        plt.close(fig)\n",
        "\n",
        "\n",
        "# Enter the path of the standardized tsv's\n",
        "annot_train2, mean2 = duration_mean('/content/podcast2.tsv')\n",
        "annot_train3, mean3 = duration_mean('/content/podcast3.tsv')\n",
        "annot_test, mean_test = duration_mean('/content/v10_test.tsv')\n",
        "\n",
        "\n",
        "# Extract the audio of the calls\n",
        "extract_audio(\n",
        "    \"round2_calls\", annot_train2,\n",
        "    \"/content/pod_calls/\", 1,\n",
        "    \"/content/Round2_OS_07_05/wav/\")\n",
        "\n",
        "extract_audio(\n",
        "    'round3_calls', annot_train3,\n",
        "    \"/content/pod_calls/\", 1,\n",
        "    \"/content/Round3_OS_09_27_2017/wav/\")\n",
        "\n",
        "\n",
        "#Standardizing the tsv files\n",
        "map_to_ketos_annot_std ={'wav_filename': 'filename'} \n",
        "std_annot_train2 = sl.standardize(table=annot_train2, signal_labels=[\"SRKWs\"], \n",
        "                       mapper=map_to_ketos_annot_std, trim_table=True)\n",
        "std_annot_train3 = sl.standardize(table=annot_train3, signal_labels=[\"SRKWs\"], \n",
        "                       mapper=map_to_ketos_annot_std, trim_table=True)\n",
        "std_annot_test = sl.standardize(table=annot_test, signal_labels=[\"SRKWs\"], \n",
        "                       mapper=map_to_ketos_annot_std, trim_table=True)\n",
        "\n",
        "\n",
        "\n",
        "# Since we also want the negative audio, we would generate negative sound \n",
        "# by extracting it from the background sound what are not present in  the call\n",
        "# duration. For that first we create a tsv that generates time-interval from the\n",
        "# tsv files that are not within the start-time and end-time\n",
        "positives_train2 = sl.select(annotations=std_annot_train2, length=3.0)\n",
        "file_durations_train2 = sl.file_duration_table('/content/Round2_OS_07_05/wav')\n",
        "negatives_train2=sl.create_rndm_backgr_selections(\n",
        "                    annotations=std_annot_train2, \n",
        "                    files=file_durations_train2, length=3.0, \n",
        "                    num=len(positives_train2), \n",
        "                    trim_table=True)\n",
        "\n",
        "\n",
        "# Same steps for podcast3 tsv file\n",
        "positives_train3 = sl.select(annotations=std_annot_train3, length=3.0)\n",
        "file_durations_train33 = sl.file_duration_table('/content/Round3_OS_09_27_2017/wav')\n",
        "negatives_train33=sl.create_rndm_backgr_selections(\n",
        "                    annotations=std_annot_train3, \n",
        "                    files=file_durations_train33, \n",
        "                    length=3.0, num=len(positives_train3), \n",
        "                    trim_table=True)\n",
        "\n",
        "\n",
        "#Saving these tsv files for future use\n",
        "negatives_train2.to_csv('negative2.tsv', mode='a', sep='\\t',header=False)\n",
        "negatives_train33.to_csv('negative3.tsv', mode='a', sep='\\t',header=False)\n",
        "negatives_train2save=pd.read_csv('/content/Round2_OS_07_05/test/negative2.tsv',sep='\\t')\n",
        "negatives_train33save=pd.read_csv('/content/Round2_OS_07_05/test/negative3.tsv',sep='\\t')\n",
        "\n",
        "\n",
        "\n",
        "extract_audio(\n",
        "    'round2_calls', negatives_train2save,\n",
        "    \"/content/pod_calls/\", 2,\n",
        "    \"/content/Round2_OS_07_05/wav/\")\n",
        "\n",
        "\n",
        "extract_audio(\n",
        "    'round3_calls', negatives_train33save,\n",
        "    \"/content/pod_calls/\", 2,\n",
        "    \"/content/Round3_OS_09_27_2017/wav/\")\n",
        "\n",
        "\n",
        "plot_spectrogram('/content/Round2_OS_07_05/','train/calls','wav/pod_calls')\n",
        "plot_spectrogram('/content/Round2_OS_07_05/','train/nocalls','wav/neg_pod_calls')\n"
      ],
      "execution_count": null,
      "outputs": []
    },
    {
      "cell_type": "code",
      "metadata": {
        "id": "OcdK6CCLZyLF",
        "colab_type": "code",
        "colab": {}
      },
      "source": [
        "plot_spectrogram('/content/Round2_OS_07_05/','train/nocalls','wav/neg_pod_calls')\n"
      ],
      "execution_count": null,
      "outputs": []
    },
    {
      "cell_type": "markdown",
      "metadata": {
        "id": "K_mmmVx4mvlC",
        "colab_type": "text"
      },
      "source": [
        "###Now we have saved the images(spectrograms) of the negtive calls "
      ]
    },
    {
      "cell_type": "markdown",
      "metadata": {
        "id": "-KHcVPddm5R6",
        "colab_type": "text"
      },
      "source": [
        "##We would perform similar steps with test data as well where in :\n",
        "\n",
        "*   Extract area responsible for the call from the Orcasound_test tsv file\n",
        "*   Standardize that tsv file\n",
        "*   Generate 2 second calls that contains the audio data\n",
        "*   Generate background sound from tsv of 2 seconds \n",
        "*   Generate spectrograms from these sounds \n",
        "\n",
        "\n",
        "\n",
        "---\n",
        "\n",
        "\n",
        "\n",
        "\n",
        "\n"
      ]
    },
    {
      "cell_type": "code",
      "metadata": {
        "id": "HY6HT5clcg3r",
        "colab_type": "code",
        "colab": {
          "base_uri": "https://localhost:8080/",
          "height": 226
        },
        "outputId": "03ee25c4-f02c-46e1-9eb5-c8d86db10074"
      },
      "source": [
        "annot_test.head()"
      ],
      "execution_count": null,
      "outputs": [
        {
          "output_type": "execute_result",
          "data": {
            "text/html": [
              "<div>\n",
              "<style scoped>\n",
              "    .dataframe tbody tr th:only-of-type {\n",
              "        vertical-align: middle;\n",
              "    }\n",
              "\n",
              "    .dataframe tbody tr th {\n",
              "        vertical-align: top;\n",
              "    }\n",
              "\n",
              "    .dataframe thead th {\n",
              "        text-align: right;\n",
              "    }\n",
              "</style>\n",
              "<table border=\"1\" class=\"dataframe\">\n",
              "  <thead>\n",
              "    <tr style=\"text-align: right;\">\n",
              "      <th></th>\n",
              "      <th>wav_filename</th>\n",
              "      <th>start</th>\n",
              "      <th>duration_s</th>\n",
              "      <th>location</th>\n",
              "      <th>date</th>\n",
              "      <th>data_source</th>\n",
              "      <th>data_source_id</th>\n",
              "      <th>label</th>\n",
              "      <th>end</th>\n",
              "    </tr>\n",
              "  </thead>\n",
              "  <tbody>\n",
              "    <tr>\n",
              "      <th>0</th>\n",
              "      <td>OS_9_27_2017_08_14_00__0001.wav</td>\n",
              "      <td>11.643564</td>\n",
              "      <td>2.450000</td>\n",
              "      <td>orcasound_lab</td>\n",
              "      <td>9/27/2017</td>\n",
              "      <td>Orcasound_PodCast_Round3</td>\n",
              "      <td>OS_9_27_2017_08_14</td>\n",
              "      <td>SRKWs</td>\n",
              "      <td>14.093564</td>\n",
              "    </tr>\n",
              "    <tr>\n",
              "      <th>1</th>\n",
              "      <td>OS_9_27_2017_08_14_00__0001.wav</td>\n",
              "      <td>15.594059</td>\n",
              "      <td>2.165842</td>\n",
              "      <td>orcasound_lab</td>\n",
              "      <td>9/27/2017</td>\n",
              "      <td>Orcasound_PodCast_Round3</td>\n",
              "      <td>OS_9_27_2017_08_14</td>\n",
              "      <td>SRKWs</td>\n",
              "      <td>17.759901</td>\n",
              "    </tr>\n",
              "    <tr>\n",
              "      <th>2</th>\n",
              "      <td>OS_9_27_2017_08_14_00__0001.wav</td>\n",
              "      <td>53.900000</td>\n",
              "      <td>2.450000</td>\n",
              "      <td>orcasound_lab</td>\n",
              "      <td>9/27/2017</td>\n",
              "      <td>Orcasound_PodCast_Round3</td>\n",
              "      <td>OS_9_27_2017_08_14</td>\n",
              "      <td>SRKWs</td>\n",
              "      <td>56.350000</td>\n",
              "    </tr>\n",
              "    <tr>\n",
              "      <th>3</th>\n",
              "      <td>OS_9_27_2017_08_14_00__0001.wav</td>\n",
              "      <td>59.781486</td>\n",
              "      <td>1.468514</td>\n",
              "      <td>orcasound_lab</td>\n",
              "      <td>9/27/2017</td>\n",
              "      <td>Orcasound_PodCast_Round3</td>\n",
              "      <td>OS_9_27_2017_08_14</td>\n",
              "      <td>SRKWs</td>\n",
              "      <td>61.250000</td>\n",
              "    </tr>\n",
              "    <tr>\n",
              "      <th>4</th>\n",
              "      <td>OS_9_27_2017_08_19_00__0002.wav</td>\n",
              "      <td>6.592882</td>\n",
              "      <td>1.233507</td>\n",
              "      <td>orcasound_lab</td>\n",
              "      <td>9/27/2017</td>\n",
              "      <td>Orcasound_PodCast_Round3</td>\n",
              "      <td>OS_9_27_2017_08_19</td>\n",
              "      <td>SRKWs</td>\n",
              "      <td>7.826389</td>\n",
              "    </tr>\n",
              "  </tbody>\n",
              "</table>\n",
              "</div>"
            ],
            "text/plain": [
              "                      wav_filename      start  ...  label        end\n",
              "0  OS_9_27_2017_08_14_00__0001.wav  11.643564  ...  SRKWs  14.093564\n",
              "1  OS_9_27_2017_08_14_00__0001.wav  15.594059  ...  SRKWs  17.759901\n",
              "2  OS_9_27_2017_08_14_00__0001.wav  53.900000  ...  SRKWs  56.350000\n",
              "3  OS_9_27_2017_08_14_00__0001.wav  59.781486  ...  SRKWs  61.250000\n",
              "4  OS_9_27_2017_08_19_00__0002.wav   6.592882  ...  SRKWs   7.826389\n",
              "\n",
              "[5 rows x 9 columns]"
            ]
          },
          "metadata": {
            "tags": []
          },
          "execution_count": 64
        }
      ]
    },
    {
      "cell_type": "code",
      "metadata": {
        "id": "nRuwWET6nM3i",
        "colab_type": "code",
        "colab": {}
      },
      "source": [
        "extract_audio('test_calls',annot_test,\"/content/Round2_OS_07_05/wav/pod_calls_test/\",1)"
      ],
      "execution_count": null,
      "outputs": []
    },
    {
      "cell_type": "code",
      "metadata": {
        "id": "Zm3u4N6tp9mz",
        "colab_type": "code",
        "colab": {
          "base_uri": "https://localhost:8080/",
          "height": 34
        },
        "outputId": "e7186da3-d094-465d-edef-fd8bf04dbb76"
      },
      "source": [
        "%cd /content/Round3_OS_09_27_2017/wav/OrcasoundLab09272017_Test/wav"
      ],
      "execution_count": null,
      "outputs": [
        {
          "output_type": "stream",
          "text": [
            "/content/Round3_OS_09_27_2017/wav/OrcasoundLab09272017_Test/wav\n"
          ],
          "name": "stdout"
        }
      ]
    },
    {
      "cell_type": "code",
      "metadata": {
        "id": "eNYr3i1cqj5-",
        "colab_type": "code",
        "colab": {}
      },
      "source": [
        "plot_spectrogram('/content/Round2_OS_07_05/','test/calls','wav/pod_calls_test')\n",
        "#plot_spectrogram('/content/Round2_OS_07_05/','train/nocalls','wav/neg_pod_calls')"
      ],
      "execution_count": null,
      "outputs": []
    },
    {
      "cell_type": "code",
      "metadata": {
        "id": "K04X60YQ5Y61",
        "colab_type": "code",
        "colab": {}
      },
      "source": [
        "positives_test = sl.select(annotations=std_annot_test, length=2.0)\n",
        "file_durations_test = sl.file_duration_table('/content/Round3_OS_09_27_2017/wav/OrcasoundLab09272017_Test/wav')\n",
        "negatives_test=sl.create_rndm_backgr_selections(annotations=std_annot_test, files=file_durations_test, length=2.0, num=len(positives_test), trim_table=True)\n",
        "negatives_test.to_csv('negg.tsv', mode='a', sep='\\t',header=False)"
      ],
      "execution_count": null,
      "outputs": []
    },
    {
      "cell_type": "code",
      "metadata": {
        "id": "vaJ_nDQYXRXh",
        "colab_type": "code",
        "colab": {
          "base_uri": "https://localhost:8080/",
          "height": 34
        },
        "outputId": "785cf1a7-68a8-49e7-fbe7-420bc7dca7e9"
      },
      "source": [
        "%cd '/content/Round3_OS_09_27_2017/wav'"
      ],
      "execution_count": null,
      "outputs": [
        {
          "output_type": "stream",
          "text": [
            "/content/Round3_OS_09_27_2017/wav\n"
          ],
          "name": "stdout"
        }
      ]
    },
    {
      "cell_type": "code",
      "metadata": {
        "id": "GB5CEm0HgHVN",
        "colab_type": "code",
        "colab": {}
      },
      "source": [
        "neg=pd.read_csv('/content/negg.tsv',sep='\\t')\n",
        "extract_audio('r3neg_calls_test',neg,\"/content/Round2_OS_07_05/wav/neg_pod_calls_test/\",2)"
      ],
      "execution_count": null,
      "outputs": []
    },
    {
      "cell_type": "code",
      "metadata": {
        "id": "KIfy4qQJtuuj",
        "colab_type": "code",
        "colab": {
          "base_uri": "https://localhost:8080/",
          "height": 206
        },
        "outputId": "fa537a36-169e-4318-ca2a-22c9f99d2fb8"
      },
      "source": [
        "neg.head()"
      ],
      "execution_count": null,
      "outputs": [
        {
          "output_type": "execute_result",
          "data": {
            "text/html": [
              "<div>\n",
              "<style scoped>\n",
              "    .dataframe tbody tr th:only-of-type {\n",
              "        vertical-align: middle;\n",
              "    }\n",
              "\n",
              "    .dataframe tbody tr th {\n",
              "        vertical-align: top;\n",
              "    }\n",
              "\n",
              "    .dataframe thead th {\n",
              "        text-align: right;\n",
              "    }\n",
              "</style>\n",
              "<table border=\"1\" class=\"dataframe\">\n",
              "  <thead>\n",
              "    <tr style=\"text-align: right;\">\n",
              "      <th></th>\n",
              "      <th>OS_9_27_2017_08_14_00__0001.wav</th>\n",
              "      <th>0</th>\n",
              "      <th>1.9261489230579651</th>\n",
              "      <th>3.926148923057965</th>\n",
              "      <th>0.1</th>\n",
              "    </tr>\n",
              "  </thead>\n",
              "  <tbody>\n",
              "    <tr>\n",
              "      <th>0</th>\n",
              "      <td>OS_9_27_2017_08_14_00__0001.wav</td>\n",
              "      <td>1</td>\n",
              "      <td>32.092360</td>\n",
              "      <td>34.092360</td>\n",
              "      <td>0</td>\n",
              "    </tr>\n",
              "    <tr>\n",
              "      <th>1</th>\n",
              "      <td>OS_9_27_2017_08_19_00__0002.wav</td>\n",
              "      <td>0</td>\n",
              "      <td>8.783855</td>\n",
              "      <td>10.783855</td>\n",
              "      <td>0</td>\n",
              "    </tr>\n",
              "    <tr>\n",
              "      <th>2</th>\n",
              "      <td>OS_9_27_2017_08_19_00__0002.wav</td>\n",
              "      <td>1</td>\n",
              "      <td>10.833785</td>\n",
              "      <td>12.833785</td>\n",
              "      <td>0</td>\n",
              "    </tr>\n",
              "    <tr>\n",
              "      <th>3</th>\n",
              "      <td>OS_9_27_2017_08_19_00__0002.wav</td>\n",
              "      <td>2</td>\n",
              "      <td>17.738476</td>\n",
              "      <td>19.738476</td>\n",
              "      <td>0</td>\n",
              "    </tr>\n",
              "    <tr>\n",
              "      <th>4</th>\n",
              "      <td>OS_9_27_2017_08_19_00__0002.wav</td>\n",
              "      <td>3</td>\n",
              "      <td>33.540716</td>\n",
              "      <td>35.540716</td>\n",
              "      <td>0</td>\n",
              "    </tr>\n",
              "  </tbody>\n",
              "</table>\n",
              "</div>"
            ],
            "text/plain": [
              "   OS_9_27_2017_08_14_00__0001.wav  0  ...  3.926148923057965  0.1\n",
              "0  OS_9_27_2017_08_14_00__0001.wav  1  ...          34.092360    0\n",
              "1  OS_9_27_2017_08_19_00__0002.wav  0  ...          10.783855    0\n",
              "2  OS_9_27_2017_08_19_00__0002.wav  1  ...          12.833785    0\n",
              "3  OS_9_27_2017_08_19_00__0002.wav  2  ...          19.738476    0\n",
              "4  OS_9_27_2017_08_19_00__0002.wav  3  ...          35.540716    0\n",
              "\n",
              "[5 rows x 5 columns]"
            ]
          },
          "metadata": {
            "tags": []
          },
          "execution_count": 84
        }
      ]
    },
    {
      "cell_type": "code",
      "metadata": {
        "id": "QPRzqTF8uiv7",
        "colab_type": "code",
        "colab": {}
      },
      "source": [
        "plot_spectrogram('/content/Round2_OS_07_05/','test/nocalls','wav/neg_pod_calls_test')"
      ],
      "execution_count": null,
      "outputs": []
    },
    {
      "cell_type": "code",
      "metadata": {
        "id": "ITVq2kQbhuH-",
        "colab_type": "code",
        "colab": {}
      },
      "source": [
        "!zip -r /content/train_nopreprocess.zip /content/Round2_OS_07_05/train"
      ],
      "execution_count": null,
      "outputs": []
    },
    {
      "cell_type": "code",
      "metadata": {
        "id": "fiGOw56ciN3P",
        "colab_type": "code",
        "colab": {}
      },
      "source": [
        "!zip -r /content/negtrainsave.zip /content/Round2_OS_07_05/train/nocalls"
      ],
      "execution_count": null,
      "outputs": []
    },
    {
      "cell_type": "code",
      "metadata": {
        "id": "7loean_ciNz0",
        "colab_type": "code",
        "colab": {}
      },
      "source": [
        "!zip -r /content/no_preprocess_test.zip /content/Round2_OS_07_05/test"
      ],
      "execution_count": null,
      "outputs": []
    }
  ]
}