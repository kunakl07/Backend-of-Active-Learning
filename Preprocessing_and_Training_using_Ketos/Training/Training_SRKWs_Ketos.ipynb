{
  "nbformat": 4,
  "nbformat_minor": 0,
  "metadata": {
    "colab": {
      "name": "Training_SRKWs_Ketos.ipynb",
      "provenance": []
    },
    "kernelspec": {
      "name": "python3",
      "display_name": "Python 3"
    }
  },
  "cells": [
    {
      "cell_type": "markdown",
      "metadata": {
        "id": "xvW1aYk5ArU6",
        "colab_type": "text"
      },
      "source": [
        "# **Now, starts the NN model creation and building**"
      ]
    },
    {
      "cell_type": "markdown",
      "metadata": {
        "id": "mFWI76SoqL1z",
        "colab_type": "text"
      },
      "source": [
        "### Importing the necessary libraries"
      ]
    },
    {
      "cell_type": "code",
      "metadata": {
        "id": "5y3LmJUrG87f",
        "colab_type": "code",
        "colab": {
          "base_uri": "https://localhost:8080/",
          "height": 1000
        },
        "outputId": "241aa10b-4e3a-44a1-9919-66af45f0b969"
      },
      "source": [
        "!pip install pysoundfile\n",
        "!pip install ketos==2.0.0b4\n",
        "\n",
        "import ketos.data_handling.database_interface as dbi\n",
        "from ketos.neural_networks.resnet import ResNetInterface\n",
        "from ketos.data_handling.data_feeding import BatchGenerator"
      ],
      "execution_count": null,
      "outputs": [
        {
          "output_type": "stream",
          "text": [
            "Requirement already satisfied: pysoundfile in /usr/local/lib/python3.6/dist-packages (0.9.0.post1)\n",
            "Requirement already satisfied: cffi>=0.6 in /usr/local/lib/python3.6/dist-packages (from pysoundfile) (1.14.0)\n",
            "Requirement already satisfied: pycparser in /usr/local/lib/python3.6/dist-packages (from cffi>=0.6->pysoundfile) (2.20)\n",
            "Requirement already satisfied: ketos==2.0.0b4 in /usr/local/lib/python3.6/dist-packages (2.0.0b4)\n",
            "Requirement already satisfied: tensorflow==2.1 in /usr/local/lib/python3.6/dist-packages (from ketos==2.0.0b4) (2.1.0)\n",
            "Requirement already satisfied: psutil in /usr/local/lib/python3.6/dist-packages (from ketos==2.0.0b4) (5.4.8)\n",
            "Requirement already satisfied: setuptools>=41.0.0 in /usr/local/lib/python3.6/dist-packages (from ketos==2.0.0b4) (46.4.0)\n",
            "Requirement already satisfied: scikit-learn in /usr/local/lib/python3.6/dist-packages (from ketos==2.0.0b4) (0.22.2.post1)\n",
            "Requirement already satisfied: pint in /usr/local/lib/python3.6/dist-packages (from ketos==2.0.0b4) (0.12)\n",
            "Requirement already satisfied: matplotlib in /usr/local/lib/python3.6/dist-packages (from ketos==2.0.0b4) (3.2.1)\n",
            "Requirement already satisfied: scipy in /usr/local/lib/python3.6/dist-packages (from ketos==2.0.0b4) (1.4.1)\n",
            "Requirement already satisfied: pandas in /usr/local/lib/python3.6/dist-packages (from ketos==2.0.0b4) (1.0.3)\n",
            "Requirement already satisfied: numpy in /usr/local/lib/python3.6/dist-packages (from ketos==2.0.0b4) (1.18.4)\n",
            "Requirement already satisfied: tqdm in /usr/local/lib/python3.6/dist-packages (from ketos==2.0.0b4) (4.41.1)\n",
            "Requirement already satisfied: librosa in /usr/local/lib/python3.6/dist-packages (from ketos==2.0.0b4) (0.6.3)\n",
            "Requirement already satisfied: tables in /usr/local/lib/python3.6/dist-packages (from ketos==2.0.0b4) (3.4.4)\n",
            "Requirement already satisfied: tensorflow-addons==0.8.3 in /usr/local/lib/python3.6/dist-packages (from ketos==2.0.0b4) (0.8.3)\n",
            "Requirement already satisfied: numba==0.48.0 in /usr/local/lib/python3.6/dist-packages (from ketos==2.0.0b4) (0.48.0)\n",
            "Requirement already satisfied: scikit-image in /usr/local/lib/python3.6/dist-packages (from ketos==2.0.0b4) (0.16.2)\n",
            "Requirement already satisfied: datetime-glob in /usr/local/lib/python3.6/dist-packages (from ketos==2.0.0b4) (1.0.7)\n",
            "Requirement already satisfied: keras-preprocessing>=1.1.0 in /usr/local/lib/python3.6/dist-packages (from tensorflow==2.1->ketos==2.0.0b4) (1.1.2)\n",
            "Requirement already satisfied: six>=1.12.0 in /usr/local/lib/python3.6/dist-packages (from tensorflow==2.1->ketos==2.0.0b4) (1.12.0)\n",
            "Requirement already satisfied: absl-py>=0.7.0 in /usr/local/lib/python3.6/dist-packages (from tensorflow==2.1->ketos==2.0.0b4) (0.9.0)\n",
            "Requirement already satisfied: wrapt>=1.11.1 in /usr/local/lib/python3.6/dist-packages (from tensorflow==2.1->ketos==2.0.0b4) (1.12.1)\n",
            "Requirement already satisfied: tensorboard<2.2.0,>=2.1.0 in /usr/local/lib/python3.6/dist-packages (from tensorflow==2.1->ketos==2.0.0b4) (2.1.1)\n",
            "Requirement already satisfied: gast==0.2.2 in /usr/local/lib/python3.6/dist-packages (from tensorflow==2.1->ketos==2.0.0b4) (0.2.2)\n",
            "Requirement already satisfied: google-pasta>=0.1.6 in /usr/local/lib/python3.6/dist-packages (from tensorflow==2.1->ketos==2.0.0b4) (0.2.0)\n",
            "Requirement already satisfied: grpcio>=1.8.6 in /usr/local/lib/python3.6/dist-packages (from tensorflow==2.1->ketos==2.0.0b4) (1.29.0)\n",
            "Requirement already satisfied: wheel>=0.26; python_version >= \"3\" in /usr/local/lib/python3.6/dist-packages (from tensorflow==2.1->ketos==2.0.0b4) (0.34.2)\n",
            "Requirement already satisfied: protobuf>=3.8.0 in /usr/local/lib/python3.6/dist-packages (from tensorflow==2.1->ketos==2.0.0b4) (3.10.0)\n",
            "Requirement already satisfied: astor>=0.6.0 in /usr/local/lib/python3.6/dist-packages (from tensorflow==2.1->ketos==2.0.0b4) (0.8.1)\n",
            "Requirement already satisfied: termcolor>=1.1.0 in /usr/local/lib/python3.6/dist-packages (from tensorflow==2.1->ketos==2.0.0b4) (1.1.0)\n",
            "Requirement already satisfied: tensorflow-estimator<2.2.0,>=2.1.0rc0 in /usr/local/lib/python3.6/dist-packages (from tensorflow==2.1->ketos==2.0.0b4) (2.1.0)\n",
            "Requirement already satisfied: opt-einsum>=2.3.2 in /usr/local/lib/python3.6/dist-packages (from tensorflow==2.1->ketos==2.0.0b4) (3.2.1)\n",
            "Requirement already satisfied: keras-applications>=1.0.8 in /usr/local/lib/python3.6/dist-packages (from tensorflow==2.1->ketos==2.0.0b4) (1.0.8)\n",
            "Requirement already satisfied: joblib>=0.11 in /usr/local/lib/python3.6/dist-packages (from scikit-learn->ketos==2.0.0b4) (0.15.1)\n",
            "Requirement already satisfied: python-dateutil>=2.1 in /usr/local/lib/python3.6/dist-packages (from matplotlib->ketos==2.0.0b4) (2.8.1)\n",
            "Requirement already satisfied: kiwisolver>=1.0.1 in /usr/local/lib/python3.6/dist-packages (from matplotlib->ketos==2.0.0b4) (1.2.0)\n",
            "Requirement already satisfied: cycler>=0.10 in /usr/local/lib/python3.6/dist-packages (from matplotlib->ketos==2.0.0b4) (0.10.0)\n",
            "Requirement already satisfied: pyparsing!=2.0.4,!=2.1.2,!=2.1.6,>=2.0.1 in /usr/local/lib/python3.6/dist-packages (from matplotlib->ketos==2.0.0b4) (2.4.7)\n",
            "Requirement already satisfied: pytz>=2017.2 in /usr/local/lib/python3.6/dist-packages (from pandas->ketos==2.0.0b4) (2018.9)\n",
            "Requirement already satisfied: audioread>=2.0.0 in /usr/local/lib/python3.6/dist-packages (from librosa->ketos==2.0.0b4) (2.1.8)\n",
            "Requirement already satisfied: decorator>=3.0.0 in /usr/local/lib/python3.6/dist-packages (from librosa->ketos==2.0.0b4) (4.4.2)\n",
            "Requirement already satisfied: resampy>=0.2.0 in /usr/local/lib/python3.6/dist-packages (from librosa->ketos==2.0.0b4) (0.2.2)\n",
            "Requirement already satisfied: numexpr>=2.5.2 in /usr/local/lib/python3.6/dist-packages (from tables->ketos==2.0.0b4) (2.7.1)\n",
            "Requirement already satisfied: typeguard in /usr/local/lib/python3.6/dist-packages (from tensorflow-addons==0.8.3->ketos==2.0.0b4) (2.7.1)\n",
            "Requirement already satisfied: llvmlite<0.32.0,>=0.31.0dev0 in /usr/local/lib/python3.6/dist-packages (from numba==0.48.0->ketos==2.0.0b4) (0.31.0)\n",
            "Requirement already satisfied: networkx>=2.0 in /usr/local/lib/python3.6/dist-packages (from scikit-image->ketos==2.0.0b4) (2.4)\n",
            "Requirement already satisfied: imageio>=2.3.0 in /usr/local/lib/python3.6/dist-packages (from scikit-image->ketos==2.0.0b4) (2.4.1)\n",
            "Requirement already satisfied: pillow>=4.3.0 in /usr/local/lib/python3.6/dist-packages (from scikit-image->ketos==2.0.0b4) (7.0.0)\n",
            "Requirement already satisfied: PyWavelets>=0.4.0 in /usr/local/lib/python3.6/dist-packages (from scikit-image->ketos==2.0.0b4) (1.1.1)\n",
            "Requirement already satisfied: lexery>=1.0.0 in /usr/local/lib/python3.6/dist-packages (from datetime-glob->ketos==2.0.0b4) (1.1.0)\n",
            "Requirement already satisfied: requests<3,>=2.21.0 in /usr/local/lib/python3.6/dist-packages (from tensorboard<2.2.0,>=2.1.0->tensorflow==2.1->ketos==2.0.0b4) (2.23.0)\n",
            "Requirement already satisfied: markdown>=2.6.8 in /usr/local/lib/python3.6/dist-packages (from tensorboard<2.2.0,>=2.1.0->tensorflow==2.1->ketos==2.0.0b4) (3.2.2)\n",
            "Requirement already satisfied: werkzeug>=0.11.15 in /usr/local/lib/python3.6/dist-packages (from tensorboard<2.2.0,>=2.1.0->tensorflow==2.1->ketos==2.0.0b4) (1.0.1)\n",
            "Requirement already satisfied: google-auth<2,>=1.6.3 in /usr/local/lib/python3.6/dist-packages (from tensorboard<2.2.0,>=2.1.0->tensorflow==2.1->ketos==2.0.0b4) (1.7.2)\n",
            "Requirement already satisfied: google-auth-oauthlib<0.5,>=0.4.1 in /usr/local/lib/python3.6/dist-packages (from tensorboard<2.2.0,>=2.1.0->tensorflow==2.1->ketos==2.0.0b4) (0.4.1)\n",
            "Requirement already satisfied: h5py in /usr/local/lib/python3.6/dist-packages (from keras-applications>=1.0.8->tensorflow==2.1->ketos==2.0.0b4) (2.10.0)\n",
            "Requirement already satisfied: idna<3,>=2.5 in /usr/local/lib/python3.6/dist-packages (from requests<3,>=2.21.0->tensorboard<2.2.0,>=2.1.0->tensorflow==2.1->ketos==2.0.0b4) (2.9)\n",
            "Requirement already satisfied: urllib3!=1.25.0,!=1.25.1,<1.26,>=1.21.1 in /usr/local/lib/python3.6/dist-packages (from requests<3,>=2.21.0->tensorboard<2.2.0,>=2.1.0->tensorflow==2.1->ketos==2.0.0b4) (1.24.3)\n",
            "Requirement already satisfied: chardet<4,>=3.0.2 in /usr/local/lib/python3.6/dist-packages (from requests<3,>=2.21.0->tensorboard<2.2.0,>=2.1.0->tensorflow==2.1->ketos==2.0.0b4) (3.0.4)\n",
            "Requirement already satisfied: certifi>=2017.4.17 in /usr/local/lib/python3.6/dist-packages (from requests<3,>=2.21.0->tensorboard<2.2.0,>=2.1.0->tensorflow==2.1->ketos==2.0.0b4) (2020.4.5.1)\n",
            "Requirement already satisfied: importlib-metadata; python_version < \"3.8\" in /usr/local/lib/python3.6/dist-packages (from markdown>=2.6.8->tensorboard<2.2.0,>=2.1.0->tensorflow==2.1->ketos==2.0.0b4) (1.6.0)\n",
            "Requirement already satisfied: cachetools<3.2,>=2.0.0 in /usr/local/lib/python3.6/dist-packages (from google-auth<2,>=1.6.3->tensorboard<2.2.0,>=2.1.0->tensorflow==2.1->ketos==2.0.0b4) (3.1.1)\n",
            "Requirement already satisfied: rsa<4.1,>=3.1.4 in /usr/local/lib/python3.6/dist-packages (from google-auth<2,>=1.6.3->tensorboard<2.2.0,>=2.1.0->tensorflow==2.1->ketos==2.0.0b4) (4.0)\n",
            "Requirement already satisfied: pyasn1-modules>=0.2.1 in /usr/local/lib/python3.6/dist-packages (from google-auth<2,>=1.6.3->tensorboard<2.2.0,>=2.1.0->tensorflow==2.1->ketos==2.0.0b4) (0.2.8)\n",
            "Requirement already satisfied: requests-oauthlib>=0.7.0 in /usr/local/lib/python3.6/dist-packages (from google-auth-oauthlib<0.5,>=0.4.1->tensorboard<2.2.0,>=2.1.0->tensorflow==2.1->ketos==2.0.0b4) (1.3.0)\n",
            "Requirement already satisfied: zipp>=0.5 in /usr/local/lib/python3.6/dist-packages (from importlib-metadata; python_version < \"3.8\"->markdown>=2.6.8->tensorboard<2.2.0,>=2.1.0->tensorflow==2.1->ketos==2.0.0b4) (3.1.0)\n",
            "Requirement already satisfied: pyasn1>=0.1.3 in /usr/local/lib/python3.6/dist-packages (from rsa<4.1,>=3.1.4->google-auth<2,>=1.6.3->tensorboard<2.2.0,>=2.1.0->tensorflow==2.1->ketos==2.0.0b4) (0.4.8)\n",
            "Requirement already satisfied: oauthlib>=3.0.0 in /usr/local/lib/python3.6/dist-packages (from requests-oauthlib>=0.7.0->google-auth-oauthlib<0.5,>=0.4.1->tensorboard<2.2.0,>=2.1.0->tensorflow==2.1->ketos==2.0.0b4) (3.1.0)\n"
          ],
          "name": "stdout"
        }
      ]
    },
    {
      "cell_type": "markdown",
      "metadata": {
        "id": "FvTByoMcqXyi",
        "colab_type": "text"
      },
      "source": [
        "### Opening the database from where we want to read the data"
      ]
    },
    {
      "cell_type": "code",
      "metadata": {
        "id": "lS7DMyq8G83b",
        "colab_type": "code",
        "colab": {}
      },
      "source": [
        "db = dbi.open_file(\"/train_database.h5\", 'r')"
      ],
      "execution_count": null,
      "outputs": []
    },
    {
      "cell_type": "code",
      "metadata": {
        "id": "IFjU36Mbp3aH",
        "colab_type": "code",
        "colab": {
          "base_uri": "https://localhost:8080/",
          "height": 427
        },
        "outputId": "d8583be9-f527-40b3-cdb3-45880e426a76"
      },
      "source": [
        "db"
      ],
      "execution_count": null,
      "outputs": [
        {
          "output_type": "execute_result",
          "data": {
            "text/plain": [
              "File(filename=/train_database.h5, title='', mode='r', root_uep='/', filters=Filters(complevel=0, shuffle=False, bitshuffle=False, fletcher32=False, least_significant_digit=None))\n",
              "/ (RootGroup) ''\n",
              "/val3 (Group) ''\n",
              "/val3/data (Table(42,), fletcher32, shuffle, zlib(1)) ''\n",
              "  description := {\n",
              "  \"data\": Float32Col(shape=(94, 2433), dflt=0.0, pos=0),\n",
              "  \"filename\": StringCol(itemsize=100, shape=(), dflt=b'', pos=1),\n",
              "  \"id\": UInt32Col(shape=(), dflt=0, pos=2),\n",
              "  \"label\": UInt8Col(shape=(), dflt=0, pos=3),\n",
              "  \"offset\": Float64Col(shape=(), dflt=0.0, pos=4)}\n",
              "  byteorder := 'little'\n",
              "  chunkshape := (1,)\n",
              "/wav (Group) ''\n",
              "/wav/data (Table(1664,), fletcher32, shuffle, zlib(1)) ''\n",
              "  description := {\n",
              "  \"data\": Float32Col(shape=(94, 2433), dflt=0.0, pos=0),\n",
              "  \"filename\": StringCol(itemsize=100, shape=(), dflt=b'', pos=1),\n",
              "  \"id\": UInt32Col(shape=(), dflt=0, pos=2),\n",
              "  \"label\": UInt8Col(shape=(), dflt=0, pos=3),\n",
              "  \"offset\": Float64Col(shape=(), dflt=0.0, pos=4)}\n",
              "  byteorder := 'little'\n",
              "  chunkshape := (1,)"
            ]
          },
          "metadata": {
            "tags": []
          },
          "execution_count": 141
        }
      ]
    },
    {
      "cell_type": "markdown",
      "metadata": {
        "id": "nVWVQulEqdlh",
        "colab_type": "text"
      },
      "source": [
        "### Transform the data into necessary dimensions so that we could use it for training"
      ]
    },
    {
      "cell_type": "code",
      "metadata": {
        "id": "6UuVq9iiG8r5",
        "colab_type": "code",
        "colab": {}
      },
      "source": [
        "def transform_batch(X, Y):\n",
        "  x = X.reshape(X.shape[0],X.shape[1],X.shape[2],1)\n",
        "  y = tf.one_hot(Y['label'], depth=2, axis=1).numpy()\n",
        "  return x, y"
      ],
      "execution_count": null,
      "outputs": []
    },
    {
      "cell_type": "code",
      "metadata": {
        "id": "uAJB5bDdG8ly",
        "colab_type": "code",
        "colab": {}
      },
      "source": [
        "train_data = dbi.open_table(db, \"/wav/data\")"
      ],
      "execution_count": null,
      "outputs": []
    },
    {
      "cell_type": "code",
      "metadata": {
        "id": "fu-6S4PtJlQr",
        "colab_type": "code",
        "colab": {
          "base_uri": "https://localhost:8080/",
          "height": 176
        },
        "outputId": "b6e64185-1ef0-4e5c-ec12-e42bf2533ce9"
      },
      "source": [
        "train_data"
      ],
      "execution_count": null,
      "outputs": [
        {
          "output_type": "execute_result",
          "data": {
            "text/plain": [
              "/wav/data (Table(1664,), fletcher32, shuffle, zlib(1)) ''\n",
              "  description := {\n",
              "  \"data\": Float32Col(shape=(94, 2433), dflt=0.0, pos=0),\n",
              "  \"filename\": StringCol(itemsize=100, shape=(), dflt=b'', pos=1),\n",
              "  \"id\": UInt32Col(shape=(), dflt=0, pos=2),\n",
              "  \"label\": UInt8Col(shape=(), dflt=0, pos=3),\n",
              "  \"offset\": Float64Col(shape=(), dflt=0.0, pos=4)}\n",
              "  byteorder := 'little'\n",
              "  chunkshape := (1,)"
            ]
          },
          "metadata": {
            "tags": []
          },
          "execution_count": 146
        }
      ]
    },
    {
      "cell_type": "markdown",
      "metadata": {
        "id": "qIGwf6vOqu8r",
        "colab_type": "text"
      },
      "source": [
        "### Extract the data in batches for traning"
      ]
    },
    {
      "cell_type": "code",
      "metadata": {
        "id": "4h9v1Z3rtjob",
        "colab_type": "code",
        "colab": {}
      },
      "source": [
        "train_generator = BatchGenerator(batch_size=128, data_table=train_data, \n",
        "                                  output_transform_func=ResNetInterface.transform_batch,\n",
        "                                  shuffle=True, refresh_on_epoch_end=True)"
      ],
      "execution_count": null,
      "outputs": []
    },
    {
      "cell_type": "code",
      "metadata": {
        "id": "elaZvJb0to-z",
        "colab_type": "code",
        "colab": {
          "base_uri": "https://localhost:8080/",
          "height": 34
        },
        "outputId": "9c8dab4d-4b82-433a-eda9-a3086a75acaf"
      },
      "source": [
        "train_generator"
      ],
      "execution_count": null,
      "outputs": [
        {
          "output_type": "execute_result",
          "data": {
            "text/plain": [
              "<ketos.data_handling.data_feeding.BatchGenerator at 0x7efe90239748>"
            ]
          },
          "metadata": {
            "tags": []
          },
          "execution_count": 148
        }
      ]
    },
    {
      "cell_type": "markdown",
      "metadata": {
        "id": "2VDKqltTq03a",
        "colab_type": "text"
      },
      "source": [
        "#### The recipe file contains the ResNet model that we are going to use"
      ]
    },
    {
      "cell_type": "code",
      "metadata": {
        "id": "pFJxLF_Ltub3",
        "colab_type": "code",
        "colab": {}
      },
      "source": [
        "resnet = ResNetInterface.build_from_recipe_file(\"/recipe.json\")\n"
      ],
      "execution_count": null,
      "outputs": []
    },
    {
      "cell_type": "markdown",
      "metadata": {
        "id": "m7WXsBGRrBve",
        "colab_type": "text"
      },
      "source": [
        "#### Start training the model "
      ]
    },
    {
      "cell_type": "code",
      "metadata": {
        "id": "mTiNFew7uFt6",
        "colab_type": "code",
        "colab": {
          "base_uri": "https://localhost:8080/",
          "height": 1000
        },
        "outputId": "29a2f6e2-1f05-423b-89dc-19ccdad92e8a"
      },
      "source": [
        "db2 = dbi.open_file(\"/train_database.h5\", 'r')\n",
        "train_dataset = dbi.open_table(db2, \"/wav/data\")\n",
        "val_dataset = dbi.open_table(db2, \"/val3/data\")\n",
        "\n",
        "train_generator = BatchGenerator(batch_size=10, data_table=train_dataset,\n",
        "                             output_transform_func=ResNetInterface.transform_batch,\n",
        "                             shuffle=True, refresh_on_epoch_end=True)\n",
        "\n",
        "\n",
        "val_generator = BatchGenerator(batch_size=10, data_table=val_dataset,\n",
        "                             output_transform_func=ResNetInterface.transform_batch,\n",
        "                             shuffle=True, refresh_on_epoch_end=False)\n",
        "\n",
        "\n",
        "srkw = ResNetInterface.build_from_recipe_file(\"/recipe.json\")\n",
        "\n",
        "srkw.train_generator = train_generator\n",
        "srkw.val_generator = val_generator\n",
        "srkw.checkpoint_dir = \"my_checkpoints\"\n",
        "srkw.log_dir = \"my_logs\"\n",
        "\n",
        "srkw.train_loop(50,validate=True, log_csv=True)"
      ],
      "execution_count": null,
      "outputs": [
        {
          "output_type": "stream",
          "text": [
            "\n",
            "====================================================================================\n",
            "Epoch: 1 \n",
            "train_loss: 0.4287393093109131\n",
            "train_CategoricalAccuracy: 0.579 train_Precision: 0.600 train_Recall: 0.474 \n",
            "val_loss: 0.49949806928634644\n",
            "val_CategoricalAccuracy: 0.500 val_Precision: 0.500 val_Recall: 1.000 \n",
            "\n",
            "====================================================================================\n",
            "\n",
            "====================================================================================\n",
            "Epoch: 2 \n",
            "train_loss: 0.36158618330955505\n",
            "train_CategoricalAccuracy: 0.670 train_Precision: 0.689 train_Recall: 0.620 \n",
            "val_loss: 0.46444422006607056\n",
            "val_CategoricalAccuracy: 0.548 val_Precision: 1.000 val_Recall: 0.095 \n",
            "\n",
            "====================================================================================\n",
            "\n",
            "====================================================================================\n",
            "Epoch: 3 \n",
            "train_loss: 0.3429550230503082\n",
            "train_CategoricalAccuracy: 0.684 train_Precision: 0.686 train_Recall: 0.681 \n",
            "val_loss: 0.45973527431488037\n",
            "val_CategoricalAccuracy: 0.548 val_Precision: 1.000 val_Recall: 0.095 \n",
            "\n",
            "====================================================================================\n",
            "\n",
            "====================================================================================\n",
            "Epoch: 4 \n",
            "train_loss: 0.33020666241645813\n",
            "train_CategoricalAccuracy: 0.706 train_Precision: 0.711 train_Recall: 0.694 \n",
            "val_loss: 0.457150399684906\n",
            "val_CategoricalAccuracy: 0.548 val_Precision: 1.000 val_Recall: 0.095 \n",
            "\n",
            "====================================================================================\n",
            "\n",
            "====================================================================================\n",
            "Epoch: 5 \n",
            "train_loss: 0.3271583616733551\n",
            "train_CategoricalAccuracy: 0.709 train_Precision: 0.724 train_Recall: 0.675 \n",
            "val_loss: 0.49336522817611694\n",
            "val_CategoricalAccuracy: 0.500 val_Precision: 0.000 val_Recall: 0.000 \n",
            "\n",
            "====================================================================================\n",
            "\n",
            "====================================================================================\n",
            "Epoch: 6 \n",
            "train_loss: 0.31578490138053894\n",
            "train_CategoricalAccuracy: 0.719 train_Precision: 0.759 train_Recall: 0.643 \n",
            "val_loss: 0.4762342870235443\n",
            "val_CategoricalAccuracy: 0.500 val_Precision: 0.000 val_Recall: 0.000 \n",
            "\n",
            "====================================================================================\n",
            "\n",
            "====================================================================================\n",
            "Epoch: 7 \n",
            "train_loss: 0.29548701643943787\n",
            "train_CategoricalAccuracy: 0.740 train_Precision: 0.779 train_Recall: 0.671 \n",
            "val_loss: 0.46969401836395264\n",
            "val_CategoricalAccuracy: 0.524 val_Precision: 1.000 val_Recall: 0.048 \n",
            "\n",
            "====================================================================================\n",
            "\n",
            "====================================================================================\n",
            "Epoch: 8 \n",
            "train_loss: 0.2830909788608551\n",
            "train_CategoricalAccuracy: 0.764 train_Precision: 0.800 train_Recall: 0.703 \n",
            "val_loss: 0.46900200843811035\n",
            "val_CategoricalAccuracy: 0.500 val_Precision: 0.000 val_Recall: 0.000 \n",
            "\n",
            "====================================================================================\n",
            "\n",
            "====================================================================================\n",
            "Epoch: 9 \n",
            "train_loss: 0.2809007167816162\n",
            "train_CategoricalAccuracy: 0.766 train_Precision: 0.805 train_Recall: 0.701 \n",
            "val_loss: 0.4920065701007843\n",
            "val_CategoricalAccuracy: 0.500 val_Precision: 0.000 val_Recall: 0.000 \n",
            "\n",
            "====================================================================================\n",
            "\n",
            "====================================================================================\n",
            "Epoch: 10 \n",
            "train_loss: 0.28587430715560913\n",
            "train_CategoricalAccuracy: 0.749 train_Precision: 0.812 train_Recall: 0.649 \n",
            "val_loss: 0.4427506923675537\n",
            "val_CategoricalAccuracy: 0.548 val_Precision: 1.000 val_Recall: 0.095 \n",
            "\n",
            "====================================================================================\n",
            "\n",
            "====================================================================================\n",
            "Epoch: 11 \n",
            "train_loss: 0.2709415853023529\n",
            "train_CategoricalAccuracy: 0.766 train_Precision: 0.816 train_Recall: 0.688 \n",
            "val_loss: 0.4900205135345459\n",
            "val_CategoricalAccuracy: 0.500 val_Precision: 0.000 val_Recall: 0.000 \n",
            "\n",
            "====================================================================================\n",
            "\n",
            "====================================================================================\n",
            "Epoch: 12 \n",
            "train_loss: 0.27355095744132996\n",
            "train_CategoricalAccuracy: 0.754 train_Precision: 0.803 train_Recall: 0.673 \n",
            "val_loss: 0.4959728717803955\n",
            "val_CategoricalAccuracy: 0.500 val_Precision: 0.000 val_Recall: 0.000 \n",
            "\n",
            "====================================================================================\n",
            "\n",
            "====================================================================================\n",
            "Epoch: 13 \n",
            "train_loss: 0.2746814489364624\n",
            "train_CategoricalAccuracy: 0.765 train_Precision: 0.815 train_Recall: 0.686 \n",
            "val_loss: 0.47955024242401123\n",
            "val_CategoricalAccuracy: 0.524 val_Precision: 1.000 val_Recall: 0.048 \n",
            "\n",
            "====================================================================================\n",
            "\n",
            "====================================================================================\n",
            "Epoch: 14 \n",
            "train_loss: 0.26771581172943115\n",
            "train_CategoricalAccuracy: 0.766 train_Precision: 0.813 train_Recall: 0.691 \n",
            "val_loss: 0.4521663784980774\n",
            "val_CategoricalAccuracy: 0.524 val_Precision: 1.000 val_Recall: 0.048 \n",
            "\n",
            "====================================================================================\n",
            "\n",
            "====================================================================================\n",
            "Epoch: 15 \n",
            "train_loss: 0.25338971614837646\n",
            "train_CategoricalAccuracy: 0.790 train_Precision: 0.838 train_Recall: 0.720 \n",
            "val_loss: 0.47286927700042725\n",
            "val_CategoricalAccuracy: 0.524 val_Precision: 1.000 val_Recall: 0.048 \n",
            "\n",
            "====================================================================================\n",
            "\n",
            "====================================================================================\n",
            "Epoch: 16 \n",
            "train_loss: 0.25900349020957947\n",
            "train_CategoricalAccuracy: 0.784 train_Precision: 0.830 train_Recall: 0.714 \n",
            "val_loss: 0.47757720947265625\n",
            "val_CategoricalAccuracy: 0.500 val_Precision: 0.000 val_Recall: 0.000 \n",
            "\n",
            "====================================================================================\n",
            "\n",
            "====================================================================================\n",
            "Epoch: 17 \n",
            "train_loss: 0.26368317008018494\n",
            "train_CategoricalAccuracy: 0.774 train_Precision: 0.830 train_Recall: 0.689 \n",
            "val_loss: 0.4763230085372925\n",
            "val_CategoricalAccuracy: 0.524 val_Precision: 1.000 val_Recall: 0.048 \n",
            "\n",
            "====================================================================================\n",
            "\n",
            "====================================================================================\n",
            "Epoch: 18 \n",
            "train_loss: 0.2532486617565155\n",
            "train_CategoricalAccuracy: 0.782 train_Precision: 0.838 train_Recall: 0.698 \n",
            "val_loss: 0.4654971659183502\n",
            "val_CategoricalAccuracy: 0.524 val_Precision: 1.000 val_Recall: 0.048 \n",
            "\n",
            "====================================================================================\n",
            "\n",
            "====================================================================================\n",
            "Epoch: 19 \n",
            "train_loss: 0.250418484210968\n",
            "train_CategoricalAccuracy: 0.794 train_Precision: 0.854 train_Recall: 0.709 \n",
            "val_loss: 0.4858793020248413\n",
            "val_CategoricalAccuracy: 0.500 val_Precision: 0.000 val_Recall: 0.000 \n",
            "\n",
            "====================================================================================\n",
            "\n",
            "====================================================================================\n",
            "Epoch: 20 \n",
            "train_loss: 0.2532860040664673\n",
            "train_CategoricalAccuracy: 0.781 train_Precision: 0.820 train_Recall: 0.719 \n",
            "val_loss: 0.48817723989486694\n",
            "val_CategoricalAccuracy: 0.500 val_Precision: 0.000 val_Recall: 0.000 \n",
            "\n",
            "====================================================================================\n",
            "\n",
            "====================================================================================\n",
            "Epoch: 21 \n",
            "train_loss: 0.2418515831232071\n",
            "train_CategoricalAccuracy: 0.799 train_Precision: 0.852 train_Recall: 0.722 \n",
            "val_loss: 0.48846447467803955\n",
            "val_CategoricalAccuracy: 0.500 val_Precision: 0.000 val_Recall: 0.000 \n",
            "\n",
            "====================================================================================\n",
            "\n",
            "====================================================================================\n",
            "Epoch: 22 \n",
            "train_loss: 0.24740426242351532\n",
            "train_CategoricalAccuracy: 0.787 train_Precision: 0.823 train_Recall: 0.731 \n",
            "val_loss: 0.4240732192993164\n",
            "val_CategoricalAccuracy: 0.571 val_Precision: 1.000 val_Recall: 0.143 \n",
            "\n",
            "====================================================================================\n",
            "\n",
            "====================================================================================\n",
            "Epoch: 23 \n",
            "train_loss: 0.24662667512893677\n",
            "train_CategoricalAccuracy: 0.790 train_Precision: 0.830 train_Recall: 0.728 \n",
            "val_loss: 0.485711932182312\n",
            "val_CategoricalAccuracy: 0.500 val_Precision: 0.000 val_Recall: 0.000 \n",
            "\n",
            "====================================================================================\n",
            "\n",
            "====================================================================================\n",
            "Epoch: 24 \n",
            "train_loss: 0.23962806165218353\n",
            "train_CategoricalAccuracy: 0.802 train_Precision: 0.860 train_Recall: 0.722 \n",
            "val_loss: 0.46870577335357666\n",
            "val_CategoricalAccuracy: 0.500 val_Precision: 0.000 val_Recall: 0.000 \n",
            "\n",
            "====================================================================================\n",
            "\n",
            "====================================================================================\n",
            "Epoch: 25 \n",
            "train_loss: 0.24397985637187958\n",
            "train_CategoricalAccuracy: 0.794 train_Precision: 0.848 train_Recall: 0.716 \n",
            "val_loss: 0.484369695186615\n",
            "val_CategoricalAccuracy: 0.500 val_Precision: 0.000 val_Recall: 0.000 \n",
            "\n",
            "====================================================================================\n",
            "\n",
            "====================================================================================\n",
            "Epoch: 26 \n",
            "train_loss: 0.23957888782024384\n",
            "train_CategoricalAccuracy: 0.795 train_Precision: 0.840 train_Recall: 0.728 \n",
            "val_loss: 0.46470245718955994\n",
            "val_CategoricalAccuracy: 0.524 val_Precision: 1.000 val_Recall: 0.048 \n",
            "\n",
            "====================================================================================\n",
            "\n",
            "====================================================================================\n",
            "Epoch: 27 \n",
            "train_loss: 0.24887022376060486\n",
            "train_CategoricalAccuracy: 0.782 train_Precision: 0.835 train_Recall: 0.704 \n",
            "val_loss: 0.45328089594841003\n",
            "val_CategoricalAccuracy: 0.524 val_Precision: 1.000 val_Recall: 0.048 \n",
            "\n",
            "====================================================================================\n",
            "\n",
            "====================================================================================\n",
            "Epoch: 28 \n",
            "train_loss: 0.2380155473947525\n",
            "train_CategoricalAccuracy: 0.805 train_Precision: 0.852 train_Recall: 0.738 \n",
            "val_loss: 0.4569648802280426\n",
            "val_CategoricalAccuracy: 0.524 val_Precision: 1.000 val_Recall: 0.048 \n",
            "\n",
            "====================================================================================\n",
            "\n",
            "====================================================================================\n",
            "Epoch: 29 \n",
            "train_loss: 0.23387278616428375\n",
            "train_CategoricalAccuracy: 0.810 train_Precision: 0.850 train_Recall: 0.754 \n",
            "val_loss: 0.4681817889213562\n",
            "val_CategoricalAccuracy: 0.524 val_Precision: 1.000 val_Recall: 0.048 \n",
            "\n",
            "====================================================================================\n",
            "\n",
            "====================================================================================\n",
            "Epoch: 30 \n",
            "train_loss: 0.24018241465091705\n",
            "train_CategoricalAccuracy: 0.793 train_Precision: 0.856 train_Recall: 0.706 \n",
            "val_loss: 0.4889605939388275\n",
            "val_CategoricalAccuracy: 0.500 val_Precision: 0.000 val_Recall: 0.000 \n",
            "\n",
            "====================================================================================\n",
            "\n",
            "====================================================================================\n",
            "Epoch: 31 \n",
            "train_loss: 0.23314674198627472\n",
            "train_CategoricalAccuracy: 0.805 train_Precision: 0.850 train_Recall: 0.742 \n",
            "val_loss: 0.470164030790329\n",
            "val_CategoricalAccuracy: 0.524 val_Precision: 1.000 val_Recall: 0.048 \n",
            "\n",
            "====================================================================================\n",
            "\n",
            "====================================================================================\n",
            "Epoch: 32 \n",
            "train_loss: 0.2403239905834198\n",
            "train_CategoricalAccuracy: 0.796 train_Precision: 0.855 train_Recall: 0.714 \n",
            "val_loss: 0.466056764125824\n",
            "val_CategoricalAccuracy: 0.524 val_Precision: 1.000 val_Recall: 0.048 \n",
            "\n",
            "====================================================================================\n",
            "\n",
            "====================================================================================\n",
            "Epoch: 33 \n",
            "train_loss: 0.23249422013759613\n",
            "train_CategoricalAccuracy: 0.806 train_Precision: 0.858 train_Recall: 0.733 \n",
            "val_loss: 0.4862614870071411\n",
            "val_CategoricalAccuracy: 0.500 val_Precision: 0.000 val_Recall: 0.000 \n",
            "\n",
            "====================================================================================\n",
            "\n",
            "====================================================================================\n",
            "Epoch: 34 \n",
            "train_loss: 0.22935453057289124\n",
            "train_CategoricalAccuracy: 0.809 train_Precision: 0.869 train_Recall: 0.727 \n",
            "val_loss: 0.45897728204727173\n",
            "val_CategoricalAccuracy: 0.524 val_Precision: 1.000 val_Recall: 0.048 \n",
            "\n",
            "====================================================================================\n",
            "\n",
            "====================================================================================\n",
            "Epoch: 35 \n",
            "train_loss: 0.23506063222885132\n",
            "train_CategoricalAccuracy: 0.803 train_Precision: 0.865 train_Recall: 0.718 \n",
            "val_loss: 0.47145938873291016\n",
            "val_CategoricalAccuracy: 0.524 val_Precision: 1.000 val_Recall: 0.048 \n",
            "\n",
            "====================================================================================\n",
            "\n",
            "====================================================================================\n",
            "Epoch: 36 \n",
            "train_loss: 0.23591342568397522\n",
            "train_CategoricalAccuracy: 0.802 train_Precision: 0.866 train_Recall: 0.714 \n",
            "val_loss: 0.48995521664619446\n",
            "val_CategoricalAccuracy: 0.500 val_Precision: 0.000 val_Recall: 0.000 \n",
            "\n",
            "====================================================================================\n",
            "\n",
            "====================================================================================\n",
            "Epoch: 37 \n",
            "train_loss: 0.23334158957004547\n",
            "train_CategoricalAccuracy: 0.805 train_Precision: 0.847 train_Recall: 0.744 \n",
            "val_loss: 0.48224854469299316\n",
            "val_CategoricalAccuracy: 0.500 val_Precision: 0.000 val_Recall: 0.000 \n",
            "\n",
            "====================================================================================\n",
            "\n",
            "====================================================================================\n",
            "Epoch: 38 \n",
            "train_loss: 0.22917327284812927\n",
            "train_CategoricalAccuracy: 0.816 train_Precision: 0.859 train_Recall: 0.755 \n",
            "val_loss: 0.4507859945297241\n",
            "val_CategoricalAccuracy: 0.524 val_Precision: 1.000 val_Recall: 0.048 \n",
            "\n",
            "====================================================================================\n",
            "\n",
            "====================================================================================\n",
            "Epoch: 39 \n",
            "train_loss: 0.2301623821258545\n",
            "train_CategoricalAccuracy: 0.809 train_Precision: 0.863 train_Recall: 0.736 \n",
            "val_loss: 0.45502933859825134\n",
            "val_CategoricalAccuracy: 0.524 val_Precision: 1.000 val_Recall: 0.048 \n",
            "\n",
            "====================================================================================\n",
            "\n",
            "====================================================================================\n",
            "Epoch: 40 \n",
            "train_loss: 0.2320839762687683\n",
            "train_CategoricalAccuracy: 0.797 train_Precision: 0.849 train_Recall: 0.724 \n",
            "val_loss: 0.4371795058250427\n",
            "val_CategoricalAccuracy: 0.524 val_Precision: 1.000 val_Recall: 0.048 \n",
            "\n",
            "====================================================================================\n",
            "\n",
            "====================================================================================\n",
            "Epoch: 41 \n",
            "train_loss: 0.23254983127117157\n",
            "train_CategoricalAccuracy: 0.813 train_Precision: 0.875 train_Recall: 0.731 \n",
            "val_loss: 0.4743238687515259\n",
            "val_CategoricalAccuracy: 0.524 val_Precision: 1.000 val_Recall: 0.048 \n",
            "\n",
            "====================================================================================\n",
            "\n",
            "====================================================================================\n",
            "Epoch: 42 \n",
            "train_loss: 0.22045975923538208\n",
            "train_CategoricalAccuracy: 0.822 train_Precision: 0.881 train_Recall: 0.745 \n",
            "val_loss: 0.47847414016723633\n",
            "val_CategoricalAccuracy: 0.500 val_Precision: 0.000 val_Recall: 0.000 \n",
            "\n",
            "====================================================================================\n",
            "\n",
            "====================================================================================\n",
            "Epoch: 43 \n",
            "train_loss: 0.2292102724313736\n",
            "train_CategoricalAccuracy: 0.816 train_Precision: 0.873 train_Recall: 0.738 \n",
            "val_loss: 0.4657062292098999\n",
            "val_CategoricalAccuracy: 0.524 val_Precision: 1.000 val_Recall: 0.048 \n",
            "\n",
            "====================================================================================\n",
            "\n",
            "====================================================================================\n",
            "Epoch: 44 \n",
            "train_loss: 0.22731488943099976\n",
            "train_CategoricalAccuracy: 0.800 train_Precision: 0.858 train_Recall: 0.720 \n",
            "val_loss: 0.4810406565666199\n",
            "val_CategoricalAccuracy: 0.500 val_Precision: 0.000 val_Recall: 0.000 \n",
            "\n",
            "====================================================================================\n",
            "\n",
            "====================================================================================\n",
            "Epoch: 45 \n",
            "train_loss: 0.21725526452064514\n",
            "train_CategoricalAccuracy: 0.818 train_Precision: 0.876 train_Recall: 0.740 \n",
            "val_loss: 0.479744553565979\n",
            "val_CategoricalAccuracy: 0.524 val_Precision: 1.000 val_Recall: 0.048 \n",
            "\n",
            "====================================================================================\n",
            "\n",
            "====================================================================================\n",
            "Epoch: 46 \n",
            "train_loss: 0.2264363169670105\n",
            "train_CategoricalAccuracy: 0.808 train_Precision: 0.852 train_Recall: 0.746 \n",
            "val_loss: 0.4720701575279236\n",
            "val_CategoricalAccuracy: 0.524 val_Precision: 1.000 val_Recall: 0.048 \n",
            "\n",
            "====================================================================================\n",
            "\n",
            "====================================================================================\n",
            "Epoch: 47 \n",
            "train_loss: 0.2313305288553238\n",
            "train_CategoricalAccuracy: 0.806 train_Precision: 0.867 train_Recall: 0.724 \n",
            "val_loss: 0.4662592113018036\n",
            "val_CategoricalAccuracy: 0.524 val_Precision: 1.000 val_Recall: 0.048 \n",
            "\n",
            "====================================================================================\n",
            "\n",
            "====================================================================================\n",
            "Epoch: 48 \n",
            "train_loss: 0.22121025621891022\n",
            "train_CategoricalAccuracy: 0.819 train_Precision: 0.885 train_Recall: 0.733 \n",
            "val_loss: 0.4679526388645172\n",
            "val_CategoricalAccuracy: 0.524 val_Precision: 1.000 val_Recall: 0.048 \n",
            "\n",
            "====================================================================================\n",
            "\n",
            "====================================================================================\n",
            "Epoch: 49 \n",
            "train_loss: 0.22650489211082458\n",
            "train_CategoricalAccuracy: 0.819 train_Precision: 0.862 train_Recall: 0.758 \n",
            "val_loss: 0.47478342056274414\n",
            "val_CategoricalAccuracy: 0.524 val_Precision: 1.000 val_Recall: 0.048 \n",
            "\n",
            "====================================================================================\n",
            "\n",
            "====================================================================================\n",
            "Epoch: 50 \n",
            "train_loss: 0.21933504939079285\n",
            "train_CategoricalAccuracy: 0.813 train_Precision: 0.870 train_Recall: 0.737 \n",
            "val_loss: 0.44704732298851013\n",
            "val_CategoricalAccuracy: 0.524 val_Precision: 1.000 val_Recall: 0.048 \n",
            "\n",
            "====================================================================================\n"
          ],
          "name": "stdout"
        }
      ]
    },
    {
      "cell_type": "markdown",
      "metadata": {
        "id": "7R6lKsZ1rISQ",
        "colab_type": "text"
      },
      "source": [
        "#### Use different models to perform predictions"
      ]
    },
    {
      "cell_type": "code",
      "metadata": {
        "id": "zJVYWNC2uXvg",
        "colab_type": "code",
        "colab": {
          "base_uri": "https://localhost:8080/",
          "height": 1000
        },
        "outputId": "2d98aa85-7281-4c9a-cfe0-064f061dba8b"
      },
      "source": [
        "from ketos.neural_networks.cnn import CNNInterface\n",
        "from ketos.neural_networks.dev_utils.nn_interface import RecipeCompat\n",
        "import tensorflow as tf\n",
        "!pip install pysoundfile\n",
        "!pip install ketos==2.0.0b4\n",
        "\n",
        "import ketos.data_handling.database_interface as dbi\n",
        "from ketos.neural_networks.resnet import ResNetInterface\n",
        "from ketos.data_handling.data_feeding import BatchGenerator\n",
        "from ketos.neural_networks.cnn import CNNInterface\n"
      ],
      "execution_count": null,
      "outputs": [
        {
          "output_type": "stream",
          "text": [
            "Requirement already satisfied: pysoundfile in /usr/local/lib/python3.6/dist-packages (0.9.0.post1)\n",
            "Requirement already satisfied: cffi>=0.6 in /usr/local/lib/python3.6/dist-packages (from pysoundfile) (1.14.0)\n",
            "Requirement already satisfied: pycparser in /usr/local/lib/python3.6/dist-packages (from cffi>=0.6->pysoundfile) (2.20)\n",
            "Requirement already satisfied: ketos==2.0.0b4 in /usr/local/lib/python3.6/dist-packages (2.0.0b4)\n",
            "Requirement already satisfied: pint in /usr/local/lib/python3.6/dist-packages (from ketos==2.0.0b4) (0.12)\n",
            "Requirement already satisfied: setuptools>=41.0.0 in /usr/local/lib/python3.6/dist-packages (from ketos==2.0.0b4) (46.4.0)\n",
            "Requirement already satisfied: numba==0.48.0 in /usr/local/lib/python3.6/dist-packages (from ketos==2.0.0b4) (0.48.0)\n",
            "Requirement already satisfied: tensorflow-addons==0.8.3 in /usr/local/lib/python3.6/dist-packages (from ketos==2.0.0b4) (0.8.3)\n",
            "Requirement already satisfied: scikit-learn in /usr/local/lib/python3.6/dist-packages (from ketos==2.0.0b4) (0.22.2.post1)\n",
            "Requirement already satisfied: tables in /usr/local/lib/python3.6/dist-packages (from ketos==2.0.0b4) (3.4.4)\n",
            "Requirement already satisfied: matplotlib in /usr/local/lib/python3.6/dist-packages (from ketos==2.0.0b4) (3.2.1)\n",
            "Requirement already satisfied: scikit-image in /usr/local/lib/python3.6/dist-packages (from ketos==2.0.0b4) (0.16.2)\n",
            "Requirement already satisfied: librosa in /usr/local/lib/python3.6/dist-packages (from ketos==2.0.0b4) (0.6.3)\n",
            "Requirement already satisfied: datetime-glob in /usr/local/lib/python3.6/dist-packages (from ketos==2.0.0b4) (1.0.7)\n",
            "Requirement already satisfied: tqdm in /usr/local/lib/python3.6/dist-packages (from ketos==2.0.0b4) (4.41.1)\n",
            "Requirement already satisfied: scipy in /usr/local/lib/python3.6/dist-packages (from ketos==2.0.0b4) (1.4.1)\n",
            "Requirement already satisfied: numpy in /usr/local/lib/python3.6/dist-packages (from ketos==2.0.0b4) (1.18.4)\n",
            "Requirement already satisfied: psutil in /usr/local/lib/python3.6/dist-packages (from ketos==2.0.0b4) (5.4.8)\n",
            "Requirement already satisfied: pandas in /usr/local/lib/python3.6/dist-packages (from ketos==2.0.0b4) (1.0.3)\n",
            "Requirement already satisfied: tensorflow==2.1 in /usr/local/lib/python3.6/dist-packages (from ketos==2.0.0b4) (2.1.0)\n",
            "Requirement already satisfied: llvmlite<0.32.0,>=0.31.0dev0 in /usr/local/lib/python3.6/dist-packages (from numba==0.48.0->ketos==2.0.0b4) (0.31.0)\n",
            "Requirement already satisfied: typeguard in /usr/local/lib/python3.6/dist-packages (from tensorflow-addons==0.8.3->ketos==2.0.0b4) (2.7.1)\n",
            "Requirement already satisfied: joblib>=0.11 in /usr/local/lib/python3.6/dist-packages (from scikit-learn->ketos==2.0.0b4) (0.15.1)\n",
            "Requirement already satisfied: six>=1.9.0 in /usr/local/lib/python3.6/dist-packages (from tables->ketos==2.0.0b4) (1.12.0)\n",
            "Requirement already satisfied: numexpr>=2.5.2 in /usr/local/lib/python3.6/dist-packages (from tables->ketos==2.0.0b4) (2.7.1)\n",
            "Requirement already satisfied: python-dateutil>=2.1 in /usr/local/lib/python3.6/dist-packages (from matplotlib->ketos==2.0.0b4) (2.8.1)\n",
            "Requirement already satisfied: pyparsing!=2.0.4,!=2.1.2,!=2.1.6,>=2.0.1 in /usr/local/lib/python3.6/dist-packages (from matplotlib->ketos==2.0.0b4) (2.4.7)\n",
            "Requirement already satisfied: kiwisolver>=1.0.1 in /usr/local/lib/python3.6/dist-packages (from matplotlib->ketos==2.0.0b4) (1.2.0)\n",
            "Requirement already satisfied: cycler>=0.10 in /usr/local/lib/python3.6/dist-packages (from matplotlib->ketos==2.0.0b4) (0.10.0)\n",
            "Requirement already satisfied: PyWavelets>=0.4.0 in /usr/local/lib/python3.6/dist-packages (from scikit-image->ketos==2.0.0b4) (1.1.1)\n",
            "Requirement already satisfied: imageio>=2.3.0 in /usr/local/lib/python3.6/dist-packages (from scikit-image->ketos==2.0.0b4) (2.4.1)\n",
            "Requirement already satisfied: networkx>=2.0 in /usr/local/lib/python3.6/dist-packages (from scikit-image->ketos==2.0.0b4) (2.4)\n",
            "Requirement already satisfied: pillow>=4.3.0 in /usr/local/lib/python3.6/dist-packages (from scikit-image->ketos==2.0.0b4) (7.0.0)\n",
            "Requirement already satisfied: decorator>=3.0.0 in /usr/local/lib/python3.6/dist-packages (from librosa->ketos==2.0.0b4) (4.4.2)\n",
            "Requirement already satisfied: audioread>=2.0.0 in /usr/local/lib/python3.6/dist-packages (from librosa->ketos==2.0.0b4) (2.1.8)\n",
            "Requirement already satisfied: resampy>=0.2.0 in /usr/local/lib/python3.6/dist-packages (from librosa->ketos==2.0.0b4) (0.2.2)\n",
            "Requirement already satisfied: lexery>=1.0.0 in /usr/local/lib/python3.6/dist-packages (from datetime-glob->ketos==2.0.0b4) (1.1.0)\n",
            "Requirement already satisfied: pytz>=2017.2 in /usr/local/lib/python3.6/dist-packages (from pandas->ketos==2.0.0b4) (2018.9)\n",
            "Requirement already satisfied: opt-einsum>=2.3.2 in /usr/local/lib/python3.6/dist-packages (from tensorflow==2.1->ketos==2.0.0b4) (3.2.1)\n",
            "Requirement already satisfied: keras-applications>=1.0.8 in /usr/local/lib/python3.6/dist-packages (from tensorflow==2.1->ketos==2.0.0b4) (1.0.8)\n",
            "Requirement already satisfied: termcolor>=1.1.0 in /usr/local/lib/python3.6/dist-packages (from tensorflow==2.1->ketos==2.0.0b4) (1.1.0)\n",
            "Requirement already satisfied: absl-py>=0.7.0 in /usr/local/lib/python3.6/dist-packages (from tensorflow==2.1->ketos==2.0.0b4) (0.9.0)\n",
            "Requirement already satisfied: google-pasta>=0.1.6 in /usr/local/lib/python3.6/dist-packages (from tensorflow==2.1->ketos==2.0.0b4) (0.2.0)\n",
            "Requirement already satisfied: protobuf>=3.8.0 in /usr/local/lib/python3.6/dist-packages (from tensorflow==2.1->ketos==2.0.0b4) (3.10.0)\n",
            "Requirement already satisfied: keras-preprocessing>=1.1.0 in /usr/local/lib/python3.6/dist-packages (from tensorflow==2.1->ketos==2.0.0b4) (1.1.2)\n",
            "Requirement already satisfied: tensorflow-estimator<2.2.0,>=2.1.0rc0 in /usr/local/lib/python3.6/dist-packages (from tensorflow==2.1->ketos==2.0.0b4) (2.1.0)\n",
            "Requirement already satisfied: gast==0.2.2 in /usr/local/lib/python3.6/dist-packages (from tensorflow==2.1->ketos==2.0.0b4) (0.2.2)\n",
            "Requirement already satisfied: grpcio>=1.8.6 in /usr/local/lib/python3.6/dist-packages (from tensorflow==2.1->ketos==2.0.0b4) (1.29.0)\n",
            "Requirement already satisfied: astor>=0.6.0 in /usr/local/lib/python3.6/dist-packages (from tensorflow==2.1->ketos==2.0.0b4) (0.8.1)\n",
            "Requirement already satisfied: wrapt>=1.11.1 in /usr/local/lib/python3.6/dist-packages (from tensorflow==2.1->ketos==2.0.0b4) (1.12.1)\n",
            "Requirement already satisfied: wheel>=0.26; python_version >= \"3\" in /usr/local/lib/python3.6/dist-packages (from tensorflow==2.1->ketos==2.0.0b4) (0.34.2)\n",
            "Requirement already satisfied: tensorboard<2.2.0,>=2.1.0 in /usr/local/lib/python3.6/dist-packages (from tensorflow==2.1->ketos==2.0.0b4) (2.1.1)\n",
            "Requirement already satisfied: h5py in /usr/local/lib/python3.6/dist-packages (from keras-applications>=1.0.8->tensorflow==2.1->ketos==2.0.0b4) (2.10.0)\n",
            "Requirement already satisfied: markdown>=2.6.8 in /usr/local/lib/python3.6/dist-packages (from tensorboard<2.2.0,>=2.1.0->tensorflow==2.1->ketos==2.0.0b4) (3.2.2)\n",
            "Requirement already satisfied: google-auth-oauthlib<0.5,>=0.4.1 in /usr/local/lib/python3.6/dist-packages (from tensorboard<2.2.0,>=2.1.0->tensorflow==2.1->ketos==2.0.0b4) (0.4.1)\n",
            "Requirement already satisfied: werkzeug>=0.11.15 in /usr/local/lib/python3.6/dist-packages (from tensorboard<2.2.0,>=2.1.0->tensorflow==2.1->ketos==2.0.0b4) (1.0.1)\n",
            "Requirement already satisfied: google-auth<2,>=1.6.3 in /usr/local/lib/python3.6/dist-packages (from tensorboard<2.2.0,>=2.1.0->tensorflow==2.1->ketos==2.0.0b4) (1.7.2)\n",
            "Requirement already satisfied: requests<3,>=2.21.0 in /usr/local/lib/python3.6/dist-packages (from tensorboard<2.2.0,>=2.1.0->tensorflow==2.1->ketos==2.0.0b4) (2.23.0)\n",
            "Requirement already satisfied: importlib-metadata; python_version < \"3.8\" in /usr/local/lib/python3.6/dist-packages (from markdown>=2.6.8->tensorboard<2.2.0,>=2.1.0->tensorflow==2.1->ketos==2.0.0b4) (1.6.0)\n",
            "Requirement already satisfied: requests-oauthlib>=0.7.0 in /usr/local/lib/python3.6/dist-packages (from google-auth-oauthlib<0.5,>=0.4.1->tensorboard<2.2.0,>=2.1.0->tensorflow==2.1->ketos==2.0.0b4) (1.3.0)\n",
            "Requirement already satisfied: pyasn1-modules>=0.2.1 in /usr/local/lib/python3.6/dist-packages (from google-auth<2,>=1.6.3->tensorboard<2.2.0,>=2.1.0->tensorflow==2.1->ketos==2.0.0b4) (0.2.8)\n",
            "Requirement already satisfied: cachetools<3.2,>=2.0.0 in /usr/local/lib/python3.6/dist-packages (from google-auth<2,>=1.6.3->tensorboard<2.2.0,>=2.1.0->tensorflow==2.1->ketos==2.0.0b4) (3.1.1)\n",
            "Requirement already satisfied: rsa<4.1,>=3.1.4 in /usr/local/lib/python3.6/dist-packages (from google-auth<2,>=1.6.3->tensorboard<2.2.0,>=2.1.0->tensorflow==2.1->ketos==2.0.0b4) (4.0)\n",
            "Requirement already satisfied: certifi>=2017.4.17 in /usr/local/lib/python3.6/dist-packages (from requests<3,>=2.21.0->tensorboard<2.2.0,>=2.1.0->tensorflow==2.1->ketos==2.0.0b4) (2020.4.5.1)\n",
            "Requirement already satisfied: urllib3!=1.25.0,!=1.25.1,<1.26,>=1.21.1 in /usr/local/lib/python3.6/dist-packages (from requests<3,>=2.21.0->tensorboard<2.2.0,>=2.1.0->tensorflow==2.1->ketos==2.0.0b4) (1.24.3)\n",
            "Requirement already satisfied: chardet<4,>=3.0.2 in /usr/local/lib/python3.6/dist-packages (from requests<3,>=2.21.0->tensorboard<2.2.0,>=2.1.0->tensorflow==2.1->ketos==2.0.0b4) (3.0.4)\n",
            "Requirement already satisfied: idna<3,>=2.5 in /usr/local/lib/python3.6/dist-packages (from requests<3,>=2.21.0->tensorboard<2.2.0,>=2.1.0->tensorflow==2.1->ketos==2.0.0b4) (2.9)\n",
            "Requirement already satisfied: zipp>=0.5 in /usr/local/lib/python3.6/dist-packages (from importlib-metadata; python_version < \"3.8\"->markdown>=2.6.8->tensorboard<2.2.0,>=2.1.0->tensorflow==2.1->ketos==2.0.0b4) (3.1.0)\n",
            "Requirement already satisfied: oauthlib>=3.0.0 in /usr/local/lib/python3.6/dist-packages (from requests-oauthlib>=0.7.0->google-auth-oauthlib<0.5,>=0.4.1->tensorboard<2.2.0,>=2.1.0->tensorflow==2.1->ketos==2.0.0b4) (3.1.0)\n",
            "Requirement already satisfied: pyasn1<0.5.0,>=0.4.6 in /usr/local/lib/python3.6/dist-packages (from pyasn1-modules>=0.2.1->google-auth<2,>=1.6.3->tensorboard<2.2.0,>=2.1.0->tensorflow==2.1->ketos==2.0.0b4) (0.4.8)\n"
          ],
          "name": "stdout"
        },
        {
          "output_type": "stream",
          "text": [
            "/usr/local/lib/python3.6/dist-packages/numba/errors.py:137: UserWarning: Insufficiently recent colorama version found. Numba requires colorama >= 0.3.9\n",
            "  warnings.warn(msg)\n"
          ],
          "name": "stderr"
        }
      ]
    },
    {
      "cell_type": "code",
      "metadata": {
        "id": "x7tQsKtI8b8S",
        "colab_type": "code",
        "colab": {}
      },
      "source": [
        "vgg_like_recipe = {'convolutional_layers':  [{'n_filters':32, \"filter_shape\":(3,3), 'strides':1, 'padding':'valid', 'activation':'relu', 'max_pool': None, 'batch_normalization':True},\n",
        "                                    {'n_filters':32, \"filter_shape\":(3,3), 'strides':1, 'padding':'valid', 'activation':'relu', 'max_pool': None, 'batch_normalization':True},\n",
        "                                    {'n_filters':32, \"filter_shape\":(3,3), 'strides':1, 'padding':'valid','activation':'relu', 'max_pool':None, 'batch_normalization':True, },\n",
        "                                    {'n_filters':32, \"filter_shape\":(3,3), 'strides':1, 'padding':'valid','activation':'relu', 'max_pool':None, 'batch_normalization':True},\n",
        "                                    {'n_filters':32, \"filter_shape\":(3,3), 'strides':1, 'padding':'valid', 'activation':'relu', 'max_pool':None, 'batch_normalization':True, },\n",
        "                                    {'n_filters':32, \"filter_shape\":(3,3), 'strides':1, 'padding':'valid', 'activation':'relu', 'max_pool':None, 'batch_normalization':True, },\n",
        "                                    {'n_filters':32, \"filter_shape\":(3,3), 'strides':1, 'padding':'valid', 'activation':'relu', 'max_pool':None, 'batch_normalization':True,},\n",
        "                                    {'n_filters':32, \"filter_shape\":(3,3), 'strides':1, 'padding':'valid', 'activation':'relu', 'max_pool':None, 'batch_normalization':True},\n",
        "                                    {'n_filters':32, \"filter_shape\":(3,3), 'strides':1, 'padding':'valid', 'activation':'relu', 'max_pool':None, 'batch_normalization':True, },\n",
        "                                    {'n_filters':32, \"filter_shape\":(3,3), 'strides':1, 'padding':'valid', 'activation':'relu', 'max_pool':None, 'batch_normalization':True, },\n",
        "                                    {'n_filters':32, \"filter_shape\":(3,3), 'strides':1, 'padding':'valid', 'activation':'relu', 'max_pool':None, 'batch_normalization':True, },\n",
        "                                    {'n_filters':32, \"filter_shape\":(3,3), 'strides':1, 'padding':'valid', 'activation':'relu', 'max_pool':None, 'batch_normalization':True,},\n",
        "                                    {'n_filters':32, \"filter_shape\":(3,3), 'strides':1, 'padding':'valid', 'activation':'relu', 'max_pool':None, 'batch_normalization':True,},\n",
        "                                    {'n_filters':32, \"filter_shape\":(3,3), 'strides':1, 'padding':'valid', 'activation':'relu', 'max_pool':None, 'batch_normalization':True,},\n",
        "                                    {'n_filters':32, \"filter_shape\":(3,3), 'strides':1, 'padding':'valid', 'activation':'relu', 'max_pool':None, 'batch_normalization':True,},\n",
        "                                    {'n_filters':32, \"filter_shape\":(3,3), 'strides':1, 'padding':'valid', 'activation':'relu', 'max_pool':None, 'batch_normalization':True,}],\n",
        "                 \n",
        "                  'dense_layers':[{'n_hidden':4096, 'activation':'relu', 'batch_normalization':True, 'dropout':0.5},\n",
        "                                    {'n_hidden':4096, 'activation':'relu', 'batch_normalization':True, 'dropout':0.5},\n",
        "                                    {'n_hidden':4096, 'activation':'relu', 'batch_normalization':True, 'dropout':0.5},],\n",
        "                  'n_classes': 2 ,\n",
        "                  'optimizer': RecipeCompat('Adam', tf.keras.optimizers.Adam, learning_rate=0.005),\n",
        "                  'loss_function': RecipeCompat('BinaryCrossentropy', tf.keras.losses.BinaryCrossentropy),  \n",
        "                  'metrics': [RecipeCompat('BinaryAccuracy',tf.keras.metrics.BinaryAccuracy)]\n",
        "                  \n",
        "\n",
        "}\n",
        "\n",
        "\n"
      ],
      "execution_count": null,
      "outputs": []
    },
    {
      "cell_type": "code",
      "metadata": {
        "id": "gd7vr8QsC5CG",
        "colab_type": "code",
        "colab": {
          "base_uri": "https://localhost:8080/",
          "height": 176
        },
        "outputId": "ff00ff77-9977-485b-8fa1-ece78929798d"
      },
      "source": [
        "db2 = dbi.open_file(\"/train_database.h5\", 'r')\n",
        "train_dataset = dbi.open_table(db2, \"/wav/data\")\n",
        "val_dataset = dbi.open_table(db2, \"/val3/data\")\n",
        "train_dataset"
      ],
      "execution_count": null,
      "outputs": [
        {
          "output_type": "execute_result",
          "data": {
            "text/plain": [
              "/wav/data (Table(1664,), fletcher32, shuffle, zlib(1)) ''\n",
              "  description := {\n",
              "  \"data\": Float32Col(shape=(94, 2433), dflt=0.0, pos=0),\n",
              "  \"filename\": StringCol(itemsize=100, shape=(), dflt=b'', pos=1),\n",
              "  \"id\": UInt32Col(shape=(), dflt=0, pos=2),\n",
              "  \"label\": UInt8Col(shape=(), dflt=0, pos=3),\n",
              "  \"offset\": Float64Col(shape=(), dflt=0.0, pos=4)}\n",
              "  byteorder := 'little'\n",
              "  chunkshape := (1,)"
            ]
          },
          "metadata": {
            "tags": []
          },
          "execution_count": 3
        }
      ]
    },
    {
      "cell_type": "code",
      "metadata": {
        "id": "9q43I20bOl5S",
        "colab_type": "code",
        "colab": {
          "base_uri": "https://localhost:8080/",
          "height": 176
        },
        "outputId": "1a5dac5f-6b45-455d-b8c5-37643040af03"
      },
      "source": [
        "val_dataset"
      ],
      "execution_count": null,
      "outputs": [
        {
          "output_type": "execute_result",
          "data": {
            "text/plain": [
              "/val3/data (Table(42,), fletcher32, shuffle, zlib(1)) ''\n",
              "  description := {\n",
              "  \"data\": Float32Col(shape=(94, 2433), dflt=0.0, pos=0),\n",
              "  \"filename\": StringCol(itemsize=100, shape=(), dflt=b'', pos=1),\n",
              "  \"id\": UInt32Col(shape=(), dflt=0, pos=2),\n",
              "  \"label\": UInt8Col(shape=(), dflt=0, pos=3),\n",
              "  \"offset\": Float64Col(shape=(), dflt=0.0, pos=4)}\n",
              "  byteorder := 'little'\n",
              "  chunkshape := (1,)"
            ]
          },
          "metadata": {
            "tags": []
          },
          "execution_count": 4
        }
      ]
    },
    {
      "cell_type": "code",
      "metadata": {
        "id": "oGiRckCB9EPy",
        "colab_type": "code",
        "colab": {}
      },
      "source": [
        "\n",
        "train_generator = BatchGenerator(batch_size=3, data_table=train_dataset,\n",
        "                             output_transform_func=CNNInterface.transform_batch,\n",
        "                             shuffle=True, refresh_on_epoch_end=True)\n",
        "\n",
        "\n",
        "val_generator = BatchGenerator(batch_size=3, data_table=val_dataset,\n",
        "                             output_transform_func=CNNInterface.transform_batch,\n",
        "                             shuffle=True, refresh_on_epoch_end=False)"
      ],
      "execution_count": null,
      "outputs": []
    },
    {
      "cell_type": "code",
      "metadata": {
        "id": "l3Hs3RGHDgqb",
        "colab_type": "code",
        "colab": {}
      },
      "source": [
        ""
      ],
      "execution_count": null,
      "outputs": []
    },
    {
      "cell_type": "code",
      "metadata": {
        "id": "Nr4Ip1Wi9oK8",
        "colab_type": "code",
        "colab": {}
      },
      "source": [
        "recipex = {'conv_set':[[64, False], [128, True], [256, True]], # doctest: +SKIP\n",
        "               'dense_set': [512, ],\n",
        "               'n_classes':2,\n",
        "               'optimizer': {'name':'Adam', 'parameters': {'learning_rate':0.005}},\n",
        "               'loss_function': {'name':'FScoreLoss', 'parameters':{}},  \n",
        "               'metrics': [{'name':'CategoricalAccuracy', 'parameters':{}}]\n",
        "             }\n"
      ],
      "execution_count": null,
      "outputs": []
    },
    {
      "cell_type": "code",
      "metadata": {
        "id": "b7hNHtCu8vGY",
        "colab_type": "code",
        "colab": {
          "base_uri": "https://localhost:8080/",
          "height": 887
        },
        "outputId": "8ca2a8b6-c35c-4dbc-cec9-e790e38f771e"
      },
      "source": [
        "srkw = CNNInterface._build_from_recipe(default_cnn_recipe,recipe_compat=True)\n",
        "\n",
        "srkw.train_generator = train_generator\n",
        "srkw.val_generator = val_generator\n",
        "srkw.checkpoint_dir = \"iimy_checkpoints\"\n",
        "srkw.log_dir = \"iimy_logs\"\n",
        "\n",
        "srkw.train_loop(5,validate=True, log_csv=True)"
      ],
      "execution_count": null,
      "outputs": [
        {
          "output_type": "error",
          "ename": "ValueError",
          "evalue": "ignored",
          "traceback": [
            "\u001b[0;31m---------------------------------------------------------------------------\u001b[0m",
            "\u001b[0;31mValueError\u001b[0m                                Traceback (most recent call last)",
            "\u001b[0;32m<ipython-input-24-7ecf77d0e872>\u001b[0m in \u001b[0;36m<module>\u001b[0;34m()\u001b[0m\n\u001b[1;32m      6\u001b[0m \u001b[0msrkw\u001b[0m\u001b[0;34m.\u001b[0m\u001b[0mlog_dir\u001b[0m \u001b[0;34m=\u001b[0m \u001b[0;34m\"iimy_logs\"\u001b[0m\u001b[0;34m\u001b[0m\u001b[0;34m\u001b[0m\u001b[0m\n\u001b[1;32m      7\u001b[0m \u001b[0;34m\u001b[0m\u001b[0m\n\u001b[0;32m----> 8\u001b[0;31m \u001b[0msrkw\u001b[0m\u001b[0;34m.\u001b[0m\u001b[0mtrain_loop\u001b[0m\u001b[0;34m(\u001b[0m\u001b[0;36m5\u001b[0m\u001b[0;34m,\u001b[0m\u001b[0mvalidate\u001b[0m\u001b[0;34m=\u001b[0m\u001b[0;32mTrue\u001b[0m\u001b[0;34m,\u001b[0m \u001b[0mlog_csv\u001b[0m\u001b[0;34m=\u001b[0m\u001b[0;32mTrue\u001b[0m\u001b[0;34m)\u001b[0m\u001b[0;34m\u001b[0m\u001b[0;34m\u001b[0m\u001b[0m\n\u001b[0m",
            "\u001b[0;32m/usr/local/lib/python3.6/dist-packages/ketos/neural_networks/dev_utils/nn_interface.py\u001b[0m in \u001b[0;36mtrain_loop\u001b[0;34m(self, n_epochs, verbose, validate, log_tensorboard, tensorboard_metrics_name, log_csv, csv_name, checkpoint_freq)\u001b[0m\n\u001b[1;32m   1046\u001b[0m             \u001b[0;32mfor\u001b[0m \u001b[0mtrain_batch_id\u001b[0m \u001b[0;32min\u001b[0m \u001b[0mrange\u001b[0m\u001b[0;34m(\u001b[0m\u001b[0mself\u001b[0m\u001b[0;34m.\u001b[0m\u001b[0m_train_generator\u001b[0m\u001b[0;34m.\u001b[0m\u001b[0mn_batches\u001b[0m\u001b[0;34m)\u001b[0m\u001b[0;34m:\u001b[0m\u001b[0;34m\u001b[0m\u001b[0;34m\u001b[0m\u001b[0m\n\u001b[1;32m   1047\u001b[0m                 \u001b[0mtrain_X\u001b[0m\u001b[0;34m,\u001b[0m \u001b[0mtrain_Y\u001b[0m \u001b[0;34m=\u001b[0m \u001b[0mnext\u001b[0m\u001b[0;34m(\u001b[0m\u001b[0mself\u001b[0m\u001b[0;34m.\u001b[0m\u001b[0m_train_generator\u001b[0m\u001b[0;34m)\u001b[0m\u001b[0;34m\u001b[0m\u001b[0;34m\u001b[0m\u001b[0m\n\u001b[0;32m-> 1048\u001b[0;31m                 \u001b[0mself\u001b[0m\u001b[0;34m.\u001b[0m\u001b[0m_train_step\u001b[0m\u001b[0;34m(\u001b[0m\u001b[0mtrain_X\u001b[0m\u001b[0;34m,\u001b[0m \u001b[0mtrain_Y\u001b[0m\u001b[0;34m)\u001b[0m\u001b[0;34m\u001b[0m\u001b[0;34m\u001b[0m\u001b[0m\n\u001b[0m\u001b[1;32m   1049\u001b[0m \u001b[0;34m\u001b[0m\u001b[0m\n\u001b[1;32m   1050\u001b[0m             \u001b[0;32mif\u001b[0m \u001b[0mverbose\u001b[0m \u001b[0;34m==\u001b[0m \u001b[0;32mTrue\u001b[0m\u001b[0;34m:\u001b[0m\u001b[0;34m\u001b[0m\u001b[0;34m\u001b[0m\u001b[0m\n",
            "\u001b[0;32m/usr/local/lib/python3.6/dist-packages/tensorflow_core/python/eager/def_function.py\u001b[0m in \u001b[0;36m__call__\u001b[0;34m(self, *args, **kwds)\u001b[0m\n\u001b[1;32m    566\u001b[0m         \u001b[0mxla_context\u001b[0m\u001b[0;34m.\u001b[0m\u001b[0mExit\u001b[0m\u001b[0;34m(\u001b[0m\u001b[0;34m)\u001b[0m\u001b[0;34m\u001b[0m\u001b[0;34m\u001b[0m\u001b[0m\n\u001b[1;32m    567\u001b[0m     \u001b[0;32melse\u001b[0m\u001b[0;34m:\u001b[0m\u001b[0;34m\u001b[0m\u001b[0;34m\u001b[0m\u001b[0m\n\u001b[0;32m--> 568\u001b[0;31m       \u001b[0mresult\u001b[0m \u001b[0;34m=\u001b[0m \u001b[0mself\u001b[0m\u001b[0;34m.\u001b[0m\u001b[0m_call\u001b[0m\u001b[0;34m(\u001b[0m\u001b[0;34m*\u001b[0m\u001b[0margs\u001b[0m\u001b[0;34m,\u001b[0m \u001b[0;34m**\u001b[0m\u001b[0mkwds\u001b[0m\u001b[0;34m)\u001b[0m\u001b[0;34m\u001b[0m\u001b[0;34m\u001b[0m\u001b[0m\n\u001b[0m\u001b[1;32m    569\u001b[0m \u001b[0;34m\u001b[0m\u001b[0m\n\u001b[1;32m    570\u001b[0m     \u001b[0;32mif\u001b[0m \u001b[0mtracing_count\u001b[0m \u001b[0;34m==\u001b[0m \u001b[0mself\u001b[0m\u001b[0;34m.\u001b[0m\u001b[0m_get_tracing_count\u001b[0m\u001b[0;34m(\u001b[0m\u001b[0;34m)\u001b[0m\u001b[0;34m:\u001b[0m\u001b[0;34m\u001b[0m\u001b[0;34m\u001b[0m\u001b[0m\n",
            "\u001b[0;32m/usr/local/lib/python3.6/dist-packages/tensorflow_core/python/eager/def_function.py\u001b[0m in \u001b[0;36m_call\u001b[0;34m(self, *args, **kwds)\u001b[0m\n\u001b[1;32m    613\u001b[0m       \u001b[0;31m# This is the first call of __call__, so we have to initialize.\u001b[0m\u001b[0;34m\u001b[0m\u001b[0;34m\u001b[0m\u001b[0;34m\u001b[0m\u001b[0m\n\u001b[1;32m    614\u001b[0m       \u001b[0minitializers\u001b[0m \u001b[0;34m=\u001b[0m \u001b[0;34m[\u001b[0m\u001b[0;34m]\u001b[0m\u001b[0;34m\u001b[0m\u001b[0;34m\u001b[0m\u001b[0m\n\u001b[0;32m--> 615\u001b[0;31m       \u001b[0mself\u001b[0m\u001b[0;34m.\u001b[0m\u001b[0m_initialize\u001b[0m\u001b[0;34m(\u001b[0m\u001b[0margs\u001b[0m\u001b[0;34m,\u001b[0m \u001b[0mkwds\u001b[0m\u001b[0;34m,\u001b[0m \u001b[0madd_initializers_to\u001b[0m\u001b[0;34m=\u001b[0m\u001b[0minitializers\u001b[0m\u001b[0;34m)\u001b[0m\u001b[0;34m\u001b[0m\u001b[0;34m\u001b[0m\u001b[0m\n\u001b[0m\u001b[1;32m    616\u001b[0m     \u001b[0;32mfinally\u001b[0m\u001b[0;34m:\u001b[0m\u001b[0;34m\u001b[0m\u001b[0;34m\u001b[0m\u001b[0m\n\u001b[1;32m    617\u001b[0m       \u001b[0;31m# At this point we know that the initialization is complete (or less\u001b[0m\u001b[0;34m\u001b[0m\u001b[0;34m\u001b[0m\u001b[0;34m\u001b[0m\u001b[0m\n",
            "\u001b[0;32m/usr/local/lib/python3.6/dist-packages/tensorflow_core/python/eager/def_function.py\u001b[0m in \u001b[0;36m_initialize\u001b[0;34m(self, args, kwds, add_initializers_to)\u001b[0m\n\u001b[1;32m    495\u001b[0m     self._concrete_stateful_fn = (\n\u001b[1;32m    496\u001b[0m         self._stateful_fn._get_concrete_function_internal_garbage_collected(  # pylint: disable=protected-access\n\u001b[0;32m--> 497\u001b[0;31m             *args, **kwds))\n\u001b[0m\u001b[1;32m    498\u001b[0m \u001b[0;34m\u001b[0m\u001b[0m\n\u001b[1;32m    499\u001b[0m     \u001b[0;32mdef\u001b[0m \u001b[0minvalid_creator_scope\u001b[0m\u001b[0;34m(\u001b[0m\u001b[0;34m*\u001b[0m\u001b[0munused_args\u001b[0m\u001b[0;34m,\u001b[0m \u001b[0;34m**\u001b[0m\u001b[0munused_kwds\u001b[0m\u001b[0;34m)\u001b[0m\u001b[0;34m:\u001b[0m\u001b[0;34m\u001b[0m\u001b[0;34m\u001b[0m\u001b[0m\n",
            "\u001b[0;32m/usr/local/lib/python3.6/dist-packages/tensorflow_core/python/eager/function.py\u001b[0m in \u001b[0;36m_get_concrete_function_internal_garbage_collected\u001b[0;34m(self, *args, **kwargs)\u001b[0m\n\u001b[1;32m   2387\u001b[0m       \u001b[0margs\u001b[0m\u001b[0;34m,\u001b[0m \u001b[0mkwargs\u001b[0m \u001b[0;34m=\u001b[0m \u001b[0;32mNone\u001b[0m\u001b[0;34m,\u001b[0m \u001b[0;32mNone\u001b[0m\u001b[0;34m\u001b[0m\u001b[0;34m\u001b[0m\u001b[0m\n\u001b[1;32m   2388\u001b[0m     \u001b[0;32mwith\u001b[0m \u001b[0mself\u001b[0m\u001b[0;34m.\u001b[0m\u001b[0m_lock\u001b[0m\u001b[0;34m:\u001b[0m\u001b[0;34m\u001b[0m\u001b[0;34m\u001b[0m\u001b[0m\n\u001b[0;32m-> 2389\u001b[0;31m       \u001b[0mgraph_function\u001b[0m\u001b[0;34m,\u001b[0m \u001b[0m_\u001b[0m\u001b[0;34m,\u001b[0m \u001b[0m_\u001b[0m \u001b[0;34m=\u001b[0m \u001b[0mself\u001b[0m\u001b[0;34m.\u001b[0m\u001b[0m_maybe_define_function\u001b[0m\u001b[0;34m(\u001b[0m\u001b[0margs\u001b[0m\u001b[0;34m,\u001b[0m \u001b[0mkwargs\u001b[0m\u001b[0;34m)\u001b[0m\u001b[0;34m\u001b[0m\u001b[0;34m\u001b[0m\u001b[0m\n\u001b[0m\u001b[1;32m   2390\u001b[0m     \u001b[0;32mreturn\u001b[0m \u001b[0mgraph_function\u001b[0m\u001b[0;34m\u001b[0m\u001b[0;34m\u001b[0m\u001b[0m\n\u001b[1;32m   2391\u001b[0m \u001b[0;34m\u001b[0m\u001b[0m\n",
            "\u001b[0;32m/usr/local/lib/python3.6/dist-packages/tensorflow_core/python/eager/function.py\u001b[0m in \u001b[0;36m_maybe_define_function\u001b[0;34m(self, args, kwargs)\u001b[0m\n\u001b[1;32m   2701\u001b[0m \u001b[0;34m\u001b[0m\u001b[0m\n\u001b[1;32m   2702\u001b[0m       \u001b[0mself\u001b[0m\u001b[0;34m.\u001b[0m\u001b[0m_function_cache\u001b[0m\u001b[0;34m.\u001b[0m\u001b[0mmissed\u001b[0m\u001b[0;34m.\u001b[0m\u001b[0madd\u001b[0m\u001b[0;34m(\u001b[0m\u001b[0mcall_context_key\u001b[0m\u001b[0;34m)\u001b[0m\u001b[0;34m\u001b[0m\u001b[0;34m\u001b[0m\u001b[0m\n\u001b[0;32m-> 2703\u001b[0;31m       \u001b[0mgraph_function\u001b[0m \u001b[0;34m=\u001b[0m \u001b[0mself\u001b[0m\u001b[0;34m.\u001b[0m\u001b[0m_create_graph_function\u001b[0m\u001b[0;34m(\u001b[0m\u001b[0margs\u001b[0m\u001b[0;34m,\u001b[0m \u001b[0mkwargs\u001b[0m\u001b[0;34m)\u001b[0m\u001b[0;34m\u001b[0m\u001b[0;34m\u001b[0m\u001b[0m\n\u001b[0m\u001b[1;32m   2704\u001b[0m       \u001b[0mself\u001b[0m\u001b[0;34m.\u001b[0m\u001b[0m_function_cache\u001b[0m\u001b[0;34m.\u001b[0m\u001b[0mprimary\u001b[0m\u001b[0;34m[\u001b[0m\u001b[0mcache_key\u001b[0m\u001b[0;34m]\u001b[0m \u001b[0;34m=\u001b[0m \u001b[0mgraph_function\u001b[0m\u001b[0;34m\u001b[0m\u001b[0;34m\u001b[0m\u001b[0m\n\u001b[1;32m   2705\u001b[0m       \u001b[0;32mreturn\u001b[0m \u001b[0mgraph_function\u001b[0m\u001b[0;34m,\u001b[0m \u001b[0margs\u001b[0m\u001b[0;34m,\u001b[0m \u001b[0mkwargs\u001b[0m\u001b[0;34m\u001b[0m\u001b[0;34m\u001b[0m\u001b[0m\n",
            "\u001b[0;32m/usr/local/lib/python3.6/dist-packages/tensorflow_core/python/eager/function.py\u001b[0m in \u001b[0;36m_create_graph_function\u001b[0;34m(self, args, kwargs, override_flat_arg_shapes)\u001b[0m\n\u001b[1;32m   2591\u001b[0m             \u001b[0marg_names\u001b[0m\u001b[0;34m=\u001b[0m\u001b[0marg_names\u001b[0m\u001b[0;34m,\u001b[0m\u001b[0;34m\u001b[0m\u001b[0;34m\u001b[0m\u001b[0m\n\u001b[1;32m   2592\u001b[0m             \u001b[0moverride_flat_arg_shapes\u001b[0m\u001b[0;34m=\u001b[0m\u001b[0moverride_flat_arg_shapes\u001b[0m\u001b[0;34m,\u001b[0m\u001b[0;34m\u001b[0m\u001b[0;34m\u001b[0m\u001b[0m\n\u001b[0;32m-> 2593\u001b[0;31m             capture_by_value=self._capture_by_value),\n\u001b[0m\u001b[1;32m   2594\u001b[0m         \u001b[0mself\u001b[0m\u001b[0;34m.\u001b[0m\u001b[0m_function_attributes\u001b[0m\u001b[0;34m,\u001b[0m\u001b[0;34m\u001b[0m\u001b[0;34m\u001b[0m\u001b[0m\n\u001b[1;32m   2595\u001b[0m         \u001b[0;31m# Tell the ConcreteFunction to clean up its graph once it goes out of\u001b[0m\u001b[0;34m\u001b[0m\u001b[0;34m\u001b[0m\u001b[0;34m\u001b[0m\u001b[0m\n",
            "\u001b[0;32m/usr/local/lib/python3.6/dist-packages/tensorflow_core/python/framework/func_graph.py\u001b[0m in \u001b[0;36mfunc_graph_from_py_func\u001b[0;34m(name, python_func, args, kwargs, signature, func_graph, autograph, autograph_options, add_control_dependencies, arg_names, op_return_value, collections, capture_by_value, override_flat_arg_shapes)\u001b[0m\n\u001b[1;32m    976\u001b[0m                                           converted_func)\n\u001b[1;32m    977\u001b[0m \u001b[0;34m\u001b[0m\u001b[0m\n\u001b[0;32m--> 978\u001b[0;31m       \u001b[0mfunc_outputs\u001b[0m \u001b[0;34m=\u001b[0m \u001b[0mpython_func\u001b[0m\u001b[0;34m(\u001b[0m\u001b[0;34m*\u001b[0m\u001b[0mfunc_args\u001b[0m\u001b[0;34m,\u001b[0m \u001b[0;34m**\u001b[0m\u001b[0mfunc_kwargs\u001b[0m\u001b[0;34m)\u001b[0m\u001b[0;34m\u001b[0m\u001b[0;34m\u001b[0m\u001b[0m\n\u001b[0m\u001b[1;32m    979\u001b[0m \u001b[0;34m\u001b[0m\u001b[0m\n\u001b[1;32m    980\u001b[0m       \u001b[0;31m# invariant: `func_outputs` contains only Tensors, CompositeTensors,\u001b[0m\u001b[0;34m\u001b[0m\u001b[0;34m\u001b[0m\u001b[0;34m\u001b[0m\u001b[0m\n",
            "\u001b[0;32m/usr/local/lib/python3.6/dist-packages/tensorflow_core/python/eager/def_function.py\u001b[0m in \u001b[0;36mwrapped_fn\u001b[0;34m(*args, **kwds)\u001b[0m\n\u001b[1;32m    437\u001b[0m         \u001b[0;31m# __wrapped__ allows AutoGraph to swap in a converted function. We give\u001b[0m\u001b[0;34m\u001b[0m\u001b[0;34m\u001b[0m\u001b[0;34m\u001b[0m\u001b[0m\n\u001b[1;32m    438\u001b[0m         \u001b[0;31m# the function a weak reference to itself to avoid a reference cycle.\u001b[0m\u001b[0;34m\u001b[0m\u001b[0;34m\u001b[0m\u001b[0;34m\u001b[0m\u001b[0m\n\u001b[0;32m--> 439\u001b[0;31m         \u001b[0;32mreturn\u001b[0m \u001b[0mweak_wrapped_fn\u001b[0m\u001b[0;34m(\u001b[0m\u001b[0;34m)\u001b[0m\u001b[0;34m.\u001b[0m\u001b[0m__wrapped__\u001b[0m\u001b[0;34m(\u001b[0m\u001b[0;34m*\u001b[0m\u001b[0margs\u001b[0m\u001b[0;34m,\u001b[0m \u001b[0;34m**\u001b[0m\u001b[0mkwds\u001b[0m\u001b[0;34m)\u001b[0m\u001b[0;34m\u001b[0m\u001b[0;34m\u001b[0m\u001b[0m\n\u001b[0m\u001b[1;32m    440\u001b[0m     \u001b[0mweak_wrapped_fn\u001b[0m \u001b[0;34m=\u001b[0m \u001b[0mweakref\u001b[0m\u001b[0;34m.\u001b[0m\u001b[0mref\u001b[0m\u001b[0;34m(\u001b[0m\u001b[0mwrapped_fn\u001b[0m\u001b[0;34m)\u001b[0m\u001b[0;34m\u001b[0m\u001b[0;34m\u001b[0m\u001b[0m\n\u001b[1;32m    441\u001b[0m \u001b[0;34m\u001b[0m\u001b[0m\n",
            "\u001b[0;32m/usr/local/lib/python3.6/dist-packages/tensorflow_core/python/eager/function.py\u001b[0m in \u001b[0;36mbound_method_wrapper\u001b[0;34m(*args, **kwargs)\u001b[0m\n\u001b[1;32m   3209\u001b[0m     \u001b[0;31m# However, the replacer is still responsible for attaching self properly.\u001b[0m\u001b[0;34m\u001b[0m\u001b[0;34m\u001b[0m\u001b[0;34m\u001b[0m\u001b[0m\n\u001b[1;32m   3210\u001b[0m     \u001b[0;31m# TODO(mdan): Is it possible to do it here instead?\u001b[0m\u001b[0;34m\u001b[0m\u001b[0;34m\u001b[0m\u001b[0;34m\u001b[0m\u001b[0m\n\u001b[0;32m-> 3211\u001b[0;31m     \u001b[0;32mreturn\u001b[0m \u001b[0mwrapped_fn\u001b[0m\u001b[0;34m(\u001b[0m\u001b[0;34m*\u001b[0m\u001b[0margs\u001b[0m\u001b[0;34m,\u001b[0m \u001b[0;34m**\u001b[0m\u001b[0mkwargs\u001b[0m\u001b[0;34m)\u001b[0m\u001b[0;34m\u001b[0m\u001b[0;34m\u001b[0m\u001b[0m\n\u001b[0m\u001b[1;32m   3212\u001b[0m   \u001b[0mweak_bound_method_wrapper\u001b[0m \u001b[0;34m=\u001b[0m \u001b[0mweakref\u001b[0m\u001b[0;34m.\u001b[0m\u001b[0mref\u001b[0m\u001b[0;34m(\u001b[0m\u001b[0mbound_method_wrapper\u001b[0m\u001b[0;34m)\u001b[0m\u001b[0;34m\u001b[0m\u001b[0;34m\u001b[0m\u001b[0m\n\u001b[1;32m   3213\u001b[0m \u001b[0;34m\u001b[0m\u001b[0m\n",
            "\u001b[0;32m/usr/local/lib/python3.6/dist-packages/tensorflow_core/python/framework/func_graph.py\u001b[0m in \u001b[0;36mwrapper\u001b[0;34m(*args, **kwargs)\u001b[0m\n\u001b[1;32m    966\u001b[0m           \u001b[0;32mexcept\u001b[0m \u001b[0mException\u001b[0m \u001b[0;32mas\u001b[0m \u001b[0me\u001b[0m\u001b[0;34m:\u001b[0m  \u001b[0;31m# pylint:disable=broad-except\u001b[0m\u001b[0;34m\u001b[0m\u001b[0;34m\u001b[0m\u001b[0m\n\u001b[1;32m    967\u001b[0m             \u001b[0;32mif\u001b[0m \u001b[0mhasattr\u001b[0m\u001b[0;34m(\u001b[0m\u001b[0me\u001b[0m\u001b[0;34m,\u001b[0m \u001b[0;34m\"ag_error_metadata\"\u001b[0m\u001b[0;34m)\u001b[0m\u001b[0;34m:\u001b[0m\u001b[0;34m\u001b[0m\u001b[0;34m\u001b[0m\u001b[0m\n\u001b[0;32m--> 968\u001b[0;31m               \u001b[0;32mraise\u001b[0m \u001b[0me\u001b[0m\u001b[0;34m.\u001b[0m\u001b[0mag_error_metadata\u001b[0m\u001b[0;34m.\u001b[0m\u001b[0mto_exception\u001b[0m\u001b[0;34m(\u001b[0m\u001b[0me\u001b[0m\u001b[0;34m)\u001b[0m\u001b[0;34m\u001b[0m\u001b[0;34m\u001b[0m\u001b[0m\n\u001b[0m\u001b[1;32m    969\u001b[0m             \u001b[0;32melse\u001b[0m\u001b[0;34m:\u001b[0m\u001b[0;34m\u001b[0m\u001b[0;34m\u001b[0m\u001b[0m\n\u001b[1;32m    970\u001b[0m               \u001b[0;32mraise\u001b[0m\u001b[0;34m\u001b[0m\u001b[0;34m\u001b[0m\u001b[0m\n",
            "\u001b[0;31mValueError\u001b[0m: in converted code:\n\n    /usr/local/lib/python3.6/dist-packages/ketos/neural_networks/dev_utils/nn_interface.py:952 _train_step  *\n        loss = self.loss_function.instance(labels, predictions)\n    /usr/local/lib/python3.6/dist-packages/tensorflow_core/python/keras/losses.py:126 __call__\n        losses = self.call(y_true, y_pred)\n    /usr/local/lib/python3.6/dist-packages/tensorflow_core/python/keras/losses.py:221 call\n        return self.fn(y_true, y_pred, **self._fn_kwargs)\n    /usr/local/lib/python3.6/dist-packages/tensorflow_core/python/keras/losses.py:994 binary_crossentropy\n        K.binary_crossentropy(y_true, y_pred, from_logits=from_logits), axis=-1)\n    /usr/local/lib/python3.6/dist-packages/tensorflow_core/python/keras/backend.py:4606 binary_crossentropy\n        bce = target * math_ops.log(output + epsilon())\n    /usr/local/lib/python3.6/dist-packages/tensorflow_core/python/ops/math_ops.py:902 binary_op_wrapper\n        return func(x, y, name=name)\n    /usr/local/lib/python3.6/dist-packages/tensorflow_core/python/ops/math_ops.py:1201 _mul_dispatch\n        return gen_math_ops.mul(x, y, name=name)\n    /usr/local/lib/python3.6/dist-packages/tensorflow_core/python/ops/gen_math_ops.py:6125 mul\n        \"Mul\", x=x, y=y, name=name)\n    /usr/local/lib/python3.6/dist-packages/tensorflow_core/python/framework/op_def_library.py:742 _apply_op_helper\n        attrs=attr_protos, op_def=op_def)\n    /usr/local/lib/python3.6/dist-packages/tensorflow_core/python/framework/func_graph.py:595 _create_op_internal\n        compute_device)\n    /usr/local/lib/python3.6/dist-packages/tensorflow_core/python/framework/ops.py:3322 _create_op_internal\n        op_def=op_def)\n    /usr/local/lib/python3.6/dist-packages/tensorflow_core/python/framework/ops.py:1786 __init__\n        control_input_ops)\n    /usr/local/lib/python3.6/dist-packages/tensorflow_core/python/framework/ops.py:1622 _create_c_op\n        raise ValueError(str(e))\n\n    ValueError: Dimensions must be equal, but are 3 and 150 for 'binary_crossentropy/mul' (op: 'Mul') with input shapes: [3,2], [3,3,150,2].\n"
          ]
        }
      ]
    },
    {
      "cell_type": "code",
      "metadata": {
        "id": "xrdeqXMO8zUD",
        "colab_type": "code",
        "colab": {}
      },
      "source": [
        "from ketos.neural_networks.cnn import default_cnn_recipe"
      ],
      "execution_count": null,
      "outputs": []
    },
    {
      "cell_type": "code",
      "metadata": {
        "id": "e2vtP5iEGdnc",
        "colab_type": "code",
        "colab": {
          "base_uri": "https://localhost:8080/",
          "height": 478
        },
        "outputId": "79035b77-55e6-4130-c08c-36773c09a55c"
      },
      "source": [
        "default_cnn_recipe"
      ],
      "execution_count": null,
      "outputs": [
        {
          "output_type": "execute_result",
          "data": {
            "text/plain": [
              "{'convolutional_layers': [{'activation': 'relu',\n",
              "   'batch_normalization': True,\n",
              "   'filter_shape': (8, 8),\n",
              "   'max_pool': {'pool_size': (3, 3), 'strides': (2, 2)},\n",
              "   'n_filters': 32,\n",
              "   'padding': 'valid',\n",
              "   'strides': 4},\n",
              "  {'activation': 'relu',\n",
              "   'batch_normalization': True,\n",
              "   'filter_shape': (3, 3),\n",
              "   'max_pool': {'pool_size': (3, 3), 'strides': (2, 2)},\n",
              "   'n_filters': 64,\n",
              "   'padding': 'valid',\n",
              "   'strides': 1}],\n",
              " 'dense_layers': [{'activation': 'relu',\n",
              "   'batch_normalization': True,\n",
              "   'dropout': 0.5,\n",
              "   'n_hidden': 512},\n",
              "  {'activation': 'relu',\n",
              "   'batch_normalization': True,\n",
              "   'dropout': 0.5,\n",
              "   'n_hidden': 128}],\n",
              " 'loss_function': BinaryCrossentropy ketos recipe,\n",
              " 'metrics': [BinaryAccuracy ketos recipe],\n",
              " 'n_classes': 2,\n",
              " 'optimizer': Adam ketos recipe}"
            ]
          },
          "metadata": {
            "tags": []
          },
          "execution_count": 8
        }
      ]
    },
    {
      "cell_type": "code",
      "metadata": {
        "id": "hlxb7AJ1WKPx",
        "colab_type": "code",
        "colab": {}
      },
      "source": [
        ""
      ],
      "execution_count": null,
      "outputs": []
    },
    {
      "cell_type": "code",
      "metadata": {
        "id": "GbLwrGrqGpnv",
        "colab_type": "code",
        "colab": {}
      },
      "source": [
        ""
      ],
      "execution_count": null,
      "outputs": []
    }
  ]
}